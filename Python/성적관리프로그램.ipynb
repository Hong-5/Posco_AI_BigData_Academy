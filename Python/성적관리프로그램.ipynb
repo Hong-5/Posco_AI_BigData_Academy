{
 "cells": [
  {
   "cell_type": "markdown",
   "metadata": {},
   "source": [
    "# 0-1. 학점 생성 함수\n",
    "\n",
    "- 평균성적을 받아서 grade 리턴"
   ]
  },
  {
   "cell_type": "code",
   "execution_count": 65,
   "metadata": {},
   "outputs": [],
   "source": [
    "def make_grade(x):\n",
    "    if x >= 90:\n",
    "        return 'A'\n",
    "    elif x >= 80:\n",
    "        return 'B'\n",
    "    elif x >= 70:\n",
    "        return 'C'\n",
    "    elif x >= 60:\n",
    "        return 'D'\n",
    "    else:\n",
    "        return 'F'"
   ]
  },
  {
   "cell_type": "markdown",
   "metadata": {},
   "source": [
    "# 0-2. 출력 함수"
   ]
  },
  {
   "cell_type": "markdown",
   "metadata": {},
   "source": [
    "## 0-2-1) hearder 출력 함수"
   ]
  },
  {
   "cell_type": "code",
   "execution_count": 66,
   "metadata": {},
   "outputs": [],
   "source": [
    "def print_header():\n",
    "    strFormat = '%15s%15s%15s%15s%15s%15s\\n'\n",
    "    strOut = ''\n",
    "    strOut += strFormat % ('Student','Name','Midterm', 'Final', 'Average', 'Grade')\n",
    "    strOut += '-'*90 ### ---- 밑에 한 줄을 띄우지 않기 위해 /n을 할 필요가 없어 따로 더해줌\n",
    "    print(strOut)"
   ]
  },
  {
   "cell_type": "markdown",
   "metadata": {},
   "source": [
    "## 0-2-2) 학생정보 출력 함수"
   ]
  },
  {
   "cell_type": "code",
   "execution_count": 67,
   "metadata": {},
   "outputs": [],
   "source": [
    "def print_stu_info(stu_list):\n",
    "    strFormat = '%15s%15s%15s%15s%15s%15s\\n'\n",
    "    strOut = f''\n",
    "    for i in stu_list:\n",
    "        ## 평균점수는 소수점 첫째자리까지만 출력\n",
    "        strOut += strFormat %(i, stu_list[i][0], int(stu_list[i][1]), int(stu_list[i][2]), format(float(stu_list[i][3]), '.1f'), stu_list[i][4])\n",
    "    print(strOut)"
   ]
  },
  {
   "cell_type": "markdown",
   "metadata": {},
   "source": [
    "# 0-3. 성적 기준 정렬"
   ]
  },
  {
   "cell_type": "code",
   "execution_count": 68,
   "metadata": {},
   "outputs": [],
   "source": [
    "def sort_by_ave(x):\n",
    "    sort_dict = dict(sorted(x.items(), key=lambda x: x[1][3], reverse = True))\n",
    "    return sort_dict"
   ]
  },
  {
   "cell_type": "markdown",
   "metadata": {},
   "source": [
    "# 1. show (전체 학생 정보 출력)"
   ]
  },
  {
   "cell_type": "code",
   "execution_count": 69,
   "metadata": {},
   "outputs": [],
   "source": [
    "def show():\n",
    "    # 딕셔너리 정렬\n",
    "    sort_by_av_list = sort_by_ave(stu_data)\n",
    "    print_header()\n",
    "    print_stu_info(sort_by_av_list)"
   ]
  },
  {
   "cell_type": "markdown",
   "metadata": {},
   "source": [
    "# 2. search (특정 학생 검색)"
   ]
  },
  {
   "cell_type": "code",
   "execution_count": 70,
   "metadata": {},
   "outputs": [],
   "source": [
    "def search():    \n",
    "    search_stu = str(input('Student ID: '))\n",
    "\n",
    "    if search_stu not in stu_data:\n",
    "        print('NO SUCH PERSON.')\n",
    "    else:\n",
    "        new_dic = {key: value for key, value in stu_data.items() if key == search_stu}\n",
    "        print_header()\n",
    "        print_stu_info(new_dic)"
   ]
  },
  {
   "cell_type": "markdown",
   "metadata": {},
   "source": [
    "# 3. changescore (점수 수정)"
   ]
  },
  {
   "cell_type": "code",
   "execution_count": 71,
   "metadata": {},
   "outputs": [],
   "source": [
    "def changescore():\n",
    "    global stu_data\n",
    "    \n",
    "    # search 함수 실행\n",
    "    search_stu = str(input('Student ID: '))\n",
    "\n",
    "    if search_stu not in stu_data:\n",
    "        print('NO SUCH PERSON.')\n",
    "    else:\n",
    "        new_dic = {key: value for key, value in stu_data.items() if key == search_stu}\n",
    "        test_when = input('Mid/Final? ')\n",
    "        if test_when in ['mid', 'final']:\n",
    "            new_score = int(input('Input new score: '))\n",
    "            if 0 <= new_score and new_score <= 100:\n",
    "                ## 찾은 학생의 변경 이전 정보 출력\n",
    "                print_header()\n",
    "                print_stu_info(new_dic)\n",
    "                print('Score changed.')\n",
    "                \n",
    "                \n",
    "                ## new_dict의 값 변경\n",
    "                if test_when == 'mid':\n",
    "                    stu_data[search_stu][1] = new_score\n",
    "                    stu_data[search_stu][3] = (stu_data[search_stu][1] + stu_data[search_stu][2]) / 2\n",
    "                    stu_data[search_stu][4] = make_grade(stu_data[search_stu][3])\n",
    "                    \n",
    "                    \n",
    "                else:\n",
    "                    stu_data[search_stu][2] = new_score\n",
    "                    stu_data[search_stu][3] = (stu_data[search_stu][1] + stu_data[search_stu][2]) / 2\n",
    "                    stu_data[search_stu][4] = make_grade(new_dic[search_stu][3])\n",
    "                    \n",
    "                    \n",
    "                \n",
    "                ## 찾은 학생의 변경 이후 정보 출력\n",
    "                new_dic = {key: value for key, value in stu_data.items() if key == search_stu}\n",
    "                print_header()\n",
    "                print_stu_info(new_dic)\n",
    "                "
   ]
  },
  {
   "cell_type": "markdown",
   "metadata": {},
   "source": [
    "# 4. add (학생 추가)"
   ]
  },
  {
   "cell_type": "code",
   "execution_count": 72,
   "metadata": {},
   "outputs": [],
   "source": [
    "def add():\n",
    "    global stu_data\n",
    "    \n",
    "    new_stu_id = str(input('Student ID: '))\n",
    "\n",
    "    if new_stu_id in stu_data:\n",
    "        print('ALREADY EXISTS.')\n",
    "    else:\n",
    "        new_stu_name = str(input('Name: '))\n",
    "        new_mid_score = int(input('Midterm Score: '))\n",
    "        if 0 > new_mid_score or new_mid_score > 100:\n",
    "            print('유효한 성적의 범위가 아닙니다.')\n",
    "        else:\n",
    "            new_fin_score = int(input('Final Score: '))\n",
    "            if 0 > new_fin_score or new_fin_score > 100:\n",
    "                print('유효한 성적의 범위가 아닙니다.')\n",
    "            else:\n",
    "                new_av_score = (new_mid_score + new_fin_score) / 2 # 평균 성적\n",
    "                new_std_grade = make_grade(new_av_score)\n",
    "\n",
    "                stu_data[new_stu_id] = [new_stu_name, new_mid_score, new_fin_score, new_av_score, new_std_grade]\n",
    "        \n",
    "                print('Student added.')"
   ]
  },
  {
   "cell_type": "markdown",
   "metadata": {},
   "source": [
    "# 5. searchgrade (Grade 검색)"
   ]
  },
  {
   "cell_type": "code",
   "execution_count": 73,
   "metadata": {},
   "outputs": [],
   "source": [
    "def searchgrade():\n",
    "    wonder_grade = str(input('Grade to search: '))\n",
    "\n",
    "    if wonder_grade not in ['A', 'B', 'C', 'D', 'F']:\n",
    "        pass\n",
    "    else:\n",
    "        search_for_grade = []\n",
    "        new_dic = {key: value for key, value in stu_data.items() if value[4] == wonder_grade}\n",
    "        if len(new_dic) == 0:\n",
    "            print('NO RESULTS.')\n",
    "        else:\n",
    "            new_dic = sort_by_ave(new_dic)\n",
    "            print_header()\n",
    "            print_stu_info(new_dic)"
   ]
  },
  {
   "cell_type": "markdown",
   "metadata": {},
   "source": [
    "# 6. REMOVE (특정 학생 삭제)"
   ]
  },
  {
   "cell_type": "code",
   "execution_count": 74,
   "metadata": {},
   "outputs": [],
   "source": [
    "def remove_stu():\n",
    "    global stu_data\n",
    "    \n",
    "    if len(stu_data) == 0:\n",
    "        pass\n",
    "    else:\n",
    "        remove_stu_num = str(input('Student ID: '))\n",
    "        if remove_stu_num not in stu_data.keys():\n",
    "            print('NO SUCH PERSON.')\n",
    "        else:\n",
    "            del stu_data[remove_stu_num]\n",
    "            print('Student removed.')"
   ]
  },
  {
   "cell_type": "markdown",
   "metadata": {},
   "source": [
    "# 7. quit (종료)"
   ]
  },
  {
   "cell_type": "code",
   "execution_count": 75,
   "metadata": {},
   "outputs": [],
   "source": [
    "def quit():\n",
    "    save_or_not = input('Save data?[yes/no] ')\n",
    "    \n",
    "    if save_or_not == 'yes':\n",
    "        save_file_name = input('File name: ')\n",
    "        \n",
    "        final_data = sort_by_ave(stu_data)\n",
    "        \n",
    "        f = open(save_file_name, 'w')\n",
    "        for i in final_data:\n",
    "            line = i + '\\t' + str(final_data[i][0]) + '\\t' + str(final_data[i][1]) + '\\t' + str(final_data[i][2]) + '\\n'\n",
    "            f.write(line)\n",
    "        f.close()"
   ]
  },
  {
   "cell_type": "markdown",
   "metadata": {},
   "source": [
    "# 프로그램 실행"
   ]
  },
  {
   "cell_type": "markdown",
   "metadata": {},
   "source": [
    "## 1) 학생 정보 딕셔너리 생성"
   ]
  },
  {
   "cell_type": "code",
   "execution_count": 76,
   "metadata": {},
   "outputs": [],
   "source": [
    "import sys\n",
    "\n",
    "while True:\n",
    "    input_txt_word = sys.argv\n",
    "    if len(input_txt_word) != 2:\n",
    "            text_1 = 'students.txt'\n",
    "    else:\n",
    "        text_1 = input_txt_word[1]\n",
    "    \n",
    "    try:\n",
    "        fr = open(text_1, 'r')\n",
    "        text = ''\n",
    "\n",
    "        for txt in fr:\n",
    "            text += txt\n",
    "        if text[-1:] == '\\n':  # txt파일에 마지막 한줄에 아무것도 없을 때\n",
    "            text = text[:-1]\n",
    "        break\n",
    "    except:\n",
    "        print('해당 파일이 없습니다!')\n",
    "        sys.exit(0)\n",
    "\n",
    "    \n",
    "\n",
    "    \n",
    "    \n",
    "# 0-2. 학생 딕셔너리 생성 및 값 저장\n",
    "\n",
    "stu_data = {}\n",
    "\n",
    "txt_split_n = text.split('\\n')\n",
    "    \n",
    "for txt in txt_split_n:\n",
    "    txt_split_t = txt.split('\\t') ## 각 \\n으로 split한 줄들을 다시 \\t로 split\n",
    "    \n",
    "    ## 위에서 나눈 리스틍 인덱스로 접근하여 변수 생성 후 딕셔너리에 알맞는 값을 넣어줌\n",
    "    std_id = str(txt_split_t[0]) # 학번\n",
    "    std_name = txt_split_t[1] # 이름\n",
    "    mid_score = int(txt_split_t[2]) # 중간고사 성적\n",
    "    final_score = int(txt_split_t[3]) # 기말고사 성적\n",
    "    av_score = (mid_score + final_score) / 2 # 평균 성적\n",
    "    std_grade = make_grade(av_score) # 학점\n",
    "    \n",
    "    stu_data[std_id] = [std_name, mid_score, final_score, av_score, std_grade]"
   ]
  },
  {
   "cell_type": "markdown",
   "metadata": {},
   "source": [
    "## 2) 명령어 입력"
   ]
  },
  {
   "cell_type": "code",
   "execution_count": 56,
   "metadata": {},
   "outputs": [
    {
     "name": "stdout",
     "output_type": "stream",
     "text": [
      "# add\n",
      "Student ID: 20180006\n",
      "Name: Oh Hongseok\n",
      "Midterm Score: -2\n",
      "유효한 성적의 범위가 아닙니다.\n",
      "\n",
      "# add\n",
      "Student ID: 20180006\n",
      "Name: Oh Hongseok\n",
      "Midterm Score: 101\n",
      "유효한 성적의 범위가 아닙니다.\n",
      "\n",
      "# add\n",
      "Student ID: 20180006\n",
      "Name: Oh Hongseok\n",
      "Midterm Score: 76\n",
      "Final Score: 99.5\n",
      "Student added.\n",
      "\n"
     ]
    },
    {
     "ename": "KeyboardInterrupt",
     "evalue": "Interrupted by user",
     "output_type": "error",
     "traceback": [
      "\u001b[0;31m---------------------------------------------------------------------------\u001b[0m",
      "\u001b[0;31mKeyboardInterrupt\u001b[0m                         Traceback (most recent call last)",
      "\u001b[0;32m<ipython-input-56-cc76fa4e7879>\u001b[0m in \u001b[0;36m<module>\u001b[0;34m\u001b[0m\n\u001b[1;32m      1\u001b[0m \u001b[0;32mwhile\u001b[0m \u001b[0;32mTrue\u001b[0m\u001b[0;34m:\u001b[0m\u001b[0;34m\u001b[0m\u001b[0;34m\u001b[0m\u001b[0m\n\u001b[1;32m      2\u001b[0m \u001b[0;34m\u001b[0m\u001b[0m\n\u001b[0;32m----> 3\u001b[0;31m     \u001b[0minput_func\u001b[0m \u001b[0;34m=\u001b[0m \u001b[0minput\u001b[0m\u001b[0;34m(\u001b[0m\u001b[0;34m'# '\u001b[0m\u001b[0;34m,\u001b[0m \u001b[0;34m)\u001b[0m\u001b[0;34m.\u001b[0m\u001b[0mlower\u001b[0m\u001b[0;34m(\u001b[0m\u001b[0;34m)\u001b[0m \u001b[0;31m# 입력의 포멧이 대소문자 구분 없기 때문에 input_func ==> lower처리 해서 비교\u001b[0m\u001b[0;34m\u001b[0m\u001b[0;34m\u001b[0m\u001b[0m\n\u001b[0m\u001b[1;32m      4\u001b[0m \u001b[0;34m\u001b[0m\u001b[0m\n\u001b[1;32m      5\u001b[0m     \u001b[0;32mif\u001b[0m \u001b[0minput_func\u001b[0m \u001b[0;34m==\u001b[0m \u001b[0;34m'show'\u001b[0m\u001b[0;34m:\u001b[0m\u001b[0;34m\u001b[0m\u001b[0;34m\u001b[0m\u001b[0m\n",
      "\u001b[0;32m~/anaconda3/lib/python3.7/site-packages/ipykernel/kernelbase.py\u001b[0m in \u001b[0;36mraw_input\u001b[0;34m(self, prompt)\u001b[0m\n\u001b[1;32m    861\u001b[0m             \u001b[0mself\u001b[0m\u001b[0;34m.\u001b[0m\u001b[0m_parent_ident\u001b[0m\u001b[0;34m,\u001b[0m\u001b[0;34m\u001b[0m\u001b[0;34m\u001b[0m\u001b[0m\n\u001b[1;32m    862\u001b[0m             \u001b[0mself\u001b[0m\u001b[0;34m.\u001b[0m\u001b[0m_parent_header\u001b[0m\u001b[0;34m,\u001b[0m\u001b[0;34m\u001b[0m\u001b[0;34m\u001b[0m\u001b[0m\n\u001b[0;32m--> 863\u001b[0;31m             \u001b[0mpassword\u001b[0m\u001b[0;34m=\u001b[0m\u001b[0;32mFalse\u001b[0m\u001b[0;34m,\u001b[0m\u001b[0;34m\u001b[0m\u001b[0;34m\u001b[0m\u001b[0m\n\u001b[0m\u001b[1;32m    864\u001b[0m         )\n\u001b[1;32m    865\u001b[0m \u001b[0;34m\u001b[0m\u001b[0m\n",
      "\u001b[0;32m~/anaconda3/lib/python3.7/site-packages/ipykernel/kernelbase.py\u001b[0m in \u001b[0;36m_input_request\u001b[0;34m(self, prompt, ident, parent, password)\u001b[0m\n\u001b[1;32m    902\u001b[0m             \u001b[0;32mexcept\u001b[0m \u001b[0mKeyboardInterrupt\u001b[0m\u001b[0;34m:\u001b[0m\u001b[0;34m\u001b[0m\u001b[0;34m\u001b[0m\u001b[0m\n\u001b[1;32m    903\u001b[0m                 \u001b[0;31m# re-raise KeyboardInterrupt, to truncate traceback\u001b[0m\u001b[0;34m\u001b[0m\u001b[0;34m\u001b[0m\u001b[0;34m\u001b[0m\u001b[0m\n\u001b[0;32m--> 904\u001b[0;31m                 \u001b[0;32mraise\u001b[0m \u001b[0mKeyboardInterrupt\u001b[0m\u001b[0;34m(\u001b[0m\u001b[0;34m\"Interrupted by user\"\u001b[0m\u001b[0;34m)\u001b[0m \u001b[0;32mfrom\u001b[0m \u001b[0;32mNone\u001b[0m\u001b[0;34m\u001b[0m\u001b[0;34m\u001b[0m\u001b[0m\n\u001b[0m\u001b[1;32m    905\u001b[0m             \u001b[0;32mexcept\u001b[0m \u001b[0mException\u001b[0m \u001b[0;32mas\u001b[0m \u001b[0me\u001b[0m\u001b[0;34m:\u001b[0m\u001b[0;34m\u001b[0m\u001b[0;34m\u001b[0m\u001b[0m\n\u001b[1;32m    906\u001b[0m                 \u001b[0mself\u001b[0m\u001b[0;34m.\u001b[0m\u001b[0mlog\u001b[0m\u001b[0;34m.\u001b[0m\u001b[0mwarning\u001b[0m\u001b[0;34m(\u001b[0m\u001b[0;34m\"Invalid Message:\"\u001b[0m\u001b[0;34m,\u001b[0m \u001b[0mexc_info\u001b[0m\u001b[0;34m=\u001b[0m\u001b[0;32mTrue\u001b[0m\u001b[0;34m)\u001b[0m\u001b[0;34m\u001b[0m\u001b[0;34m\u001b[0m\u001b[0m\n",
      "\u001b[0;31mKeyboardInterrupt\u001b[0m: Interrupted by user"
     ]
    }
   ],
   "source": [
    "show()\n",
    "\n",
    "while True:\n",
    "    \n",
    "    input_func = input('# ', ).lower() # 입력의 포멧이 대소문자 구분 없기 때문에 input_func ==> lower처리 해서 비교\n",
    "    \n",
    "    if input_func == 'show':\n",
    "        show()\n",
    "        print()\n",
    "    elif input_func == 'search':\n",
    "        search()\n",
    "        print()\n",
    "    elif input_func == 'changescore':\n",
    "        changescore()\n",
    "        print()\n",
    "    elif input_func == 'add':\n",
    "        add()\n",
    "        print()\n",
    "    elif input_func == 'searchgrade':\n",
    "        searchgrade()\n",
    "        print()\n",
    "    elif input_func == 'remove':\n",
    "        remove_stu()\n",
    "        print()\n",
    "    elif input_func == 'quit':\n",
    "        quit()\n",
    "        break\n",
    "    else:\n",
    "        pass"
   ]
  },
  {
   "cell_type": "code",
   "execution_count": null,
   "metadata": {},
   "outputs": [],
   "source": []
  }
 ],
 "metadata": {
  "kernelspec": {
   "display_name": "Python 3 (ipykernel)",
   "language": "python",
   "name": "python3"
  },
  "language_info": {
   "codemirror_mode": {
    "name": "ipython",
    "version": 3
   },
   "file_extension": ".py",
   "mimetype": "text/x-python",
   "name": "python",
   "nbconvert_exporter": "python",
   "pygments_lexer": "ipython3",
   "version": "3.9.7"
  }
 },
 "nbformat": 4,
 "nbformat_minor": 4
}
