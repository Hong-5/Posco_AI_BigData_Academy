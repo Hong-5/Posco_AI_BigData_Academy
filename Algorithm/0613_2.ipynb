{
 "cells": [
  {
   "cell_type": "markdown",
   "id": "88cdbe5d",
   "metadata": {},
   "source": [
    "# A+B (2)"
   ]
  },
  {
   "cell_type": "code",
   "execution_count": 7,
   "id": "0fac64e8",
   "metadata": {},
   "outputs": [
    {
     "name": "stdout",
     "output_type": "stream",
     "text": [
      "2\n",
      "1 2\n",
      "3\n",
      "3 5\n",
      "8\n"
     ]
    }
   ],
   "source": [
    "t = int(input())\n",
    "temp = []\n",
    "for i in range(t):\n",
    "    a, b = input().split()\n",
    "    print(int(a) + int(b))"
   ]
  }
 ],
 "metadata": {
  "kernelspec": {
   "display_name": "Python 3 (ipykernel)",
   "language": "python",
   "name": "python3"
  },
  "language_info": {
   "codemirror_mode": {
    "name": "ipython",
    "version": 3
   },
   "file_extension": ".py",
   "mimetype": "text/x-python",
   "name": "python",
   "nbconvert_exporter": "python",
   "pygments_lexer": "ipython3",
   "version": "3.9.7"
  }
 },
 "nbformat": 4,
 "nbformat_minor": 5
}
