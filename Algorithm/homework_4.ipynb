{
 "cells": [
  {
   "cell_type": "code",
   "execution_count": 9,
   "id": "645c1632",
   "metadata": {},
   "outputs": [
    {
     "name": "stdout",
     "output_type": "stream",
     "text": [
      "3\n",
      "2 4 6 8 10\n",
      "1 3 7\n",
      "2 2 6\n",
      "1 3 5 7\n",
      "2 3 6\n",
      "1 3 5\n",
      "3 7 11 17 21\n",
      "9 8 4 100 16 17\n",
      "7 7 3 21 17 17\n"
     ]
    }
   ],
   "source": [
    "t = int(input())\n",
    "\n",
    "for _ in range(t):\n",
    "    data = list(map(int,input().split()))\n",
    "    query = list(map(int,input().split()))\n",
    "    answer = []\n",
    "    \n",
    "    for q in query:\n",
    "        left = 0\n",
    "        right = len(data) - 1\n",
    "        while (right - left) > 1 :\n",
    "            median = (right + left) // 2\n",
    "            if q == data[median]:\n",
    "                break\n",
    "            elif q < data[median]:\n",
    "                right = median \n",
    "            else:\n",
    "                left = median\n",
    "                \n",
    "        left_num = data[left]\n",
    "        right_num = data[right]\n",
    "        if (right - left) > 1:\n",
    "            answer.append(data[median])\n",
    "        else:\n",
    "            if abs(left_num - q) <=  abs(right_num - q):\n",
    "                answer.append(left_num)\n",
    "            else:\n",
    "                answer.append(right_num)     \n",
    "    print(*answer)"
   ]
  }
 ],
 "metadata": {
  "kernelspec": {
   "display_name": "Python 3 (ipykernel)",
   "language": "python",
   "name": "python3"
  },
  "language_info": {
   "codemirror_mode": {
    "name": "ipython",
    "version": 3
   },
   "file_extension": ".py",
   "mimetype": "text/x-python",
   "name": "python",
   "nbconvert_exporter": "python",
   "pygments_lexer": "ipython3",
   "version": "3.9.7"
  }
 },
 "nbformat": 4,
 "nbformat_minor": 5
}
