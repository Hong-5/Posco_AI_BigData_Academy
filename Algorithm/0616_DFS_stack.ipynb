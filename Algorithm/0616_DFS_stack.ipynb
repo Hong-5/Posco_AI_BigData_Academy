{
 "cells": [
  {
   "cell_type": "code",
   "execution_count": 16,
   "id": "3a913f36",
   "metadata": {},
   "outputs": [
    {
     "name": "stdout",
     "output_type": "stream",
     "text": [
      "3\n",
      "4 4\n",
      "0 1\n",
      "0 3\n",
      "1 2\n",
      "1 3\n",
      "0 1 2 3\n",
      "5 7\n",
      "0 1\n",
      "0 2\n",
      "0 4\n",
      "1 3\n",
      "1 4\n",
      "2 4\n",
      "3 4\n",
      "0 1 3 4 2\n",
      "6 5\n",
      "0 5\n",
      "5 4\n",
      "1 4\n",
      "1 3\n",
      "2 3\n",
      "0 5 4 1 3 2\n"
     ]
    }
   ],
   "source": [
    "t = int(input())\n",
    "\n",
    "for _ in range(t):\n",
    "    #인접리스트 큰게 앞으로 오게 정렬\n",
    "    N,M = map(int, input().split())\n",
    "    List = [[] for _ in range(N)]\n",
    "    for i in range(M):\n",
    "        u, v = map(int, input().split())\n",
    "        List[u].append(v)\n",
    "        List[v].append(u)\n",
    "    for i in range(N):\n",
    "        List[i].sort(reverse = True)\n",
    "        \n",
    "    stack = []\n",
    "    stack.append(0)\n",
    "\n",
    "    visited = [0 for i in range(len(List))]\n",
    "\n",
    "    answer = []\n",
    "\n",
    "    while len(stack) != 0:\n",
    "        num = stack[-1]\n",
    "        if visited[num] == 0:\n",
    "            visited[num] = 1\n",
    "            stack.extend(List[num])\n",
    "            answer.append(num)\n",
    "        else:\n",
    "            stack.pop()\n",
    "    print(*answer)"
   ]
  }
 ],
 "metadata": {
  "kernelspec": {
   "display_name": "Python 3 (ipykernel)",
   "language": "python",
   "name": "python3"
  },
  "language_info": {
   "codemirror_mode": {
    "name": "ipython",
    "version": 3
   },
   "file_extension": ".py",
   "mimetype": "text/x-python",
   "name": "python",
   "nbconvert_exporter": "python",
   "pygments_lexer": "ipython3",
   "version": "3.9.7"
  }
 },
 "nbformat": 4,
 "nbformat_minor": 5
}
