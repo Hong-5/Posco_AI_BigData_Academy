{
 "cells": [
  {
   "cell_type": "code",
   "execution_count": 68,
   "id": "c6a92fad",
   "metadata": {},
   "outputs": [
    {
     "name": "stdout",
     "output_type": "stream",
     "text": [
      "2\n",
      "4 100\n",
      "100 30\n",
      "50 30\n",
      "200 40\n",
      "120 55\n",
      "365\n",
      "5 340\n",
      "795 953\n",
      "41 206\n",
      "524 422\n",
      "985 574\n",
      "135 932\n",
      "583\n"
     ]
    }
   ],
   "source": [
    "T = int(input())\n",
    "\n",
    "for _ in range(T):\n",
    "    N, C = map(int, input().split())\n",
    "    liquidlist = []\n",
    "    for i in range(N):\n",
    "        w,v = map(int, input().split())\n",
    "        liquidlist.append((w/v, w,v))\n",
    "    liquidlist.sort(reverse = True)\n",
    "    maxg = 0\n",
    "\n",
    "    for i in range(N):\n",
    "        if C > 0:\n",
    "            if liquidlist[i][2] <= C:\n",
    "                maxg += liquidlist[i][1]\n",
    "                C -= liquidlist[i][2]\n",
    "            else:\n",
    "                maxg += liquidlist[i][1]*C/liquidlist[i][2]\n",
    "                C -= liquidlist[i][2]\n",
    "        else:\n",
    "            break\n",
    "    print(int(maxg))"
   ]
  }
 ],
 "metadata": {
  "kernelspec": {
   "display_name": "Python 3 (ipykernel)",
   "language": "python",
   "name": "python3"
  },
  "language_info": {
   "codemirror_mode": {
    "name": "ipython",
    "version": 3
   },
   "file_extension": ".py",
   "mimetype": "text/x-python",
   "name": "python",
   "nbconvert_exporter": "python",
   "pygments_lexer": "ipython3",
   "version": "3.9.7"
  }
 },
 "nbformat": 4,
 "nbformat_minor": 5
}
