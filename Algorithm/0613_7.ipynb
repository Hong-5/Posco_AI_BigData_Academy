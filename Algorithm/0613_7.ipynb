{
 "cells": [
  {
   "cell_type": "markdown",
   "id": "33f5b1e2",
   "metadata": {},
   "source": [
    "# 우선순위 큐 사용하기"
   ]
  },
  {
   "cell_type": "code",
   "execution_count": 5,
   "id": "b030c261",
   "metadata": {},
   "outputs": [
    {
     "name": "stdout",
     "output_type": "stream",
     "text": [
      "1\n",
      "3\n",
      "5\n",
      "1\n",
      "-1\n",
      "1\n"
     ]
    }
   ],
   "source": [
    "import heapq\n",
    "\n",
    "t = int(input())\n",
    "\n",
    "for _ in range(t):\n",
    "    n = int(input())\n",
    "    deque_list = []\n",
    "    for _ in range(n):\n",
    "        qry = int(input())\n",
    "        if qry == -1:\n",
    "            print(heapq.heappop(deque_list))\n",
    "        else:\n",
    "            heapq.heappush(deque_list, qry)"
   ]
  }
 ],
 "metadata": {
  "kernelspec": {
   "display_name": "Python 3 (ipykernel)",
   "language": "python",
   "name": "python3"
  },
  "language_info": {
   "codemirror_mode": {
    "name": "ipython",
    "version": 3
   },
   "file_extension": ".py",
   "mimetype": "text/x-python",
   "name": "python",
   "nbconvert_exporter": "python",
   "pygments_lexer": "ipython3",
   "version": "3.9.7"
  }
 },
 "nbformat": 4,
 "nbformat_minor": 5
}
