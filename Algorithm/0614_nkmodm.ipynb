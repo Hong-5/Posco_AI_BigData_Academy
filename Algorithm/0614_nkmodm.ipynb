{
 "cells": [
  {
   "cell_type": "code",
   "execution_count": 8,
   "id": "8dc15408",
   "metadata": {},
   "outputs": [
    {
     "name": "stdout",
     "output_type": "stream",
     "text": [
      "1\n",
      "2 10 77777\n",
      "1024\n"
     ]
    }
   ],
   "source": [
    "def Power(n,k,m):\n",
    "    if k == 1:\n",
    "        return n\n",
    "    if k == 0:\n",
    "        return 1\n",
    "    \n",
    "    half = Power(n,k//2,m)\n",
    "    \n",
    "    if k % 2 == 0:\n",
    "        return (half*half)%m\n",
    "    else:\n",
    "        return (half*half*n)%m\n",
    "        \n",
    "    \n",
    "t = int(input())\n",
    "for _ in range(t):\n",
    "    n,k,m = map(int, input().split())\n",
    "    print(Power(n,k,m))"
   ]
  }
 ],
 "metadata": {
  "kernelspec": {
   "display_name": "Python 3 (ipykernel)",
   "language": "python",
   "name": "python3"
  },
  "language_info": {
   "codemirror_mode": {
    "name": "ipython",
    "version": 3
   },
   "file_extension": ".py",
   "mimetype": "text/x-python",
   "name": "python",
   "nbconvert_exporter": "python",
   "pygments_lexer": "ipython3",
   "version": "3.9.7"
  }
 },
 "nbformat": 4,
 "nbformat_minor": 5
}
