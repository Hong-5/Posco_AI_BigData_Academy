{
 "cells": [
  {
   "cell_type": "code",
   "execution_count": 10,
   "id": "922851ae",
   "metadata": {},
   "outputs": [
    {
     "name": "stdout",
     "output_type": "stream",
     "text": [
      "5\n",
      "7 3 5 7 3 5\n",
      "NO\n",
      "11 2 2 11\n",
      "YES\n",
      "3 2 1 3 2 4 4 1\n",
      "YES\n",
      "1 2 5 1 2 3 5 4 3 4\n",
      "NO\n",
      "7 3 9 7 2 9 4 3 2 4\n",
      "YES\n"
     ]
    }
   ],
   "source": [
    "from collections import deque\n",
    "\n",
    "t = int(input())\n",
    "\n",
    "for _ in range(t):\n",
    "    car = list(map(int, input().split()))\n",
    "    queue = deque()\n",
    "    for c in car:\n",
    "        if (len(queue) != 0) and (queue[0] == c):\n",
    "            queue.popleft()\n",
    "        else:\n",
    "            queue.append(c)\n",
    "    if len(queue) != 0:\n",
    "        print('YES')\n",
    "    else:\n",
    "        print('NO')"
   ]
  }
 ],
 "metadata": {
  "kernelspec": {
   "display_name": "Python 3 (ipykernel)",
   "language": "python",
   "name": "python3"
  },
  "language_info": {
   "codemirror_mode": {
    "name": "ipython",
    "version": 3
   },
   "file_extension": ".py",
   "mimetype": "text/x-python",
   "name": "python",
   "nbconvert_exporter": "python",
   "pygments_lexer": "ipython3",
   "version": "3.9.7"
  }
 },
 "nbformat": 4,
 "nbformat_minor": 5
}
