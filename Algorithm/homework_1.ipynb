{
 "cells": [
  {
   "cell_type": "code",
   "execution_count": 12,
   "id": "e7263978",
   "metadata": {},
   "outputs": [
    {
     "name": "stdout",
     "output_type": "stream",
     "text": [
      "5\n",
      "()()\n",
      "YES\n",
      "({[}])\n",
      "NO\n",
      "({}[(){}])\n",
      "YES\n",
      "(({})\n",
      "NO\n",
      "()))))))))(\n",
      "NO\n"
     ]
    }
   ],
   "source": [
    "t = int(input())\n",
    "\n",
    "left_giho = ['(', '[', '{']\n",
    "\n",
    "\n",
    "for _ in range(t):\n",
    "    barcket = input()\n",
    "    stk = []\n",
    "    correct = True\n",
    "    for i in barcket:\n",
    "        if i in left_giho:\n",
    "            stk.append(i)\n",
    "        \n",
    "        elif i == ')':\n",
    "            if (stk == []) or (stk.pop() != '('):\n",
    "                correct = False\n",
    "                \n",
    "        elif i == '}':\n",
    "            if (stk == []) or (stk.pop() != '{'):\n",
    "                correct = False\n",
    "                \n",
    "        elif i == ']':\n",
    "            if (stk == []) or (stk.pop() != '['):\n",
    "                correct = False\n",
    "    if len(stk) != 0:\n",
    "        correct = False\n",
    "    if correct == True:\n",
    "        print('YES')\n",
    "    else:\n",
    "        print('NO')"
   ]
  }
 ],
 "metadata": {
  "kernelspec": {
   "display_name": "Python 3 (ipykernel)",
   "language": "python",
   "name": "python3"
  },
  "language_info": {
   "codemirror_mode": {
    "name": "ipython",
    "version": 3
   },
   "file_extension": ".py",
   "mimetype": "text/x-python",
   "name": "python",
   "nbconvert_exporter": "python",
   "pygments_lexer": "ipython3",
   "version": "3.9.7"
  }
 },
 "nbformat": 4,
 "nbformat_minor": 5
}
