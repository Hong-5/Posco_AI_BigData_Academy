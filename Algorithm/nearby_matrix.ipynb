{
 "cells": [
  {
   "cell_type": "code",
   "execution_count": 26,
   "id": "4a55f0ed",
   "metadata": {},
   "outputs": [
    {
     "name": "stdout",
     "output_type": "stream",
     "text": [
      "1\n",
      "4 6\n",
      "0 1 3\n",
      "0 3 7\n",
      "1 2 2\n",
      "1 3 5\n",
      "2 0 3\n",
      "3 2 3\n",
      "0 3 0 7\n",
      "0 0 2 5\n",
      "3 0 0 0\n",
      "0 0 3 0\n"
     ]
    }
   ],
   "source": [
    "t = int(input())\n",
    "\n",
    "for _ in range(t):\n",
    "    N,M = map(int, input().split())\n",
    "    matrix = [[0]*N for _ in range(N)]\n",
    "    for i in range(M):\n",
    "        aaa = list(map(int, input().split()))\n",
    "        matrix[aaa[0]][aaa[1]] = aaa[2]\n",
    "\n",
    "    for i in range(N):\n",
    "        print(*matrix[i])\n",
    "    "
   ]
  }
 ],
 "metadata": {
  "kernelspec": {
   "display_name": "Python 3 (ipykernel)",
   "language": "python",
   "name": "python3"
  },
  "language_info": {
   "codemirror_mode": {
    "name": "ipython",
    "version": 3
   },
   "file_extension": ".py",
   "mimetype": "text/x-python",
   "name": "python",
   "nbconvert_exporter": "python",
   "pygments_lexer": "ipython3",
   "version": "3.9.7"
  }
 },
 "nbformat": 4,
 "nbformat_minor": 5
}
