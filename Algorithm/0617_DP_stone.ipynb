{
 "cells": [
  {
   "cell_type": "code",
   "execution_count": null,
   "id": "a6ce1181",
   "metadata": {},
   "outputs": [],
   "source": [
    "T = int(input())\n",
    "\n",
    "for _ in range(T):\n",
    "    N = int(input())\n",
    "    \n",
    "    T = [0]*(N+1)\n",
    "    \n",
    "    for i in range(1, N+1):\n",
    "        if i == 1:\n",
    "            T[1] = 1\n",
    "        elif i == 2:\n",
    "            T[2] = 2\n",
    "        elif i == 3:\n",
    "            T[3] = 4\n",
    "        else:\n",
    "            T[i] = (T[i-1] + T[i-2] + T[i-3])%1904101441\n",
    "    print(T[N])"
   ]
  }
 ],
 "metadata": {
  "kernelspec": {
   "display_name": "Python 3 (ipykernel)",
   "language": "python",
   "name": "python3"
  },
  "language_info": {
   "codemirror_mode": {
    "name": "ipython",
    "version": 3
   },
   "file_extension": ".py",
   "mimetype": "text/x-python",
   "name": "python",
   "nbconvert_exporter": "python",
   "pygments_lexer": "ipython3",
   "version": "3.9.7"
  }
 },
 "nbformat": 4,
 "nbformat_minor": 5
}
