{
 "cells": [
  {
   "cell_type": "code",
   "execution_count": 22,
   "id": "6398d1a7",
   "metadata": {},
   "outputs": [
    {
     "name": "stdout",
     "output_type": "stream",
     "text": [
      "3\n",
      "4 4\n",
      "0 1\n",
      "0 3\n",
      "1 2\n",
      "1 3\n",
      "0 1 3 2\n",
      "5 7\n",
      "0 1\n",
      "0 2\n",
      "0 4\n",
      "1 3\n",
      "1 4\n",
      "2 4\n",
      "3 4\n",
      "0 1 2 4 3\n",
      "6 5\n",
      "0 5\n",
      "5 4\n",
      "1 4\n",
      "1 3\n",
      "2 3\n",
      "0 5 4\n"
     ]
    }
   ],
   "source": [
    "from collections import deque\n",
    "\n",
    "T = int(input())\n",
    "for _ in range(T):\n",
    "    N,M = map(int, input().split())\n",
    "    List = [[] for _ in range(N)]\n",
    "    for i in range(M):\n",
    "        u,v = map(int, input().split())\n",
    "        List[u].append(v)\n",
    "    for i in range(N):\n",
    "        List[i].sort()\n",
    "    \n",
    "    queue = deque()\n",
    "    visited = [0 for _ in range(N)]\n",
    "    \n",
    "    queue.append(0)\n",
    "    \n",
    "    answer = []\n",
    "    while len(queue) != 0:\n",
    "        num = queue[0]\n",
    "        if visited[num] == 0:\n",
    "            visited[num] = 1\n",
    "            answer.append(num)\n",
    "            queue.extend(List[queue.popleft()])\n",
    "        else:\n",
    "            queue.popleft()\n",
    "    \n",
    "    print(*answer)"
   ]
  }
 ],
 "metadata": {
  "kernelspec": {
   "display_name": "Python 3 (ipykernel)",
   "language": "python",
   "name": "python3"
  },
  "language_info": {
   "codemirror_mode": {
    "name": "ipython",
    "version": 3
   },
   "file_extension": ".py",
   "mimetype": "text/x-python",
   "name": "python",
   "nbconvert_exporter": "python",
   "pygments_lexer": "ipython3",
   "version": "3.9.7"
  }
 },
 "nbformat": 4,
 "nbformat_minor": 5
}
