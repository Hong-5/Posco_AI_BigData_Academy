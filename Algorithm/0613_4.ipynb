{
 "cells": [
  {
   "cell_type": "markdown",
   "id": "8dcf8bd7",
   "metadata": {},
   "source": [
    "# 최대값 최소값 차이 구하기"
   ]
  },
  {
   "cell_type": "code",
   "execution_count": 1,
   "id": "a6164b20",
   "metadata": {},
   "outputs": [
    {
     "name": "stdout",
     "output_type": "stream",
     "text": [
      "2\n",
      "1 2 3\n",
      "2\n",
      "10 9 1 10 19\n",
      "18\n"
     ]
    }
   ],
   "source": [
    "t = int(input())\n",
    "\n",
    "for i in range(t):\n",
    "    temp_list = list(map(int, input().split()))\n",
    "    print(max(temp_list) - min(temp_list))"
   ]
  },
  {
   "cell_type": "code",
   "execution_count": null,
   "id": "5b81f4d5",
   "metadata": {},
   "outputs": [],
   "source": []
  }
 ],
 "metadata": {
  "kernelspec": {
   "display_name": "Python 3 (ipykernel)",
   "language": "python",
   "name": "python3"
  },
  "language_info": {
   "codemirror_mode": {
    "name": "ipython",
    "version": 3
   },
   "file_extension": ".py",
   "mimetype": "text/x-python",
   "name": "python",
   "nbconvert_exporter": "python",
   "pygments_lexer": "ipython3",
   "version": "3.9.7"
  }
 },
 "nbformat": 4,
 "nbformat_minor": 5
}
