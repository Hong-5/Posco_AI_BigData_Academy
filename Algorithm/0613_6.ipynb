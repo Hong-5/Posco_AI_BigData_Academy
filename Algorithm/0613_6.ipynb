{
 "cells": [
  {
   "cell_type": "markdown",
   "id": "2d93cccc",
   "metadata": {},
   "source": [
    "# 큐 구현하기"
   ]
  },
  {
   "cell_type": "code",
   "execution_count": 3,
   "id": "d3bfbfc0",
   "metadata": {},
   "outputs": [
    {
     "name": "stdout",
     "output_type": "stream",
     "text": [
      "1\n",
      "3\n",
      "3\n",
      "6\n",
      "-1\n",
      "3\n"
     ]
    }
   ],
   "source": [
    "import collections\n",
    "\n",
    "t = int(input())\n",
    "\n",
    "for _ in range(t):\n",
    "    n = int(input())\n",
    "    deque_list = collections.deque()\n",
    "    for _ in range(n):\n",
    "        qry = int(input())\n",
    "        if qry == -1:\n",
    "            print(deque_list.pop())\n",
    "        else:\n",
    "            deque_list.appendleft(qry)"
   ]
  },
  {
   "cell_type": "code",
   "execution_count": null,
   "id": "0c85e29e",
   "metadata": {},
   "outputs": [],
   "source": [
    "import collections\n",
    "\n",
    "t = int(input())\n",
    "\n",
    "for _ in range(t):\n",
    "    home_where = list(map(int, input().split()))\n",
    "    num_dis = []\n",
    "    for i in home_where:\n",
    "        dist_index = 0\n",
    "        for j in home_where:\n",
    "            dist_index += abs(i-j)\n",
    "        num_dis.append(dist_index)\n",
    "    print(min(num_dis))"
   ]
  }
 ],
 "metadata": {
  "kernelspec": {
   "display_name": "Python 3 (ipykernel)",
   "language": "python",
   "name": "python3"
  },
  "language_info": {
   "codemirror_mode": {
    "name": "ipython",
    "version": 3
   },
   "file_extension": ".py",
   "mimetype": "text/x-python",
   "name": "python",
   "nbconvert_exporter": "python",
   "pygments_lexer": "ipython3",
   "version": "3.9.7"
  }
 },
 "nbformat": 4,
 "nbformat_minor": 5
}
