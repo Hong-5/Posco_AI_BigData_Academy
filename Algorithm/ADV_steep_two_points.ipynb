{
 "cells": [
  {
   "cell_type": "code",
   "execution_count": 18,
   "id": "77ec760a",
   "metadata": {},
   "outputs": [
    {
     "name": "stdout",
     "output_type": "stream",
     "text": [
      "2\n",
      "7\n",
      "2 7\n",
      "12 4\n",
      "4 5\n",
      "10 7\n",
      "6 2\n",
      "9 1\n",
      "8 8\n",
      "8 8 9 1\n",
      "4\n",
      "1 1\n",
      "2 2\n",
      "5 5\n",
      "6 6\n",
      "1 1 2 2\n"
     ]
    }
   ],
   "source": [
    "t = int(input())\n",
    "\n",
    "for _ in range(t):\n",
    "    n = int(input())\n",
    "    index_list = []\n",
    "    for _ in range(n):\n",
    "        each_point = list(map(int, input().split()))\n",
    "        index_list.append(each_point)\n",
    "\n",
    "    index_list = sorted(index_list)\n",
    "\n",
    "    steep_rate = 0\n",
    "    steep_index = 0\n",
    "    for i in range(n-1):\n",
    "        update_rate = abs(index_list[i][1] - index_list[i+1][1]) / abs(index_list[i][0] - index_list[i+1][0])\n",
    "        if update_rate > steep_rate:\n",
    "            steep_rate = update_rate\n",
    "            steep_index = i\n",
    "\n",
    "    print(index_list[steep_index][0], index_list[steep_index][1], index_list[steep_index+1][0], index_list[steep_index+1][1])"
   ]
  }
 ],
 "metadata": {
  "kernelspec": {
   "display_name": "Python 3 (ipykernel)",
   "language": "python",
   "name": "python3"
  },
  "language_info": {
   "codemirror_mode": {
    "name": "ipython",
    "version": 3
   },
   "file_extension": ".py",
   "mimetype": "text/x-python",
   "name": "python",
   "nbconvert_exporter": "python",
   "pygments_lexer": "ipython3",
   "version": "3.9.7"
  }
 },
 "nbformat": 4,
 "nbformat_minor": 5
}
