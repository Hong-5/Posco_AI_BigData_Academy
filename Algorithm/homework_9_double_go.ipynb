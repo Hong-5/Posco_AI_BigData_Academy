{
 "cells": [
  {
   "cell_type": "code",
   "execution_count": 1,
   "id": "04c7fe1f",
   "metadata": {},
   "outputs": [
    {
     "name": "stdout",
     "output_type": "stream",
     "text": [
      "7\n",
      "1\n",
      "-13\n",
      "-13\n",
      "2\n",
      "3 -3\n",
      "0\n",
      "2\n",
      "-4 -2\n",
      "-2\n",
      "4\n",
      "10 20 30 40\n",
      "100\n",
      "8\n",
      "3 -5 6 -1 9 -11 -12 10\n",
      "18\n",
      "9\n",
      "6 -3 9 -2 7 -1 -4 -2 4\n",
      "23\n",
      "16\n",
      "10 10 -1 10 -1 -1 -1 10 -1 -1 -1 -1 -1 -1 -1 10\n",
      "50\n"
     ]
    }
   ],
   "source": [
    "def dbro(l,n):\n",
    "    DP = [0]*len(l)\n",
    "    for i in range(1, n+1):\n",
    "        if i == 1:\n",
    "            DP[i] = l[i]\n",
    "        elif i % 2 == 1:\n",
    "            pr = DP[i-1]\n",
    "            ju = DP[i-2]\n",
    "            DP[i] = max(pr, ju) + lis[i]\n",
    "        else:\n",
    "            pr = DP[i-1]\n",
    "            ju = DP[i-2]\n",
    "            do = DP[i//2]\n",
    "            DP[i] = max(pr, ju, do) + lis[i]\n",
    "    return DP[n]\n",
    "\n",
    "\n",
    "testnum = int(input())\n",
    "\n",
    "for _ in range(testnum):\n",
    "    n = int(input())\n",
    "    lis = list(map(int, input().split()))\n",
    "    lis = [0] + lis\n",
    "    print(dbro(lis,n))\n",
    "            "
   ]
  }
 ],
 "metadata": {
  "kernelspec": {
   "display_name": "Python 3 (ipykernel)",
   "language": "python",
   "name": "python3"
  },
  "language_info": {
   "codemirror_mode": {
    "name": "ipython",
    "version": 3
   },
   "file_extension": ".py",
   "mimetype": "text/x-python",
   "name": "python",
   "nbconvert_exporter": "python",
   "pygments_lexer": "ipython3",
   "version": "3.9.7"
  }
 },
 "nbformat": 4,
 "nbformat_minor": 5
}
