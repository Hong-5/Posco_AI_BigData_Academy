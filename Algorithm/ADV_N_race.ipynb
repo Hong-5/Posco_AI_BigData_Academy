{
 "cells": [
  {
   "cell_type": "code",
   "execution_count": 41,
   "id": "793a6b68",
   "metadata": {
    "scrolled": true
   },
   "outputs": [
    {
     "name": "stdout",
     "output_type": "stream",
     "text": [
      "5\n",
      "2\n",
      "7 3 5 7 3 5\n",
      "NO\n",
      "2\n",
      "11 2 2 11\n",
      "YES\n",
      "3\n",
      "3 2 1 3 3 2 4 2 1 4 4 1\n",
      "YES\n",
      "3\n",
      "1 2 1 5 1 2 2 3 5 5 4 3 4 3 4\n",
      "NO\n",
      "4\n",
      "1 2 1 2 3 4 3 4 1 3 2 4 1 2 3 4\n",
      "YES\n"
     ]
    }
   ],
   "source": [
    "from collections import defaultdict\n",
    "t = int(input())\n",
    "for _ in range(t):\n",
    "    n = int(input())\n",
    "    car = list(map(int, input().split()))\n",
    "    dic_name = defaultdict()\n",
    "    for i in list(set(car)):\n",
    "        dic_name[i] = 0\n",
    "    car_list = [[] for i in range(n)]\n",
    "    answer = True\n",
    "    for i in car:\n",
    "        if dic_name[i] == 0:\n",
    "            car_list[0].append(i)\n",
    "            dic_name[i] += 1\n",
    "        elif dic_name[i] == 1:\n",
    "            car_list[1].append(i)\n",
    "            dic_name[i] += 1\n",
    "        elif dic_name[i] == 2:\n",
    "            car_list[2].append(i)\n",
    "            dic_name[i] += 1\n",
    "        elif dic_name[i] == 3:\n",
    "            car_list[3].append(i)\n",
    "            dic_name[i] += 1\n",
    "        elif dic_name[i] == 4:\n",
    "            car_list[4].append(i)\n",
    "            dic_name[i] += 1\n",
    "        elif dic_name[i] == 5:\n",
    "            car_list[5].append(i)\n",
    "            dic_name[i] += 1\n",
    "        elif dic_name[i] == 6:\n",
    "            car_list[6].append(i)\n",
    "            dic_name[i] += 1\n",
    "        elif dic_name[i] == 7:\n",
    "            car_list[7].append(i)\n",
    "            dic_name[i] += 1\n",
    "        elif dic_name[i] == 8:\n",
    "            car_list[8].append(i)\n",
    "            dic_name[i] += 1\n",
    "        elif dic_name[i] == 9:\n",
    "            car_list[9].append(i)\n",
    "            dic_name[i] += 1\n",
    "        elif dic_name[i] == 10:\n",
    "            car_list[10].append(i)\n",
    "            dic_name[i] += 1\n",
    "            \n",
    "    for i in (list(zip(*car_list))):\n",
    "        if len(set(i)) != 1:\n",
    "            answer = False\n",
    "            \n",
    "    if answer == True:\n",
    "        print('NO')\n",
    "    else:\n",
    "        print('YES')"
   ]
  }
 ],
 "metadata": {
  "kernelspec": {
   "display_name": "Python 3 (ipykernel)",
   "language": "python",
   "name": "python3"
  },
  "language_info": {
   "codemirror_mode": {
    "name": "ipython",
    "version": 3
   },
   "file_extension": ".py",
   "mimetype": "text/x-python",
   "name": "python",
   "nbconvert_exporter": "python",
   "pygments_lexer": "ipython3",
   "version": "3.9.7"
  }
 },
 "nbformat": 4,
 "nbformat_minor": 5
}
