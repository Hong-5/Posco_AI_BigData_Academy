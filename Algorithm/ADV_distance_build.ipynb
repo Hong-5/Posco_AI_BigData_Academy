{
 "cells": [
  {
   "cell_type": "markdown",
   "id": "5a52a134",
   "metadata": {},
   "source": [
    "# 마을회관 건설"
   ]
  },
  {
   "cell_type": "code",
   "execution_count": null,
   "id": "a61b60d6",
   "metadata": {},
   "outputs": [],
   "source": [
    "t = int(input())\n",
    "\n",
    "for _ in range(t):\n",
    "    home_where = list(map(int, input().split()))\n",
    "    if len(home_where) % 2 != 0:\n",
    "        dist_index = len(home_where)// 2\n",
    "        dist_len = 0\n",
    "        for j in home_where:\n",
    "            dist_len += abs(home_where[dist_index] - j)\n",
    "        print(dist_len)\n",
    "    else:\n",
    "        dist_low = home_where[len(home_where)// 2 - 1]\n",
    "        dist_high = home_where[len(home_where)// 2]\n",
    "        dist_len_low = 0\n",
    "        dist_len_high = 0\n",
    "        for j in home_where:\n",
    "            dist_len_low += abs(dist_low - j)\n",
    "            dist_len_high += abs(dist_high - j)\n",
    "        print(min(dist_len_low, dist_len_high))"
   ]
  },
  {
   "cell_type": "code",
   "execution_count": null,
   "id": "4d0550c4",
   "metadata": {},
   "outputs": [],
   "source": []
  }
 ],
 "metadata": {
  "kernelspec": {
   "display_name": "Python 3 (ipykernel)",
   "language": "python",
   "name": "python3"
  },
  "language_info": {
   "codemirror_mode": {
    "name": "ipython",
    "version": 3
   },
   "file_extension": ".py",
   "mimetype": "text/x-python",
   "name": "python",
   "nbconvert_exporter": "python",
   "pygments_lexer": "ipython3",
   "version": "3.9.7"
  }
 },
 "nbformat": 4,
 "nbformat_minor": 5
}
