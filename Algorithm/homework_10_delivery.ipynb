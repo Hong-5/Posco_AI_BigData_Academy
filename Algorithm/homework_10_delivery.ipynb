{
 "cells": [
  {
   "cell_type": "code",
   "execution_count": 1,
   "id": "c809683a",
   "metadata": {},
   "outputs": [
    {
     "name": "stdout",
     "output_type": "stream",
     "text": [
      "3\n",
      "1 5\n",
      "3\n",
      "100\n",
      "100\n",
      "5 10\n",
      "2 1 1 4 4\n",
      "34 686 668 678 560\n",
      "2592\n",
      "10 10\n",
      "3 2 5 4 1 3 1 2 5 5\n",
      "702 130 533 375 819 902 203 660 305 581\n",
      "3286\n"
     ]
    }
   ],
   "source": [
    "t = int(input())\n",
    "\n",
    "for _ in range(t):\n",
    "    n, C = map(int, input().split())\n",
    "    w = list(map(int, input().split()))\n",
    "    v = list(map(int, input().split()))\n",
    "    \n",
    "    T = [[0]*(C+1) for _ in range(n)]\n",
    "    \n",
    "    for i in range(n):\n",
    "        for j in range(1, C+1):\n",
    "            if i == 0:\n",
    "                if w[i] > j:\n",
    "                    T[i][j] = 0\n",
    "                else:\n",
    "                    T[i][j] = v[i]\n",
    "            else:\n",
    "                if w[i] > j:\n",
    "                    T[i][j] = T[i-1][j]                \n",
    "                else:\n",
    "                    T[i][j] = max(T[i-1][j], T[i-1][j-w[i]] + v[i])\n",
    "    print(T[n-1][C])"
   ]
  }
 ],
 "metadata": {
  "kernelspec": {
   "display_name": "Python 3 (ipykernel)",
   "language": "python",
   "name": "python3"
  },
  "language_info": {
   "codemirror_mode": {
    "name": "ipython",
    "version": 3
   },
   "file_extension": ".py",
   "mimetype": "text/x-python",
   "name": "python",
   "nbconvert_exporter": "python",
   "pygments_lexer": "ipython3",
   "version": "3.9.7"
  }
 },
 "nbformat": 4,
 "nbformat_minor": 5
}
