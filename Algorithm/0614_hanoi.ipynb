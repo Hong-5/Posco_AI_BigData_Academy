{
 "cells": [
  {
   "cell_type": "code",
   "execution_count": 11,
   "id": "50ee2bed",
   "metadata": {},
   "outputs": [],
   "source": [
    "def Hanoi(start,mid,end,n):\n",
    "    if n == 0:\n",
    "        return\n",
    "    else:\n",
    "        n -= 1\n",
    "        Hanoi(start, end, mid, n)\n",
    "        print(start + ' ' + '->' + ' ' + end)\n",
    "        Hanoi(mid, start, end, n)"
   ]
  },
  {
   "cell_type": "code",
   "execution_count": 12,
   "id": "6d17a5d3",
   "metadata": {},
   "outputs": [
    {
     "name": "stdout",
     "output_type": "stream",
     "text": [
      "2\n",
      "2\n",
      "A -> B\n",
      "A -> C\n",
      "B -> C\n",
      "3\n",
      "A -> C\n",
      "A -> B\n",
      "C -> B\n",
      "A -> C\n",
      "B -> A\n",
      "B -> C\n",
      "A -> C\n"
     ]
    }
   ],
   "source": [
    "t = int(input())\n",
    "\n",
    "for _ in range(t):\n",
    "    n = int(input())\n",
    "    Hanoi('A', 'B', 'C',n)"
   ]
  },
  {
   "cell_type": "code",
   "execution_count": null,
   "id": "cb4636c0",
   "metadata": {},
   "outputs": [],
   "source": []
  }
 ],
 "metadata": {
  "kernelspec": {
   "display_name": "Python 3 (ipykernel)",
   "language": "python",
   "name": "python3"
  },
  "language_info": {
   "codemirror_mode": {
    "name": "ipython",
    "version": 3
   },
   "file_extension": ".py",
   "mimetype": "text/x-python",
   "name": "python",
   "nbconvert_exporter": "python",
   "pygments_lexer": "ipython3",
   "version": "3.9.7"
  }
 },
 "nbformat": 4,
 "nbformat_minor": 5
}
