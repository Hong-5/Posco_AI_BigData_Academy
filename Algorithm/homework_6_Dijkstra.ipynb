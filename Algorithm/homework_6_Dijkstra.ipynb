{
 "cells": [
  {
   "cell_type": "code",
   "execution_count": 31,
   "id": "1d84a822",
   "metadata": {},
   "outputs": [
    {
     "name": "stdout",
     "output_type": "stream",
     "text": [
      "1\n",
      "6 12\n",
      "0 1 7\n",
      "1 2 3\n",
      "2 0 1\n",
      "0 3 4\n",
      "2 3 5\n",
      "3 2 1\n",
      "3 4 8\n",
      "4 3 1\n",
      "2 4 2\n",
      "1 4 4\n",
      "4 5 2\n",
      "3 5 9\n",
      "0\n",
      "[True, False, False, False, False, False]\n",
      "0\n",
      "[0, 7, inf, 4, inf, inf]\n",
      "--------------------\n",
      "0\n",
      "[True, True, False, False, False, False]\n",
      "1\n",
      "[0, 7, 10, 4, 11, inf]\n",
      "--------------------\n",
      "0\n",
      "[True, True, True, False, False, False]\n",
      "2\n",
      "[0, 7, 10, 4, 11, inf]\n",
      "--------------------\n",
      "0\n",
      "[True, True, True, True, False, False]\n",
      "3\n",
      "[0, 7, 5, 4, 11, 13]\n",
      "--------------------\n",
      "0\n",
      "[True, True, True, True, True, False]\n",
      "4\n",
      "[0, 7, 5, 4, 11, 13]\n",
      "--------------------\n",
      "0\n",
      "[True, True, True, True, True, True]\n",
      "5\n",
      "[0, 7, 5, 4, 11, 13]\n",
      "--------------------\n",
      "13\n"
     ]
    }
   ],
   "source": [
    "INF= float('inf') # 0에서 가는 경로가 아직 없음\n",
    "T = int(input())\n",
    "for _ in range(T):\n",
    "    N, M = map(int, input().split())\n",
    "    Matrix = [[0]*N for _ in range(N)]\n",
    "    for i in range(M):\n",
    "        u,v,c = map(int, input().split())\n",
    "        Matrix[u][v] = c  # 인접행렬\n",
    "    D = [0] + [INF]*(N-1)\n",
    "    Check = [False]*N\n",
    "    for iteration in range(N):\n",
    "        Min = INF\n",
    "        for i in range(N):\n",
    "            if D[i]<Min and Check[i]==False:\n",
    "                Min = D[i]\n",
    "                idx = i\n",
    "        Check[idx] = True\n",
    "        if Min == INF: break\n",
    "        for i in range(N):\n",
    "            if Matrix[idx][i] != 0 and D[idx] + Matrix[idx][i] < D[i]:\n",
    "                D[i] = D[idx] + Matrix[idx][i]\n",
    "    if D[N-1]==INF:\n",
    "        print(-1)\n",
    "    else:\n",
    "        print(D[N-1])"
   ]
  }
 ],
 "metadata": {
  "kernelspec": {
   "display_name": "Python 3 (ipykernel)",
   "language": "python",
   "name": "python3"
  },
  "language_info": {
   "codemirror_mode": {
    "name": "ipython",
    "version": 3
   },
   "file_extension": ".py",
   "mimetype": "text/x-python",
   "name": "python",
   "nbconvert_exporter": "python",
   "pygments_lexer": "ipython3",
   "version": "3.9.7"
  }
 },
 "nbformat": 4,
 "nbformat_minor": 5
}
