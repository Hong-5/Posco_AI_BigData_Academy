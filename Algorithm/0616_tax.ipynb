{
 "cells": [
  {
   "cell_type": "code",
   "execution_count": 5,
   "id": "632170da",
   "metadata": {},
   "outputs": [
    {
     "name": "stdout",
     "output_type": "stream",
     "text": [
      "4\n",
      "200\n",
      "2\n",
      "700\n",
      "3\n",
      "7900\n",
      "8\n",
      "53200\n",
      "6\n"
     ]
    }
   ],
   "source": [
    "# 50000\n",
    "# 10000\n",
    "# 5000\n",
    "# 1000\n",
    "# 500\n",
    "# 100\n",
    "t = int(input())\n",
    "price_list = [50000, 10000, 5000, 1000, 500, 100]\n",
    "\n",
    "for _ in range(t):\n",
    "    n = int(input())\n",
    "    cnt = 0\n",
    "    for i in price_list:\n",
    "        cnt += n // i\n",
    "        n = n % i\n",
    "    print(cnt)"
   ]
  }
 ],
 "metadata": {
  "kernelspec": {
   "display_name": "Python 3 (ipykernel)",
   "language": "python",
   "name": "python3"
  },
  "language_info": {
   "codemirror_mode": {
    "name": "ipython",
    "version": 3
   },
   "file_extension": ".py",
   "mimetype": "text/x-python",
   "name": "python",
   "nbconvert_exporter": "python",
   "pygments_lexer": "ipython3",
   "version": "3.9.7"
  }
 },
 "nbformat": 4,
 "nbformat_minor": 5
}
