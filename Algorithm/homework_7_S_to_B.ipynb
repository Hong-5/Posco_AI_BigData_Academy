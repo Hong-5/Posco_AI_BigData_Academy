{
 "cells": [
  {
   "cell_type": "code",
   "execution_count": 29,
   "id": "e81feb18",
   "metadata": {
    "scrolled": true
   },
   "outputs": [
    {
     "name": "stdout",
     "output_type": "stream",
     "text": [
      "4\n",
      "4 10\n",
      "2 3 7 9\n",
      "2\n",
      "10 20\n",
      "1 2 3 4 5 6 7 18 19\n",
      "-1\n",
      "100 1000\n",
      "100 200 300 400 500 600 700 800 900\n",
      "9\n",
      "100 100\n",
      "50\n",
      "0\n"
     ]
    }
   ],
   "source": [
    "t = int(input())\n",
    "\n",
    "for _ in range(t):\n",
    "    G, l = map(int, input().split())\n",
    "    station = list(map(int, input().split())) + [l]\n",
    "\n",
    "    present = 0\n",
    "    rescount = 0\n",
    "    \n",
    "    for i in range(len(station)-1):\n",
    "        if (present + G) >= station[i]:\n",
    "            if (present + G) >= station[i+1]:\n",
    "                continue\n",
    "            else:\n",
    "                present = station[i]\n",
    "                rescount += 1       \n",
    "        else:\n",
    "            break\n",
    "    if (present + G) >= l:\n",
    "        print(rescount)\n",
    "    else:\n",
    "        print(-1)"
   ]
  }
 ],
 "metadata": {
  "kernelspec": {
   "display_name": "Python 3 (ipykernel)",
   "language": "python",
   "name": "python3"
  },
  "language_info": {
   "codemirror_mode": {
    "name": "ipython",
    "version": 3
   },
   "file_extension": ".py",
   "mimetype": "text/x-python",
   "name": "python",
   "nbconvert_exporter": "python",
   "pygments_lexer": "ipython3",
   "version": "3.9.7"
  }
 },
 "nbformat": 4,
 "nbformat_minor": 5
}
