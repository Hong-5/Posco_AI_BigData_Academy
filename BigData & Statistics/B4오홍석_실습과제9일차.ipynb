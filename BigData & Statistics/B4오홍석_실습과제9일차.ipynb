{
 "cells": [
  {
   "cell_type": "code",
   "execution_count": 1,
   "id": "6fb0f7b1",
   "metadata": {},
   "outputs": [],
   "source": [
    "import pandas as pd\n",
    "import matplotlib.pyplot as plt\n",
    "import matplotlib\n",
    "from sklearn.preprocessing import StandardScaler\n",
    "from sklearn.model_selection import train_test_split\n",
    "from sklearn.neural_network import MLPClassifier\n",
    "from sklearn.model_selection import GridSearchCV\n",
    "from sklearn.metrics import accuracy_score, f1_score\n",
    "from sklearn.metrics import confusion_matrix, classification_report\n",
    "from sklearn.neighbors import KNeighborsClassifier\n",
    "import seaborn as sns\n",
    "\n",
    "matplotlib.rc('font', family = 'Noto Sans CJK JP')\n",
    "matplotlib.rc('axes', unicode_minus = False)\n"
   ]
  },
  {
   "cell_type": "markdown",
   "id": "5f5067cd",
   "metadata": {},
   "source": [
    "# 과제물_인공신경망"
   ]
  },
  {
   "cell_type": "markdown",
   "id": "9c2f699b",
   "metadata": {},
   "source": [
    "- 머신러닝에서 신경망은 인공신경망을 의미하며 생물학적 신경망 네트워크를 기계학급과 인지과학을 통해 수학적으로 표현한 모델을 의미한다. "
   ]
  },
  {
   "cell_type": "markdown",
   "id": "73102583",
   "metadata": {},
   "source": [
    "## 다층신경망\n",
    "\n",
    "- 입력층을 제외한 층을 2개 이상 포함하는 NN이다. 이때 입력층과 출력층을 제외한 모든 층을 은닉층이라 한다. "
   ]
  },
  {
   "cell_type": "code",
   "execution_count": 2,
   "id": "130b7b81",
   "metadata": {},
   "outputs": [],
   "source": [
    "df_raw = pd.read_csv('/home/piai/test/2. Big Data 분석/유방암.csv', encoding='cp949')"
   ]
  },
  {
   "cell_type": "code",
   "execution_count": 3,
   "id": "b264e589",
   "metadata": {},
   "outputs": [
    {
     "data": {
      "text/html": [
       "<div>\n",
       "<style scoped>\n",
       "    .dataframe tbody tr th:only-of-type {\n",
       "        vertical-align: middle;\n",
       "    }\n",
       "\n",
       "    .dataframe tbody tr th {\n",
       "        vertical-align: top;\n",
       "    }\n",
       "\n",
       "    .dataframe thead th {\n",
       "        text-align: right;\n",
       "    }\n",
       "</style>\n",
       "<table border=\"1\" class=\"dataframe\">\n",
       "  <thead>\n",
       "    <tr style=\"text-align: right;\">\n",
       "      <th></th>\n",
       "      <th>diagnosis</th>\n",
       "      <th>mean_radius</th>\n",
       "      <th>mean_texture</th>\n",
       "      <th>mean_perimeter</th>\n",
       "      <th>mean_area</th>\n",
       "      <th>mean_smoothness</th>\n",
       "      <th>mean_compactness</th>\n",
       "      <th>mean_concavity</th>\n",
       "      <th>mean_concave_points</th>\n",
       "      <th>mean_symmetry</th>\n",
       "      <th>...</th>\n",
       "      <th>worst_radius</th>\n",
       "      <th>worst_texture</th>\n",
       "      <th>worst_perimeter</th>\n",
       "      <th>worst_area</th>\n",
       "      <th>worst_smoothness</th>\n",
       "      <th>worst_compactness</th>\n",
       "      <th>worst_concavity</th>\n",
       "      <th>worst_concave_points</th>\n",
       "      <th>worst_symmetry</th>\n",
       "      <th>worst_fractal_dimension</th>\n",
       "    </tr>\n",
       "  </thead>\n",
       "  <tbody>\n",
       "    <tr>\n",
       "      <th>0</th>\n",
       "      <td>음성</td>\n",
       "      <td>15.12</td>\n",
       "      <td>16.68</td>\n",
       "      <td>98.78</td>\n",
       "      <td>716.6</td>\n",
       "      <td>0.08876</td>\n",
       "      <td>0.09588</td>\n",
       "      <td>0.07550</td>\n",
       "      <td>0.04079</td>\n",
       "      <td>0.1594</td>\n",
       "      <td>...</td>\n",
       "      <td>17.77</td>\n",
       "      <td>20.24</td>\n",
       "      <td>117.70</td>\n",
       "      <td>989.5</td>\n",
       "      <td>0.14910</td>\n",
       "      <td>0.33310</td>\n",
       "      <td>0.33270</td>\n",
       "      <td>0.12520</td>\n",
       "      <td>0.3415</td>\n",
       "      <td>0.09740</td>\n",
       "    </tr>\n",
       "    <tr>\n",
       "      <th>1</th>\n",
       "      <td>양성</td>\n",
       "      <td>10.80</td>\n",
       "      <td>9.71</td>\n",
       "      <td>68.77</td>\n",
       "      <td>357.6</td>\n",
       "      <td>0.09594</td>\n",
       "      <td>0.05736</td>\n",
       "      <td>0.02531</td>\n",
       "      <td>0.01698</td>\n",
       "      <td>0.1381</td>\n",
       "      <td>...</td>\n",
       "      <td>11.60</td>\n",
       "      <td>12.02</td>\n",
       "      <td>73.66</td>\n",
       "      <td>414.0</td>\n",
       "      <td>0.14360</td>\n",
       "      <td>0.12570</td>\n",
       "      <td>0.10470</td>\n",
       "      <td>0.04603</td>\n",
       "      <td>0.2090</td>\n",
       "      <td>0.07699</td>\n",
       "    </tr>\n",
       "    <tr>\n",
       "      <th>2</th>\n",
       "      <td>음성</td>\n",
       "      <td>18.31</td>\n",
       "      <td>18.58</td>\n",
       "      <td>118.60</td>\n",
       "      <td>1041.0</td>\n",
       "      <td>0.08588</td>\n",
       "      <td>0.08468</td>\n",
       "      <td>0.08169</td>\n",
       "      <td>0.05814</td>\n",
       "      <td>0.1621</td>\n",
       "      <td>...</td>\n",
       "      <td>21.31</td>\n",
       "      <td>26.36</td>\n",
       "      <td>139.20</td>\n",
       "      <td>1410.0</td>\n",
       "      <td>0.12340</td>\n",
       "      <td>0.24450</td>\n",
       "      <td>0.35380</td>\n",
       "      <td>0.15710</td>\n",
       "      <td>0.3206</td>\n",
       "      <td>0.06938</td>\n",
       "    </tr>\n",
       "    <tr>\n",
       "      <th>3</th>\n",
       "      <td>양성</td>\n",
       "      <td>14.92</td>\n",
       "      <td>14.93</td>\n",
       "      <td>96.45</td>\n",
       "      <td>686.9</td>\n",
       "      <td>0.08098</td>\n",
       "      <td>0.08549</td>\n",
       "      <td>0.05539</td>\n",
       "      <td>0.03221</td>\n",
       "      <td>0.1687</td>\n",
       "      <td>...</td>\n",
       "      <td>17.18</td>\n",
       "      <td>18.22</td>\n",
       "      <td>112.00</td>\n",
       "      <td>906.6</td>\n",
       "      <td>0.10650</td>\n",
       "      <td>0.27910</td>\n",
       "      <td>0.31510</td>\n",
       "      <td>0.11470</td>\n",
       "      <td>0.2688</td>\n",
       "      <td>0.08273</td>\n",
       "    </tr>\n",
       "    <tr>\n",
       "      <th>4</th>\n",
       "      <td>양성</td>\n",
       "      <td>12.89</td>\n",
       "      <td>13.12</td>\n",
       "      <td>81.89</td>\n",
       "      <td>515.9</td>\n",
       "      <td>0.06955</td>\n",
       "      <td>0.03729</td>\n",
       "      <td>0.02260</td>\n",
       "      <td>0.01171</td>\n",
       "      <td>0.1337</td>\n",
       "      <td>...</td>\n",
       "      <td>13.62</td>\n",
       "      <td>15.54</td>\n",
       "      <td>87.40</td>\n",
       "      <td>577.0</td>\n",
       "      <td>0.09616</td>\n",
       "      <td>0.11470</td>\n",
       "      <td>0.11860</td>\n",
       "      <td>0.05366</td>\n",
       "      <td>0.2309</td>\n",
       "      <td>0.06915</td>\n",
       "    </tr>\n",
       "    <tr>\n",
       "      <th>...</th>\n",
       "      <td>...</td>\n",
       "      <td>...</td>\n",
       "      <td>...</td>\n",
       "      <td>...</td>\n",
       "      <td>...</td>\n",
       "      <td>...</td>\n",
       "      <td>...</td>\n",
       "      <td>...</td>\n",
       "      <td>...</td>\n",
       "      <td>...</td>\n",
       "      <td>...</td>\n",
       "      <td>...</td>\n",
       "      <td>...</td>\n",
       "      <td>...</td>\n",
       "      <td>...</td>\n",
       "      <td>...</td>\n",
       "      <td>...</td>\n",
       "      <td>...</td>\n",
       "      <td>...</td>\n",
       "      <td>...</td>\n",
       "      <td>...</td>\n",
       "    </tr>\n",
       "    <tr>\n",
       "      <th>315</th>\n",
       "      <td>음성</td>\n",
       "      <td>19.55</td>\n",
       "      <td>23.21</td>\n",
       "      <td>128.90</td>\n",
       "      <td>1174.0</td>\n",
       "      <td>0.10100</td>\n",
       "      <td>0.13180</td>\n",
       "      <td>0.18560</td>\n",
       "      <td>0.10210</td>\n",
       "      <td>0.1989</td>\n",
       "      <td>...</td>\n",
       "      <td>20.82</td>\n",
       "      <td>30.44</td>\n",
       "      <td>142.00</td>\n",
       "      <td>1313.0</td>\n",
       "      <td>0.12510</td>\n",
       "      <td>0.24140</td>\n",
       "      <td>0.38290</td>\n",
       "      <td>0.18250</td>\n",
       "      <td>0.2576</td>\n",
       "      <td>0.07602</td>\n",
       "    </tr>\n",
       "    <tr>\n",
       "      <th>316</th>\n",
       "      <td>음성</td>\n",
       "      <td>19.10</td>\n",
       "      <td>26.29</td>\n",
       "      <td>129.10</td>\n",
       "      <td>1132.0</td>\n",
       "      <td>0.12150</td>\n",
       "      <td>0.17910</td>\n",
       "      <td>0.19370</td>\n",
       "      <td>0.14690</td>\n",
       "      <td>0.1634</td>\n",
       "      <td>...</td>\n",
       "      <td>20.33</td>\n",
       "      <td>32.72</td>\n",
       "      <td>141.30</td>\n",
       "      <td>1298.0</td>\n",
       "      <td>0.13920</td>\n",
       "      <td>0.28170</td>\n",
       "      <td>0.24320</td>\n",
       "      <td>0.18410</td>\n",
       "      <td>0.2311</td>\n",
       "      <td>0.09203</td>\n",
       "    </tr>\n",
       "    <tr>\n",
       "      <th>317</th>\n",
       "      <td>음성</td>\n",
       "      <td>24.25</td>\n",
       "      <td>20.20</td>\n",
       "      <td>166.20</td>\n",
       "      <td>1761.0</td>\n",
       "      <td>0.14470</td>\n",
       "      <td>0.28670</td>\n",
       "      <td>0.42680</td>\n",
       "      <td>0.20120</td>\n",
       "      <td>0.2655</td>\n",
       "      <td>...</td>\n",
       "      <td>26.02</td>\n",
       "      <td>23.99</td>\n",
       "      <td>180.90</td>\n",
       "      <td>2073.0</td>\n",
       "      <td>0.16960</td>\n",
       "      <td>0.42440</td>\n",
       "      <td>0.58030</td>\n",
       "      <td>0.22480</td>\n",
       "      <td>0.3222</td>\n",
       "      <td>0.08009</td>\n",
       "    </tr>\n",
       "    <tr>\n",
       "      <th>318</th>\n",
       "      <td>음성</td>\n",
       "      <td>19.17</td>\n",
       "      <td>24.80</td>\n",
       "      <td>132.40</td>\n",
       "      <td>1123.0</td>\n",
       "      <td>0.09740</td>\n",
       "      <td>0.24580</td>\n",
       "      <td>0.20650</td>\n",
       "      <td>0.11180</td>\n",
       "      <td>0.2397</td>\n",
       "      <td>...</td>\n",
       "      <td>20.96</td>\n",
       "      <td>29.94</td>\n",
       "      <td>151.70</td>\n",
       "      <td>1332.0</td>\n",
       "      <td>0.10370</td>\n",
       "      <td>0.39030</td>\n",
       "      <td>0.36390</td>\n",
       "      <td>0.17670</td>\n",
       "      <td>0.3176</td>\n",
       "      <td>0.10230</td>\n",
       "    </tr>\n",
       "    <tr>\n",
       "      <th>319</th>\n",
       "      <td>양성</td>\n",
       "      <td>11.76</td>\n",
       "      <td>21.60</td>\n",
       "      <td>74.72</td>\n",
       "      <td>427.9</td>\n",
       "      <td>0.08637</td>\n",
       "      <td>0.04966</td>\n",
       "      <td>0.01657</td>\n",
       "      <td>0.01115</td>\n",
       "      <td>0.1495</td>\n",
       "      <td>...</td>\n",
       "      <td>12.98</td>\n",
       "      <td>25.72</td>\n",
       "      <td>82.98</td>\n",
       "      <td>516.5</td>\n",
       "      <td>0.10850</td>\n",
       "      <td>0.08615</td>\n",
       "      <td>0.05523</td>\n",
       "      <td>0.03715</td>\n",
       "      <td>0.2433</td>\n",
       "      <td>0.06563</td>\n",
       "    </tr>\n",
       "  </tbody>\n",
       "</table>\n",
       "<p>320 rows × 31 columns</p>\n",
       "</div>"
      ],
      "text/plain": [
       "    diagnosis  mean_radius  mean_texture  mean_perimeter  mean_area  \\\n",
       "0          음성        15.12         16.68           98.78      716.6   \n",
       "1          양성        10.80          9.71           68.77      357.6   \n",
       "2          음성        18.31         18.58          118.60     1041.0   \n",
       "3          양성        14.92         14.93           96.45      686.9   \n",
       "4          양성        12.89         13.12           81.89      515.9   \n",
       "..        ...          ...           ...             ...        ...   \n",
       "315        음성        19.55         23.21          128.90     1174.0   \n",
       "316        음성        19.10         26.29          129.10     1132.0   \n",
       "317        음성        24.25         20.20          166.20     1761.0   \n",
       "318        음성        19.17         24.80          132.40     1123.0   \n",
       "319        양성        11.76         21.60           74.72      427.9   \n",
       "\n",
       "     mean_smoothness  mean_compactness  mean_concavity  mean_concave_points  \\\n",
       "0            0.08876           0.09588         0.07550              0.04079   \n",
       "1            0.09594           0.05736         0.02531              0.01698   \n",
       "2            0.08588           0.08468         0.08169              0.05814   \n",
       "3            0.08098           0.08549         0.05539              0.03221   \n",
       "4            0.06955           0.03729         0.02260              0.01171   \n",
       "..               ...               ...             ...                  ...   \n",
       "315          0.10100           0.13180         0.18560              0.10210   \n",
       "316          0.12150           0.17910         0.19370              0.14690   \n",
       "317          0.14470           0.28670         0.42680              0.20120   \n",
       "318          0.09740           0.24580         0.20650              0.11180   \n",
       "319          0.08637           0.04966         0.01657              0.01115   \n",
       "\n",
       "     mean_symmetry  ...  worst_radius  worst_texture  worst_perimeter  \\\n",
       "0           0.1594  ...         17.77          20.24           117.70   \n",
       "1           0.1381  ...         11.60          12.02            73.66   \n",
       "2           0.1621  ...         21.31          26.36           139.20   \n",
       "3           0.1687  ...         17.18          18.22           112.00   \n",
       "4           0.1337  ...         13.62          15.54            87.40   \n",
       "..             ...  ...           ...            ...              ...   \n",
       "315         0.1989  ...         20.82          30.44           142.00   \n",
       "316         0.1634  ...         20.33          32.72           141.30   \n",
       "317         0.2655  ...         26.02          23.99           180.90   \n",
       "318         0.2397  ...         20.96          29.94           151.70   \n",
       "319         0.1495  ...         12.98          25.72            82.98   \n",
       "\n",
       "     worst_area  worst_smoothness  worst_compactness  worst_concavity  \\\n",
       "0         989.5           0.14910            0.33310          0.33270   \n",
       "1         414.0           0.14360            0.12570          0.10470   \n",
       "2        1410.0           0.12340            0.24450          0.35380   \n",
       "3         906.6           0.10650            0.27910          0.31510   \n",
       "4         577.0           0.09616            0.11470          0.11860   \n",
       "..          ...               ...                ...              ...   \n",
       "315      1313.0           0.12510            0.24140          0.38290   \n",
       "316      1298.0           0.13920            0.28170          0.24320   \n",
       "317      2073.0           0.16960            0.42440          0.58030   \n",
       "318      1332.0           0.10370            0.39030          0.36390   \n",
       "319       516.5           0.10850            0.08615          0.05523   \n",
       "\n",
       "     worst_concave_points  worst_symmetry  worst_fractal_dimension  \n",
       "0                 0.12520          0.3415                  0.09740  \n",
       "1                 0.04603          0.2090                  0.07699  \n",
       "2                 0.15710          0.3206                  0.06938  \n",
       "3                 0.11470          0.2688                  0.08273  \n",
       "4                 0.05366          0.2309                  0.06915  \n",
       "..                    ...             ...                      ...  \n",
       "315               0.18250          0.2576                  0.07602  \n",
       "316               0.18410          0.2311                  0.09203  \n",
       "317               0.22480          0.3222                  0.08009  \n",
       "318               0.17670          0.3176                  0.10230  \n",
       "319               0.03715          0.2433                  0.06563  \n",
       "\n",
       "[320 rows x 31 columns]"
      ]
     },
     "execution_count": 3,
     "metadata": {},
     "output_type": "execute_result"
    }
   ],
   "source": [
    "df_raw"
   ]
  },
  {
   "cell_type": "code",
   "execution_count": 4,
   "id": "4fe32057",
   "metadata": {
    "scrolled": true
   },
   "outputs": [
    {
     "name": "stdout",
     "output_type": "stream",
     "text": [
      "<class 'pandas.core.frame.DataFrame'>\n",
      "RangeIndex: 320 entries, 0 to 319\n",
      "Data columns (total 31 columns):\n",
      " #   Column                   Non-Null Count  Dtype  \n",
      "---  ------                   --------------  -----  \n",
      " 0   diagnosis                320 non-null    object \n",
      " 1   mean_radius              320 non-null    float64\n",
      " 2   mean_texture             320 non-null    float64\n",
      " 3   mean_perimeter           320 non-null    float64\n",
      " 4   mean_area                320 non-null    float64\n",
      " 5   mean_smoothness          320 non-null    float64\n",
      " 6   mean_compactness         320 non-null    float64\n",
      " 7   mean_concavity           320 non-null    float64\n",
      " 8   mean_concave_points      320 non-null    float64\n",
      " 9   mean_symmetry            320 non-null    float64\n",
      " 10  mean_fractal_dimension   320 non-null    float64\n",
      " 11  radius_error             320 non-null    float64\n",
      " 12  texture_error            320 non-null    float64\n",
      " 13  perimeter_error          320 non-null    float64\n",
      " 14  area_error               320 non-null    float64\n",
      " 15  smoothness_error         320 non-null    float64\n",
      " 16  compactness_error        320 non-null    float64\n",
      " 17  concavity_error          320 non-null    float64\n",
      " 18  concave_points_error     320 non-null    float64\n",
      " 19  symmetry_error           320 non-null    float64\n",
      " 20  fractal_dimension_error  320 non-null    float64\n",
      " 21  worst_radius             320 non-null    float64\n",
      " 22  worst_texture            320 non-null    float64\n",
      " 23  worst_perimeter          320 non-null    float64\n",
      " 24  worst_area               320 non-null    float64\n",
      " 25  worst_smoothness         320 non-null    float64\n",
      " 26  worst_compactness        320 non-null    float64\n",
      " 27  worst_concavity          320 non-null    float64\n",
      " 28  worst_concave_points     320 non-null    float64\n",
      " 29  worst_symmetry           320 non-null    float64\n",
      " 30  worst_fractal_dimension  320 non-null    float64\n",
      "dtypes: float64(30), object(1)\n",
      "memory usage: 77.6+ KB\n"
     ]
    }
   ],
   "source": [
    "df_raw.info()"
   ]
  },
  {
   "cell_type": "code",
   "execution_count": 5,
   "id": "5bfb7ad8",
   "metadata": {},
   "outputs": [
    {
     "data": {
      "text/plain": [
       "(320, 31)"
      ]
     },
     "execution_count": 5,
     "metadata": {},
     "output_type": "execute_result"
    }
   ],
   "source": [
    "df_raw.shape"
   ]
  },
  {
   "cell_type": "code",
   "execution_count": 6,
   "id": "0fcf2dcf",
   "metadata": {
    "scrolled": true
   },
   "outputs": [
    {
     "data": {
      "text/plain": [
       "diagnosis                  0\n",
       "mean_radius                0\n",
       "mean_texture               0\n",
       "mean_perimeter             0\n",
       "mean_area                  0\n",
       "mean_smoothness            0\n",
       "mean_compactness           0\n",
       "mean_concavity             0\n",
       "mean_concave_points        0\n",
       "mean_symmetry              0\n",
       "mean_fractal_dimension     0\n",
       "radius_error               0\n",
       "texture_error              0\n",
       "perimeter_error            0\n",
       "area_error                 0\n",
       "smoothness_error           0\n",
       "compactness_error          0\n",
       "concavity_error            0\n",
       "concave_points_error       0\n",
       "symmetry_error             0\n",
       "fractal_dimension_error    0\n",
       "worst_radius               0\n",
       "worst_texture              0\n",
       "worst_perimeter            0\n",
       "worst_area                 0\n",
       "worst_smoothness           0\n",
       "worst_compactness          0\n",
       "worst_concavity            0\n",
       "worst_concave_points       0\n",
       "worst_symmetry             0\n",
       "worst_fractal_dimension    0\n",
       "dtype: int64"
      ]
     },
     "execution_count": 6,
     "metadata": {},
     "output_type": "execute_result"
    }
   ],
   "source": [
    "df_raw.isnull().sum()"
   ]
  },
  {
   "cell_type": "markdown",
   "id": "d302ef48",
   "metadata": {},
   "source": [
    "- 유방암 데이터는 총 31개의 칼럼으로 이루어져 있으며 총 데이터의 행의 개수는 320개이다. 유방암 데이터 셋의 피쳐들은 유방암 세포 특징에 대한 것이다."
   ]
  },
  {
   "cell_type": "markdown",
   "id": "f0543790",
   "metadata": {},
   "source": [
    "- diagnosis : 양성 여부\n",
    "- radius : 반경(중심에서 외벽까지 거리들의 평균 값)\n",
    "- texture : 질감(gray-scale 값들의 표준편차)\n",
    "- perimeter : 둘레\n",
    "- area : 면적\n",
    "- smoothness : 매끄러움\n",
    "- compactness : 조그만 정도 (둘레^2/면적 -1)\n",
    "- concavity : 오목함\n",
    "- concave_points : 오목함 점의 수\n",
    "- symmetry : 대칭\n",
    "- fractal_dimension : 프렉탈 차원"
   ]
  },
  {
   "cell_type": "markdown",
   "id": "a34a6bb4",
   "metadata": {},
   "source": [
    "# 1-0) 목표변수 빈도확인 "
   ]
  },
  {
   "cell_type": "code",
   "execution_count": 7,
   "id": "622e6e0a",
   "metadata": {
    "scrolled": true
   },
   "outputs": [
    {
     "data": {
      "image/png": "[encoded data removed]",
      "text/plain": [
       "<Figure size 432x288 with 1 Axes>"
      ]
     },
     "metadata": {},
     "output_type": "display_data"
    }
   ],
   "source": [
    "df_raw['diagnosis'].value_counts().plot.pie(autopct='%.1f%%')\n",
    "plt.show()"
   ]
  },
  {
   "cell_type": "markdown",
   "id": "11d45ead",
   "metadata": {},
   "source": [
    "**불균형자료**"
   ]
  },
  {
   "cell_type": "markdown",
   "id": "5c2ceab1",
   "metadata": {},
   "source": [
    ": 목표변수의 분포가 매우 치우친, 즉 관심있는 값의 빈도가 매우 작은 자료로 모델을 사용하여서 예측을 하면 정확도(accuracy)는 높지만 재현율(recall, 실제 1을 1로 분류할 확률)이 급격히 작아져 모델의 성능이 안좋아진다."
   ]
  },
  {
   "cell_type": "markdown",
   "id": "e921621e",
   "metadata": {},
   "source": [
    ": 해결방법에는 정상자료는 일부만 사용하고 관심자료는 전부 사용하는 Under-sampling, 정상자료를 전부 사용하고 관심자료를 복제하는 Over-sampling, 정상자료 및 관심자료를 둘 다 줄이고 늘리는 Both-sampling, 기존 데이터의 성격을 크게 해치지 않는 범위에서 새로운 것을 만들어내는 Synthetic 등의 방법이 있다."
   ]
  },
  {
   "cell_type": "markdown",
   "id": "eaa20a27",
   "metadata": {},
   "source": [
    "- 불균형 자료를 해결하기 전에 train dataset과 test dataset을 나눠야하는데 이는 train 데이터로 모델을 학습시키고 학습시킨 모델을 test 데이터로 성능을 평가하기 때문이다. 만약 데이터를 나누기 전에 데이터를 복제해버리면 train data와 test data에 동일한 데이터가 들어가 모델의 성능이 지나치게 높게 보일 수도 있다."
   ]
  },
  {
   "cell_type": "markdown",
   "id": "192bede1",
   "metadata": {},
   "source": [
    "- 보통은 9:1로 기준을 설정한다."
   ]
  },
  {
   "cell_type": "markdown",
   "id": "faaf2bc4",
   "metadata": {},
   "source": [
    "- 현재 분석대상인 유방암 데이터의 음성과 양성을 pie plot으로 비교해 보았을 때 음성 66:34로 비율이 그렇게 큰 차이가 나지는 않아 따로 Oversampling이나 Undersampling을 진행하지 않는다."
   ]
  },
  {
   "cell_type": "markdown",
   "id": "ff32a601",
   "metadata": {},
   "source": [
    "# 1) 데이터 구성하기 - 데이터 분할(6:4)"
   ]
  },
  {
   "cell_type": "markdown",
   "id": "58fae791",
   "metadata": {},
   "source": [
    "- 데이터를 분할할 때 6:4, 7:3, 8:2 와 같은 기준은 데이터분석가가 임의로 정하는데 이는 학습할 데이터의 양에 따라 결정된다. 예를 들어 전체 데이터 개수가 엄청 많은 경우 6:4로 분할하여도 학습할 데이터 수가 충분히 많기 때문에 테스트 데이터를 많이 두어 모델의 일반화 성능을 보는 것이 좋을테지만 데이터 수가 적을 경우 모델이 충분히 학습하는 것이 중요하기 때문에 8:2 로 split하는 경우도 있다. 이 과제에서는 6:4로 split 하라고 명시되어있으니 6:4로 split하였다."
   ]
  },
  {
   "cell_type": "code",
   "execution_count": 8,
   "id": "0342fc0f",
   "metadata": {},
   "outputs": [
    {
     "name": "stdout",
     "output_type": "stream",
     "text": [
      "분할 전 설명변수 데이터: (320, 30)\n",
      "분할 후 설명변수 데이터:Train (192, 30) Test (128, 30)\n"
     ]
    }
   ],
   "source": [
    "df_raw_x = df_raw.drop('diagnosis', axis=1, inplace=False)\n",
    "df_raw_y = df_raw['diagnosis']\n",
    "\n",
    "df_train_x, df_test_x, df_train_y, df_test_y = train_test_split(df_raw_x, df_raw_y, test_size=0.4, random_state=1234)\n",
    "\n",
    "print('분할 전 설명변수 데이터:' ,df_raw_x.shape)\n",
    "print('분할 후 설명변수 데이터:Train', df_train_x.shape,'Test', df_test_x.shape)"
   ]
  },
  {
   "cell_type": "code",
   "execution_count": 9,
   "id": "ab0eb194",
   "metadata": {},
   "outputs": [
    {
     "name": "stdout",
     "output_type": "stream",
     "text": [
      "Accuracy on training set: 0.901\n",
      "Accuracy on test set: 0.930\n"
     ]
    },
    {
     "name": "stderr",
     "output_type": "stream",
     "text": [
      "/home/piai/anaconda3/lib/python3.9/site-packages/sklearn/neural_network/_multilayer_perceptron.py:702: ConvergenceWarning: Stochastic Optimizer: Maximum iterations (200) reached and the optimization hasn't converged yet.\n",
      "  warnings.warn(\n"
     ]
    }
   ],
   "source": [
    "nn_uncustomized = MLPClassifier(random_state=1234)\n",
    "nn_uncustomized.fit(df_train_x, df_train_y)\n",
    "\n",
    "print('Accuracy on training set: {:.3f}'.format(nn_uncustomized.score(df_train_x, df_train_y)))\n",
    "print('Accuracy on test set: {:.3f}'.format(nn_uncustomized.score(df_test_x, df_test_y)))"
   ]
  },
  {
   "cell_type": "markdown",
   "id": "471daf83",
   "metadata": {},
   "source": [
    "- 기본 default MlP의 train set 성능은 0.901이고 test set 성능은 0.930이다. train의 성능도 좋지만 test의 성능이 이보다 높은 것을 보아 과적합은 아닌것을 알 수 있다."
   ]
  },
  {
   "cell_type": "markdown",
   "id": "a829db86",
   "metadata": {},
   "source": [
    "# 1. 은닉층 변경"
   ]
  },
  {
   "cell_type": "markdown",
   "id": "d68f0c39",
   "metadata": {},
   "source": [
    "- 은닉층 개수와 층별 노드 개수를 지정하는데 은닉층이 복잡할수록 모델의 과대적합 경향성이 나타난다. "
   ]
  },
  {
   "cell_type": "markdown",
   "id": "e47b751c",
   "metadata": {},
   "source": [
    "## 1-1. 은닉층 1개"
   ]
  },
  {
   "cell_type": "code",
   "execution_count": 10,
   "id": "6782122a",
   "metadata": {},
   "outputs": [
    {
     "name": "stderr",
     "output_type": "stream",
     "text": [
      "/home/piai/anaconda3/lib/python3.9/site-packages/sklearn/neural_network/_multilayer_perceptron.py:702: ConvergenceWarning: Stochastic Optimizer: Maximum iterations (200) reached and the optimization hasn't converged yet.\n",
      "  warnings.warn(\n",
      "/home/piai/anaconda3/lib/python3.9/site-packages/sklearn/neural_network/_multilayer_perceptron.py:702: ConvergenceWarning: Stochastic Optimizer: Maximum iterations (200) reached and the optimization hasn't converged yet.\n",
      "  warnings.warn(\n",
      "/home/piai/anaconda3/lib/python3.9/site-packages/sklearn/neural_network/_multilayer_perceptron.py:702: ConvergenceWarning: Stochastic Optimizer: Maximum iterations (200) reached and the optimization hasn't converged yet.\n",
      "  warnings.warn(\n"
     ]
    }
   ],
   "source": [
    "train_accuracy = []\n",
    "test_accuracy = []\n",
    "para_hidden = [20 * hidden for hidden in range(1, 9)]\n",
    "for v_hidden in para_hidden:\n",
    "    nn = MLPClassifier(hidden_layer_sizes=(v_hidden), random_state=1234)\n",
    "    nn.fit(df_train_x, df_train_y)\n",
    "    train_accuracy.append(nn.score(df_train_x, df_train_y))\n",
    "    test_accuracy.append(nn.score(df_test_x, df_test_y))\n",
    "df_accuracy_hidden = pd.DataFrame()\n",
    "df_accuracy_hidden['HiddenLayer'] = para_hidden\n",
    "df_accuracy_hidden['TrainAccuracy'] = train_accuracy\n",
    "df_accuracy_hidden['TestAccuracy'] = test_accuracy"
   ]
  },
  {
   "cell_type": "code",
   "execution_count": 11,
   "id": "7ac5ea50",
   "metadata": {},
   "outputs": [
    {
     "data": {
      "text/html": [
       "<div>\n",
       "<style scoped>\n",
       "    .dataframe tbody tr th:only-of-type {\n",
       "        vertical-align: middle;\n",
       "    }\n",
       "\n",
       "    .dataframe tbody tr th {\n",
       "        vertical-align: top;\n",
       "    }\n",
       "\n",
       "    .dataframe thead th {\n",
       "        text-align: right;\n",
       "    }\n",
       "</style>\n",
       "<table border=\"1\" class=\"dataframe\">\n",
       "  <thead>\n",
       "    <tr style=\"text-align: right;\">\n",
       "      <th></th>\n",
       "      <th>HiddenLayer</th>\n",
       "      <th>TrainAccuracy</th>\n",
       "      <th>TestAccuracy</th>\n",
       "    </tr>\n",
       "  </thead>\n",
       "  <tbody>\n",
       "    <tr>\n",
       "      <th>0</th>\n",
       "      <td>20</td>\n",
       "      <td>0.401</td>\n",
       "      <td>0.242</td>\n",
       "    </tr>\n",
       "    <tr>\n",
       "      <th>1</th>\n",
       "      <td>40</td>\n",
       "      <td>0.594</td>\n",
       "      <td>0.758</td>\n",
       "    </tr>\n",
       "    <tr>\n",
       "      <th>2</th>\n",
       "      <td>60</td>\n",
       "      <td>0.917</td>\n",
       "      <td>0.930</td>\n",
       "    </tr>\n",
       "    <tr>\n",
       "      <th>3</th>\n",
       "      <td>80</td>\n",
       "      <td>0.932</td>\n",
       "      <td>0.898</td>\n",
       "    </tr>\n",
       "    <tr>\n",
       "      <th>4</th>\n",
       "      <td>100</td>\n",
       "      <td>0.901</td>\n",
       "      <td>0.930</td>\n",
       "    </tr>\n",
       "    <tr>\n",
       "      <th>5</th>\n",
       "      <td>120</td>\n",
       "      <td>0.599</td>\n",
       "      <td>0.758</td>\n",
       "    </tr>\n",
       "    <tr>\n",
       "      <th>6</th>\n",
       "      <td>140</td>\n",
       "      <td>0.599</td>\n",
       "      <td>0.758</td>\n",
       "    </tr>\n",
       "    <tr>\n",
       "      <th>7</th>\n",
       "      <td>160</td>\n",
       "      <td>0.599</td>\n",
       "      <td>0.758</td>\n",
       "    </tr>\n",
       "  </tbody>\n",
       "</table>\n",
       "</div>"
      ],
      "text/plain": [
       "   HiddenLayer  TrainAccuracy  TestAccuracy\n",
       "0           20          0.401         0.242\n",
       "1           40          0.594         0.758\n",
       "2           60          0.917         0.930\n",
       "3           80          0.932         0.898\n",
       "4          100          0.901         0.930\n",
       "5          120          0.599         0.758\n",
       "6          140          0.599         0.758\n",
       "7          160          0.599         0.758"
      ]
     },
     "execution_count": 11,
     "metadata": {},
     "output_type": "execute_result"
    }
   ],
   "source": [
    "df_accuracy_hidden.round(3)"
   ]
  },
  {
   "cell_type": "code",
   "execution_count": 12,
   "id": "3c847804",
   "metadata": {},
   "outputs": [
    {
     "data": {
      "text/plain": [
       "<matplotlib.legend.Legend at 0x7f69f9909e80>"
      ]
     },
     "execution_count": 12,
     "metadata": {},
     "output_type": "execute_result"
    },
    {
     "data": {
      "image/png": "[encoded data removed]",
      "text/plain": [
       "<Figure size 432x288 with 1 Axes>"
      ]
     },
     "metadata": {
      "needs_background": "light"
     },
     "output_type": "display_data"
    }
   ],
   "source": [
    "plt.plot(para_hidden, train_accuracy, linestyle = '-', label='Train Accuracy')\n",
    "plt.plot(para_hidden, test_accuracy, linestyle = '--', label='Test Accuracy')\n",
    "plt.ylabel('accuracy')\n",
    "plt.xlabel('Hidden Layer')\n",
    "plt.legend()"
   ]
  },
  {
   "cell_type": "markdown",
   "id": "2686b9a0",
   "metadata": {},
   "source": [
    "- train, test 데이터셋 모두 은닉층이 Hidden Layer의 노드수가 늘어나면서 Accuracy가 증가하는 모습을 보이다 Hidden Layer의 노드수가 100이 넘어가면 정확도가 급격히 낮아지다가 수렴하는 것을 볼 수 있다. "
   ]
  },
  {
   "cell_type": "markdown",
   "id": "8a746306",
   "metadata": {},
   "source": [
    "## 1-2. 은닉층 2개"
   ]
  },
  {
   "cell_type": "code",
   "execution_count": 13,
   "id": "a4be04b5",
   "metadata": {},
   "outputs": [
    {
     "name": "stderr",
     "output_type": "stream",
     "text": [
      "/home/piai/anaconda3/lib/python3.9/site-packages/sklearn/neural_network/_multilayer_perceptron.py:702: ConvergenceWarning: Stochastic Optimizer: Maximum iterations (200) reached and the optimization hasn't converged yet.\n",
      "  warnings.warn(\n",
      "/home/piai/anaconda3/lib/python3.9/site-packages/sklearn/neural_network/_multilayer_perceptron.py:702: ConvergenceWarning: Stochastic Optimizer: Maximum iterations (200) reached and the optimization hasn't converged yet.\n",
      "  warnings.warn(\n",
      "/home/piai/anaconda3/lib/python3.9/site-packages/sklearn/neural_network/_multilayer_perceptron.py:702: ConvergenceWarning: Stochastic Optimizer: Maximum iterations (200) reached and the optimization hasn't converged yet.\n",
      "  warnings.warn(\n",
      "/home/piai/anaconda3/lib/python3.9/site-packages/sklearn/neural_network/_multilayer_perceptron.py:702: ConvergenceWarning: Stochastic Optimizer: Maximum iterations (200) reached and the optimization hasn't converged yet.\n",
      "  warnings.warn(\n"
     ]
    }
   ],
   "source": [
    "train_accuracy = []\n",
    "test_accuracy = []\n",
    "para_hidden = [20 * hidden for hidden in range(1, 9)]\n",
    "for v_hidden in para_hidden:\n",
    "    nn = MLPClassifier(hidden_layer_sizes=(v_hidden,v_hidden), random_state=1234)\n",
    "    nn.fit(df_train_x, df_train_y)\n",
    "    train_accuracy.append(nn.score(df_train_x, df_train_y))\n",
    "    test_accuracy.append(nn.score(df_test_x, df_test_y))\n",
    "df_accuracy_hidden = pd.DataFrame()\n",
    "df_accuracy_hidden['HiddenLayer'] = para_hidden\n",
    "df_accuracy_hidden['TrainAccuracy'] = train_accuracy\n",
    "df_accuracy_hidden['TestAccuracy'] = test_accuracy"
   ]
  },
  {
   "cell_type": "code",
   "execution_count": 14,
   "id": "0ed6652b",
   "metadata": {},
   "outputs": [
    {
     "data": {
      "text/html": [
       "<div>\n",
       "<style scoped>\n",
       "    .dataframe tbody tr th:only-of-type {\n",
       "        vertical-align: middle;\n",
       "    }\n",
       "\n",
       "    .dataframe tbody tr th {\n",
       "        vertical-align: top;\n",
       "    }\n",
       "\n",
       "    .dataframe thead th {\n",
       "        text-align: right;\n",
       "    }\n",
       "</style>\n",
       "<table border=\"1\" class=\"dataframe\">\n",
       "  <thead>\n",
       "    <tr style=\"text-align: right;\">\n",
       "      <th></th>\n",
       "      <th>HiddenLayer</th>\n",
       "      <th>TrainAccuracy</th>\n",
       "      <th>TestAccuracy</th>\n",
       "    </tr>\n",
       "  </thead>\n",
       "  <tbody>\n",
       "    <tr>\n",
       "      <th>0</th>\n",
       "      <td>20</td>\n",
       "      <td>0.932</td>\n",
       "      <td>0.891</td>\n",
       "    </tr>\n",
       "    <tr>\n",
       "      <th>1</th>\n",
       "      <td>40</td>\n",
       "      <td>0.911</td>\n",
       "      <td>0.906</td>\n",
       "    </tr>\n",
       "    <tr>\n",
       "      <th>2</th>\n",
       "      <td>60</td>\n",
       "      <td>0.870</td>\n",
       "      <td>0.852</td>\n",
       "    </tr>\n",
       "    <tr>\n",
       "      <th>3</th>\n",
       "      <td>80</td>\n",
       "      <td>0.932</td>\n",
       "      <td>0.898</td>\n",
       "    </tr>\n",
       "    <tr>\n",
       "      <th>4</th>\n",
       "      <td>100</td>\n",
       "      <td>0.599</td>\n",
       "      <td>0.758</td>\n",
       "    </tr>\n",
       "    <tr>\n",
       "      <th>5</th>\n",
       "      <td>120</td>\n",
       "      <td>0.922</td>\n",
       "      <td>0.930</td>\n",
       "    </tr>\n",
       "    <tr>\n",
       "      <th>6</th>\n",
       "      <td>140</td>\n",
       "      <td>0.854</td>\n",
       "      <td>0.781</td>\n",
       "    </tr>\n",
       "    <tr>\n",
       "      <th>7</th>\n",
       "      <td>160</td>\n",
       "      <td>0.771</td>\n",
       "      <td>0.672</td>\n",
       "    </tr>\n",
       "  </tbody>\n",
       "</table>\n",
       "</div>"
      ],
      "text/plain": [
       "   HiddenLayer  TrainAccuracy  TestAccuracy\n",
       "0           20          0.932         0.891\n",
       "1           40          0.911         0.906\n",
       "2           60          0.870         0.852\n",
       "3           80          0.932         0.898\n",
       "4          100          0.599         0.758\n",
       "5          120          0.922         0.930\n",
       "6          140          0.854         0.781\n",
       "7          160          0.771         0.672"
      ]
     },
     "execution_count": 14,
     "metadata": {},
     "output_type": "execute_result"
    }
   ],
   "source": [
    "df_accuracy_hidden.round(3)"
   ]
  },
  {
   "cell_type": "code",
   "execution_count": 15,
   "id": "a34b5efe",
   "metadata": {},
   "outputs": [
    {
     "data": {
      "text/plain": [
       "<matplotlib.legend.Legend at 0x7f69fa5495b0>"
      ]
     },
     "execution_count": 15,
     "metadata": {},
     "output_type": "execute_result"
    },
    {
     "data": {
      "image/png": "[encoded data removed]",
      "text/plain": [
       "<Figure size 432x288 with 1 Axes>"
      ]
     },
     "metadata": {
      "needs_background": "light"
     },
     "output_type": "display_data"
    }
   ],
   "source": [
    "plt.plot(para_hidden, train_accuracy, linestyle = '-', label='Train Accuracy')\n",
    "plt.plot(para_hidden, test_accuracy, linestyle = '--', label='Test Accuracy')\n",
    "plt.ylabel('accuracy')\n",
    "plt.xlabel('Hidden Layer')\n",
    "plt.legend()"
   ]
  },
  {
   "cell_type": "markdown",
   "id": "a12768a4",
   "metadata": {},
   "source": [
    "- train, test 데이터셋 모두 은닉층이 Hidden Layer들의 노드수에 따라서 같은 경향을 보이지 않고 정확도가 불안정한 것을 볼 수 있다. "
   ]
  },
  {
   "cell_type": "markdown",
   "id": "f2777161",
   "metadata": {},
   "source": [
    "- 이는 정확하게 해석할 수 없는데 이것은 NN가 black box모델로 모델이 어떻게 작동하는지 정확히 모르기 때문이다. 컴퓨팅 파워가 좋다면 각 파라미터 별로 최적의 값을 찾을 수 있기 때문에 딥러닝에서는 컴퓨팅 파워가 매우 중요하다."
   ]
  },
  {
   "cell_type": "markdown",
   "id": "2bd1d198",
   "metadata": {},
   "source": [
    "# 2. activation function 변경"
   ]
  },
  {
   "cell_type": "markdown",
   "id": "3efb46af",
   "metadata": {},
   "source": [
    "- 활성화 함수\n",
    ": 입력층 또는 이전의 은닉층의 정보를 다음 층으로 전달할때 출력값을 정하는 함수이다. \n",
    ": 기존 모델들의 선형성을 보완하기 위해 비선형 함수를 사용한다."
   ]
  },
  {
   "cell_type": "code",
   "execution_count": 16,
   "id": "8d4b4154",
   "metadata": {},
   "outputs": [
    {
     "name": "stderr",
     "output_type": "stream",
     "text": [
      "/home/piai/anaconda3/lib/python3.9/site-packages/sklearn/neural_network/_multilayer_perceptron.py:702: ConvergenceWarning: Stochastic Optimizer: Maximum iterations (200) reached and the optimization hasn't converged yet.\n",
      "  warnings.warn(\n",
      "/home/piai/anaconda3/lib/python3.9/site-packages/sklearn/neural_network/_multilayer_perceptron.py:702: ConvergenceWarning: Stochastic Optimizer: Maximum iterations (200) reached and the optimization hasn't converged yet.\n",
      "  warnings.warn(\n",
      "/home/piai/anaconda3/lib/python3.9/site-packages/sklearn/neural_network/_multilayer_perceptron.py:702: ConvergenceWarning: Stochastic Optimizer: Maximum iterations (200) reached and the optimization hasn't converged yet.\n",
      "  warnings.warn(\n"
     ]
    }
   ],
   "source": [
    "train_accuracy = []\n",
    "test_accuracy = []\n",
    "para_function = ['logistic', 'tanh', 'relu']\n",
    "for v_function in para_function:\n",
    "    nn = MLPClassifier(activation=v_function, random_state=1234)\n",
    "    nn.fit(df_train_x, df_train_y)\n",
    "    train_accuracy.append(nn.score(df_train_x, df_train_y))\n",
    "    test_accuracy.append(nn.score(df_test_x, df_test_y))\n",
    "df_accuracy_function = pd.DataFrame()\n",
    "df_accuracy_function['ActivationFunction'] = para_function\n",
    "df_accuracy_function['TrainAccuracy'] = train_accuracy\n",
    "df_accuracy_function['TestAccuracy'] = test_accuracy"
   ]
  },
  {
   "cell_type": "code",
   "execution_count": 17,
   "id": "f97a95cc",
   "metadata": {},
   "outputs": [
    {
     "data": {
      "text/html": [
       "<div>\n",
       "<style scoped>\n",
       "    .dataframe tbody tr th:only-of-type {\n",
       "        vertical-align: middle;\n",
       "    }\n",
       "\n",
       "    .dataframe tbody tr th {\n",
       "        vertical-align: top;\n",
       "    }\n",
       "\n",
       "    .dataframe thead th {\n",
       "        text-align: right;\n",
       "    }\n",
       "</style>\n",
       "<table border=\"1\" class=\"dataframe\">\n",
       "  <thead>\n",
       "    <tr style=\"text-align: right;\">\n",
       "      <th></th>\n",
       "      <th>ActivationFunction</th>\n",
       "      <th>TrainAccuracy</th>\n",
       "      <th>TestAccuracy</th>\n",
       "    </tr>\n",
       "  </thead>\n",
       "  <tbody>\n",
       "    <tr>\n",
       "      <th>0</th>\n",
       "      <td>logistic</td>\n",
       "      <td>0.948</td>\n",
       "      <td>0.898</td>\n",
       "    </tr>\n",
       "    <tr>\n",
       "      <th>1</th>\n",
       "      <td>tanh</td>\n",
       "      <td>0.958</td>\n",
       "      <td>0.891</td>\n",
       "    </tr>\n",
       "    <tr>\n",
       "      <th>2</th>\n",
       "      <td>relu</td>\n",
       "      <td>0.901</td>\n",
       "      <td>0.930</td>\n",
       "    </tr>\n",
       "  </tbody>\n",
       "</table>\n",
       "</div>"
      ],
      "text/plain": [
       "  ActivationFunction  TrainAccuracy  TestAccuracy\n",
       "0           logistic          0.948         0.898\n",
       "1               tanh          0.958         0.891\n",
       "2               relu          0.901         0.930"
      ]
     },
     "execution_count": 17,
     "metadata": {},
     "output_type": "execute_result"
    }
   ],
   "source": [
    "df_accuracy_function.round(3)"
   ]
  },
  {
   "cell_type": "code",
   "execution_count": 18,
   "id": "e585a3fb",
   "metadata": {},
   "outputs": [
    {
     "data": {
      "text/plain": [
       "<matplotlib.legend.Legend at 0x7f69fa4cc6d0>"
      ]
     },
     "execution_count": 18,
     "metadata": {},
     "output_type": "execute_result"
    },
    {
     "data": {
      "image/png": "[encoded data removed]",
      "text/plain": [
       "<Figure size 432x288 with 1 Axes>"
      ]
     },
     "metadata": {
      "needs_background": "light"
     },
     "output_type": "display_data"
    }
   ],
   "source": [
    "plt.plot(para_function, train_accuracy, linestyle = '-', label='Train Accuracy')\n",
    "plt.plot(para_function, test_accuracy, linestyle = '--', label='Test Accuracy')\n",
    "plt.ylabel('accuracy')\n",
    "plt.xlabel('Activation Function')\n",
    "plt.legend()"
   ]
  },
  {
   "cell_type": "markdown",
   "id": "19f25116",
   "metadata": {},
   "source": [
    "- 활성화 함수가 logistic 일 경우 TrainAccuracy는 0.948이고 TestAccuracy는 0.898이다. tanh의 경우 TrainAccuracy는 0.958이고 TestAccuracy는 0.891이다. relu일 경우 TrainAccuracy는 0.901이고 TestAccuracy는 0.930이다. 변수 스케일링이 필요하다."
   ]
  },
  {
   "cell_type": "markdown",
   "id": "c1749df2",
   "metadata": {},
   "source": [
    "## scale 변환 - standard scaler"
   ]
  },
  {
   "cell_type": "code",
   "execution_count": 19,
   "id": "e6c51a70",
   "metadata": {},
   "outputs": [
    {
     "data": {
      "text/html": [
       "<div>\n",
       "<style scoped>\n",
       "    .dataframe tbody tr th:only-of-type {\n",
       "        vertical-align: middle;\n",
       "    }\n",
       "\n",
       "    .dataframe tbody tr th {\n",
       "        vertical-align: top;\n",
       "    }\n",
       "\n",
       "    .dataframe thead th {\n",
       "        text-align: right;\n",
       "    }\n",
       "</style>\n",
       "<table border=\"1\" class=\"dataframe\">\n",
       "  <thead>\n",
       "    <tr style=\"text-align: right;\">\n",
       "      <th></th>\n",
       "      <th>mean_radius</th>\n",
       "      <th>mean_texture</th>\n",
       "      <th>mean_perimeter</th>\n",
       "      <th>mean_area</th>\n",
       "      <th>mean_smoothness</th>\n",
       "      <th>mean_compactness</th>\n",
       "      <th>mean_concavity</th>\n",
       "      <th>mean_concave_points</th>\n",
       "      <th>mean_symmetry</th>\n",
       "      <th>mean_fractal_dimension</th>\n",
       "      <th>...</th>\n",
       "      <th>worst_radius</th>\n",
       "      <th>worst_texture</th>\n",
       "      <th>worst_perimeter</th>\n",
       "      <th>worst_area</th>\n",
       "      <th>worst_smoothness</th>\n",
       "      <th>worst_compactness</th>\n",
       "      <th>worst_concavity</th>\n",
       "      <th>worst_concave_points</th>\n",
       "      <th>worst_symmetry</th>\n",
       "      <th>worst_fractal_dimension</th>\n",
       "    </tr>\n",
       "  </thead>\n",
       "  <tbody>\n",
       "    <tr>\n",
       "      <th>0</th>\n",
       "      <td>-0.157678</td>\n",
       "      <td>-0.879112</td>\n",
       "      <td>-0.165550</td>\n",
       "      <td>-0.232872</td>\n",
       "      <td>-0.744948</td>\n",
       "      <td>-0.479220</td>\n",
       "      <td>-0.550769</td>\n",
       "      <td>-0.628488</td>\n",
       "      <td>-0.997431</td>\n",
       "      <td>-0.392627</td>\n",
       "      <td>...</td>\n",
       "      <td>-0.149283</td>\n",
       "      <td>-1.156442</td>\n",
       "      <td>-0.153789</td>\n",
       "      <td>-0.224951</td>\n",
       "      <td>0.490637</td>\n",
       "      <td>0.139396</td>\n",
       "      <td>-0.094470</td>\n",
       "      <td>-0.301949</td>\n",
       "      <td>0.525611</td>\n",
       "      <td>0.511081</td>\n",
       "    </tr>\n",
       "    <tr>\n",
       "      <th>1</th>\n",
       "      <td>-1.312779</td>\n",
       "      <td>-2.560965</td>\n",
       "      <td>-1.328928</td>\n",
       "      <td>-1.150194</td>\n",
       "      <td>-0.240274</td>\n",
       "      <td>-1.153621</td>\n",
       "      <td>-1.143404</td>\n",
       "      <td>-1.199934</td>\n",
       "      <td>-1.773612</td>\n",
       "      <td>0.184077</td>\n",
       "      <td>...</td>\n",
       "      <td>-1.341759</td>\n",
       "      <td>-2.517236</td>\n",
       "      <td>-1.380396</td>\n",
       "      <td>-1.124201</td>\n",
       "      <td>0.254373</td>\n",
       "      <td>-1.046076</td>\n",
       "      <td>-1.159323</td>\n",
       "      <td>-1.480312</td>\n",
       "      <td>-1.387506</td>\n",
       "      <td>-0.507149</td>\n",
       "    </tr>\n",
       "    <tr>\n",
       "      <th>2</th>\n",
       "      <td>0.695279</td>\n",
       "      <td>-0.420644</td>\n",
       "      <td>0.602798</td>\n",
       "      <td>0.596040</td>\n",
       "      <td>-0.947380</td>\n",
       "      <td>-0.675307</td>\n",
       "      <td>-0.477679</td>\n",
       "      <td>-0.212084</td>\n",
       "      <td>-0.899042</td>\n",
       "      <td>-1.174101</td>\n",
       "      <td>...</td>\n",
       "      <td>0.534893</td>\n",
       "      <td>-0.143296</td>\n",
       "      <td>0.445031</td>\n",
       "      <td>0.432104</td>\n",
       "      <td>-0.613360</td>\n",
       "      <td>-0.367031</td>\n",
       "      <td>0.004076</td>\n",
       "      <td>0.172850</td>\n",
       "      <td>0.223844</td>\n",
       "      <td>-0.886803</td>\n",
       "    </tr>\n",
       "    <tr>\n",
       "      <th>3</th>\n",
       "      <td>-0.211154</td>\n",
       "      <td>-1.301385</td>\n",
       "      <td>-0.255876</td>\n",
       "      <td>-0.308762</td>\n",
       "      <td>-1.291796</td>\n",
       "      <td>-0.661126</td>\n",
       "      <td>-0.788224</td>\n",
       "      <td>-0.834410</td>\n",
       "      <td>-0.658535</td>\n",
       "      <td>-0.834209</td>\n",
       "      <td>...</td>\n",
       "      <td>-0.263312</td>\n",
       "      <td>-1.490846</td>\n",
       "      <td>-0.312546</td>\n",
       "      <td>-0.354487</td>\n",
       "      <td>-1.339335</td>\n",
       "      <td>-0.169261</td>\n",
       "      <td>-0.176669</td>\n",
       "      <td>-0.458230</td>\n",
       "      <td>-0.524077</td>\n",
       "      <td>-0.220788</td>\n",
       "    </tr>\n",
       "    <tr>\n",
       "      <th>4</th>\n",
       "      <td>-0.753945</td>\n",
       "      <td>-1.738136</td>\n",
       "      <td>-0.820314</td>\n",
       "      <td>-0.745704</td>\n",
       "      <td>-2.095198</td>\n",
       "      <td>-1.505004</td>\n",
       "      <td>-1.175403</td>\n",
       "      <td>-1.326415</td>\n",
       "      <td>-1.933950</td>\n",
       "      <td>-0.956793</td>\n",
       "      <td>...</td>\n",
       "      <td>-0.951354</td>\n",
       "      <td>-1.934512</td>\n",
       "      <td>-0.997708</td>\n",
       "      <td>-0.869505</td>\n",
       "      <td>-1.783511</td>\n",
       "      <td>-1.108951</td>\n",
       "      <td>-1.094404</td>\n",
       "      <td>-1.366747</td>\n",
       "      <td>-1.071301</td>\n",
       "      <td>-0.898278</td>\n",
       "    </tr>\n",
       "  </tbody>\n",
       "</table>\n",
       "<p>5 rows × 30 columns</p>\n",
       "</div>"
      ],
      "text/plain": [
       "   mean_radius  mean_texture  mean_perimeter  mean_area  mean_smoothness  \\\n",
       "0    -0.157678     -0.879112       -0.165550  -0.232872        -0.744948   \n",
       "1    -1.312779     -2.560965       -1.328928  -1.150194        -0.240274   \n",
       "2     0.695279     -0.420644        0.602798   0.596040        -0.947380   \n",
       "3    -0.211154     -1.301385       -0.255876  -0.308762        -1.291796   \n",
       "4    -0.753945     -1.738136       -0.820314  -0.745704        -2.095198   \n",
       "\n",
       "   mean_compactness  mean_concavity  mean_concave_points  mean_symmetry  \\\n",
       "0         -0.479220       -0.550769            -0.628488      -0.997431   \n",
       "1         -1.153621       -1.143404            -1.199934      -1.773612   \n",
       "2         -0.675307       -0.477679            -0.212084      -0.899042   \n",
       "3         -0.661126       -0.788224            -0.834410      -0.658535   \n",
       "4         -1.505004       -1.175403            -1.326415      -1.933950   \n",
       "\n",
       "   mean_fractal_dimension  ...  worst_radius  worst_texture  worst_perimeter  \\\n",
       "0               -0.392627  ...     -0.149283      -1.156442        -0.153789   \n",
       "1                0.184077  ...     -1.341759      -2.517236        -1.380396   \n",
       "2               -1.174101  ...      0.534893      -0.143296         0.445031   \n",
       "3               -0.834209  ...     -0.263312      -1.490846        -0.312546   \n",
       "4               -0.956793  ...     -0.951354      -1.934512        -0.997708   \n",
       "\n",
       "   worst_area  worst_smoothness  worst_compactness  worst_concavity  \\\n",
       "0   -0.224951          0.490637           0.139396        -0.094470   \n",
       "1   -1.124201          0.254373          -1.046076        -1.159323   \n",
       "2    0.432104         -0.613360          -0.367031         0.004076   \n",
       "3   -0.354487         -1.339335          -0.169261        -0.176669   \n",
       "4   -0.869505         -1.783511          -1.108951        -1.094404   \n",
       "\n",
       "   worst_concave_points  worst_symmetry  worst_fractal_dimension  \n",
       "0             -0.301949        0.525611                 0.511081  \n",
       "1             -1.480312       -1.387506                -0.507149  \n",
       "2              0.172850        0.223844                -0.886803  \n",
       "3             -0.458230       -0.524077                -0.220788  \n",
       "4             -1.366747       -1.071301                -0.898278  \n",
       "\n",
       "[5 rows x 30 columns]"
      ]
     },
     "execution_count": 19,
     "metadata": {},
     "output_type": "execute_result"
    }
   ],
   "source": [
    "v_feature_name = df_train_x.columns\n",
    "\n",
    "scaler = StandardScaler()\n",
    "\n",
    "df_scaled = scaler.fit_transform(df_raw_x)\n",
    "df_scaled = pd.DataFrame(df_scaled, columns = v_feature_name)\n",
    "df_scaled.head()"
   ]
  },
  {
   "cell_type": "code",
   "execution_count": 20,
   "id": "3cf77c2f",
   "metadata": {},
   "outputs": [
    {
     "name": "stdout",
     "output_type": "stream",
     "text": [
      "train data X size : (192, 30)\n",
      "test data X size : (128, 30)\n"
     ]
    }
   ],
   "source": [
    "df_scaled_train_x, df_scaled_test_x = train_test_split(df_scaled, test_size=0.4, random_state=1234)\n",
    "print('train data X size : {}'.format(df_scaled_train_x.shape))\n",
    "print('test data X size : {}'.format(df_scaled_test_x.shape))"
   ]
  },
  {
   "cell_type": "markdown",
   "id": "b324d72a",
   "metadata": {},
   "source": [
    "# 스케일 변환 후 기본 default model"
   ]
  },
  {
   "cell_type": "code",
   "execution_count": 21,
   "id": "2a8d993f",
   "metadata": {},
   "outputs": [
    {
     "data": {
      "text/plain": [
       "(192,)"
      ]
     },
     "execution_count": 21,
     "metadata": {},
     "output_type": "execute_result"
    }
   ],
   "source": [
    "df_train_y.shape"
   ]
  },
  {
   "cell_type": "code",
   "execution_count": 22,
   "id": "610b3fa0",
   "metadata": {},
   "outputs": [
    {
     "data": {
      "text/plain": [
       "(192, 30)"
      ]
     },
     "execution_count": 22,
     "metadata": {},
     "output_type": "execute_result"
    }
   ],
   "source": [
    "df_scaled_train_x.shape"
   ]
  },
  {
   "cell_type": "code",
   "execution_count": 23,
   "id": "24f6ea7b",
   "metadata": {},
   "outputs": [
    {
     "name": "stdout",
     "output_type": "stream",
     "text": [
      "Accuracy on training set: 0.995\n",
      "Accuracy on test set: 0.953\n"
     ]
    },
    {
     "name": "stderr",
     "output_type": "stream",
     "text": [
      "/home/piai/anaconda3/lib/python3.9/site-packages/sklearn/neural_network/_multilayer_perceptron.py:702: ConvergenceWarning: Stochastic Optimizer: Maximum iterations (200) reached and the optimization hasn't converged yet.\n",
      "  warnings.warn(\n"
     ]
    }
   ],
   "source": [
    "nn_scaled = MLPClassifier(random_state=1234)\n",
    "nn_scaled.fit(df_scaled_train_x, df_train_y)\n",
    "\n",
    "print('Accuracy on training set: {:.3f}'.format(nn_scaled.score(df_scaled_train_x, df_train_y)))\n",
    "print('Accuracy on test set: {:.3f}'.format(nn_scaled.score(df_scaled_test_x, df_test_y)))"
   ]
  },
  {
   "cell_type": "markdown",
   "id": "420d5767",
   "metadata": {},
   "source": [
    "- 스케일링을 진행한 결과 스케일링 이전 기본 default MlP의 train set 성능은 0.901이고 test set 성능은 0.930보다 상당히 개선된 것을 볼 수 있다. train set 성능은 0.995이고 test set 성능은 0.953으로 성능 향상을 보인다. 이것으로 추가 모델링을 진행하고자 한다."
   ]
  },
  {
   "cell_type": "markdown",
   "id": "b5b4abce",
   "metadata": {},
   "source": [
    "# 1. scaler 적용 후 은닉층 변경"
   ]
  },
  {
   "cell_type": "code",
   "execution_count": 24,
   "id": "725cf368",
   "metadata": {},
   "outputs": [
    {
     "name": "stderr",
     "output_type": "stream",
     "text": [
      "/home/piai/anaconda3/lib/python3.9/site-packages/sklearn/neural_network/_multilayer_perceptron.py:702: ConvergenceWarning: Stochastic Optimizer: Maximum iterations (200) reached and the optimization hasn't converged yet.\n",
      "  warnings.warn(\n",
      "/home/piai/anaconda3/lib/python3.9/site-packages/sklearn/neural_network/_multilayer_perceptron.py:702: ConvergenceWarning: Stochastic Optimizer: Maximum iterations (200) reached and the optimization hasn't converged yet.\n",
      "  warnings.warn(\n",
      "/home/piai/anaconda3/lib/python3.9/site-packages/sklearn/neural_network/_multilayer_perceptron.py:702: ConvergenceWarning: Stochastic Optimizer: Maximum iterations (200) reached and the optimization hasn't converged yet.\n",
      "  warnings.warn(\n"
     ]
    }
   ],
   "source": [
    "train_accuracy = []\n",
    "test_accuracy = []\n",
    "para_hidden = [20 * hidden for hidden in range(1, 11)]\n",
    "for v_hidden in para_hidden:\n",
    "    nn = MLPClassifier(hidden_layer_sizes=(v_hidden,v_hidden), random_state=1234)\n",
    "    nn.fit(df_scaled_train_x, df_train_y)\n",
    "    train_accuracy.append(nn.score(df_scaled_train_x, df_train_y))\n",
    "    test_accuracy.append(nn.score(df_scaled_test_x, df_test_y))\n",
    "df_accuracy_hidden = pd.DataFrame()\n",
    "df_accuracy_hidden['HiddenLayer'] = para_hidden\n",
    "df_accuracy_hidden['TrainAccuracy'] = train_accuracy\n",
    "df_accuracy_hidden['TestAccuracy'] = test_accuracy"
   ]
  },
  {
   "cell_type": "code",
   "execution_count": 25,
   "id": "23101228",
   "metadata": {},
   "outputs": [
    {
     "data": {
      "text/html": [
       "<div>\n",
       "<style scoped>\n",
       "    .dataframe tbody tr th:only-of-type {\n",
       "        vertical-align: middle;\n",
       "    }\n",
       "\n",
       "    .dataframe tbody tr th {\n",
       "        vertical-align: top;\n",
       "    }\n",
       "\n",
       "    .dataframe thead th {\n",
       "        text-align: right;\n",
       "    }\n",
       "</style>\n",
       "<table border=\"1\" class=\"dataframe\">\n",
       "  <thead>\n",
       "    <tr style=\"text-align: right;\">\n",
       "      <th></th>\n",
       "      <th>HiddenLayer</th>\n",
       "      <th>TrainAccuracy</th>\n",
       "      <th>TestAccuracy</th>\n",
       "    </tr>\n",
       "  </thead>\n",
       "  <tbody>\n",
       "    <tr>\n",
       "      <th>0</th>\n",
       "      <td>20</td>\n",
       "      <td>0.995</td>\n",
       "      <td>0.953</td>\n",
       "    </tr>\n",
       "    <tr>\n",
       "      <th>1</th>\n",
       "      <td>40</td>\n",
       "      <td>0.995</td>\n",
       "      <td>0.953</td>\n",
       "    </tr>\n",
       "    <tr>\n",
       "      <th>2</th>\n",
       "      <td>60</td>\n",
       "      <td>0.995</td>\n",
       "      <td>0.953</td>\n",
       "    </tr>\n",
       "    <tr>\n",
       "      <th>3</th>\n",
       "      <td>80</td>\n",
       "      <td>1.000</td>\n",
       "      <td>0.938</td>\n",
       "    </tr>\n",
       "    <tr>\n",
       "      <th>4</th>\n",
       "      <td>100</td>\n",
       "      <td>1.000</td>\n",
       "      <td>0.945</td>\n",
       "    </tr>\n",
       "    <tr>\n",
       "      <th>5</th>\n",
       "      <td>120</td>\n",
       "      <td>1.000</td>\n",
       "      <td>0.953</td>\n",
       "    </tr>\n",
       "    <tr>\n",
       "      <th>6</th>\n",
       "      <td>140</td>\n",
       "      <td>1.000</td>\n",
       "      <td>0.945</td>\n",
       "    </tr>\n",
       "    <tr>\n",
       "      <th>7</th>\n",
       "      <td>160</td>\n",
       "      <td>1.000</td>\n",
       "      <td>0.953</td>\n",
       "    </tr>\n",
       "    <tr>\n",
       "      <th>8</th>\n",
       "      <td>180</td>\n",
       "      <td>1.000</td>\n",
       "      <td>0.953</td>\n",
       "    </tr>\n",
       "    <tr>\n",
       "      <th>9</th>\n",
       "      <td>200</td>\n",
       "      <td>1.000</td>\n",
       "      <td>0.945</td>\n",
       "    </tr>\n",
       "  </tbody>\n",
       "</table>\n",
       "</div>"
      ],
      "text/plain": [
       "   HiddenLayer  TrainAccuracy  TestAccuracy\n",
       "0           20          0.995         0.953\n",
       "1           40          0.995         0.953\n",
       "2           60          0.995         0.953\n",
       "3           80          1.000         0.938\n",
       "4          100          1.000         0.945\n",
       "5          120          1.000         0.953\n",
       "6          140          1.000         0.945\n",
       "7          160          1.000         0.953\n",
       "8          180          1.000         0.953\n",
       "9          200          1.000         0.945"
      ]
     },
     "execution_count": 25,
     "metadata": {},
     "output_type": "execute_result"
    }
   ],
   "source": [
    "df_accuracy_hidden.round(3)"
   ]
  },
  {
   "cell_type": "code",
   "execution_count": 26,
   "id": "438e5a43",
   "metadata": {},
   "outputs": [
    {
     "data": {
      "text/plain": [
       "<matplotlib.legend.Legend at 0x7f69fa4426d0>"
      ]
     },
     "execution_count": 26,
     "metadata": {},
     "output_type": "execute_result"
    },
    {
     "data": {
      "image/png": "[encoded data removed]",
      "text/plain": [
       "<Figure size 432x288 with 1 Axes>"
      ]
     },
     "metadata": {
      "needs_background": "light"
     },
     "output_type": "display_data"
    }
   ],
   "source": [
    "plt.plot(para_hidden, train_accuracy, linestyle = '-', label='Train Accuracy')\n",
    "plt.plot(para_hidden, test_accuracy, linestyle = '--', label='Test Accuracy')\n",
    "plt.ylabel('accuracy')\n",
    "plt.xlabel('Hidden Layer')\n",
    "plt.legend()"
   ]
  },
  {
   "cell_type": "markdown",
   "id": "f13c3d2f",
   "metadata": {},
   "source": [
    "- 두개의 은닉층의 노드수를 변경하면서 시각화를 해본 결과 train dataset은 노드수가 80이 넘어가면 1로 수렴하고 test dataset은 정확도가 뛰는 과적합이 일어난다. 그렇기 때문에 train dataset과 test dataset의 성능의 차이가 적은 60으로 설정한다. 하지만 이 또한 과적합일 가능성이 높다."
   ]
  },
  {
   "cell_type": "markdown",
   "id": "1b77c31b",
   "metadata": {},
   "source": [
    "# 2. scaler 적용 후 활성화함수 변경"
   ]
  },
  {
   "cell_type": "code",
   "execution_count": 27,
   "id": "ee6682c1",
   "metadata": {},
   "outputs": [
    {
     "name": "stderr",
     "output_type": "stream",
     "text": [
      "/home/piai/anaconda3/lib/python3.9/site-packages/sklearn/neural_network/_multilayer_perceptron.py:702: ConvergenceWarning: Stochastic Optimizer: Maximum iterations (200) reached and the optimization hasn't converged yet.\n",
      "  warnings.warn(\n",
      "/home/piai/anaconda3/lib/python3.9/site-packages/sklearn/neural_network/_multilayer_perceptron.py:702: ConvergenceWarning: Stochastic Optimizer: Maximum iterations (200) reached and the optimization hasn't converged yet.\n",
      "  warnings.warn(\n",
      "/home/piai/anaconda3/lib/python3.9/site-packages/sklearn/neural_network/_multilayer_perceptron.py:702: ConvergenceWarning: Stochastic Optimizer: Maximum iterations (200) reached and the optimization hasn't converged yet.\n",
      "  warnings.warn(\n"
     ]
    }
   ],
   "source": [
    "train_accuracy = []\n",
    "test_accuracy = []\n",
    "para_function = ['logistic', 'tanh', 'relu']\n",
    "for v_function in para_function:\n",
    "    nn = MLPClassifier(activation=v_function, hidden_layer_sizes = (60,60), random_state=1234)\n",
    "    nn.fit(df_scaled_train_x, df_train_y)\n",
    "    train_accuracy.append(nn.score(df_scaled_train_x, df_train_y))\n",
    "    test_accuracy.append(nn.score(df_scaled_test_x, df_test_y))\n",
    "df_accuracy_function = pd.DataFrame()\n",
    "df_accuracy_function['ActivationFunction'] = para_function\n",
    "df_accuracy_function['TrainAccuracy'] = train_accuracy\n",
    "df_accuracy_function['TestAccuracy'] = test_accuracy"
   ]
  },
  {
   "cell_type": "code",
   "execution_count": 28,
   "id": "9ecad032",
   "metadata": {},
   "outputs": [
    {
     "data": {
      "text/html": [
       "<div>\n",
       "<style scoped>\n",
       "    .dataframe tbody tr th:only-of-type {\n",
       "        vertical-align: middle;\n",
       "    }\n",
       "\n",
       "    .dataframe tbody tr th {\n",
       "        vertical-align: top;\n",
       "    }\n",
       "\n",
       "    .dataframe thead th {\n",
       "        text-align: right;\n",
       "    }\n",
       "</style>\n",
       "<table border=\"1\" class=\"dataframe\">\n",
       "  <thead>\n",
       "    <tr style=\"text-align: right;\">\n",
       "      <th></th>\n",
       "      <th>ActivationFunction</th>\n",
       "      <th>TrainAccuracy</th>\n",
       "      <th>TestAccuracy</th>\n",
       "    </tr>\n",
       "  </thead>\n",
       "  <tbody>\n",
       "    <tr>\n",
       "      <th>0</th>\n",
       "      <td>logistic</td>\n",
       "      <td>0.995</td>\n",
       "      <td>0.945</td>\n",
       "    </tr>\n",
       "    <tr>\n",
       "      <th>1</th>\n",
       "      <td>tanh</td>\n",
       "      <td>0.995</td>\n",
       "      <td>0.938</td>\n",
       "    </tr>\n",
       "    <tr>\n",
       "      <th>2</th>\n",
       "      <td>relu</td>\n",
       "      <td>0.995</td>\n",
       "      <td>0.953</td>\n",
       "    </tr>\n",
       "  </tbody>\n",
       "</table>\n",
       "</div>"
      ],
      "text/plain": [
       "  ActivationFunction  TrainAccuracy  TestAccuracy\n",
       "0           logistic          0.995         0.945\n",
       "1               tanh          0.995         0.938\n",
       "2               relu          0.995         0.953"
      ]
     },
     "execution_count": 28,
     "metadata": {},
     "output_type": "execute_result"
    }
   ],
   "source": [
    "df_accuracy_function.round(3)"
   ]
  },
  {
   "cell_type": "code",
   "execution_count": 29,
   "id": "93210182",
   "metadata": {},
   "outputs": [
    {
     "data": {
      "text/plain": [
       "<matplotlib.legend.Legend at 0x7f69fa95dfd0>"
      ]
     },
     "execution_count": 29,
     "metadata": {},
     "output_type": "execute_result"
    },
    {
     "data": {
      "image/png": "[encoded data removed]",
      "text/plain": [
       "<Figure size 432x288 with 1 Axes>"
      ]
     },
     "metadata": {
      "needs_background": "light"
     },
     "output_type": "display_data"
    }
   ],
   "source": [
    "plt.plot(para_function, train_accuracy, linestyle = '-', label='Train Accuracy')\n",
    "plt.plot(para_function, test_accuracy, linestyle = '--', label='Test Accuracy')\n",
    "plt.ylabel('accuracy')\n",
    "plt.xlabel('Activation Function')\n",
    "plt.legend()"
   ]
  },
  {
   "cell_type": "markdown",
   "id": "dd6a845e",
   "metadata": {},
   "source": [
    "- 시각화 결과를 보면 train 정확도가 0.995로 활성화함수가 바뀜에도 같고 test 정확도가 바뀌는데 그 중 relu가 가장 높다. 이것을 보면 설정한 hidden layer의 노드 수인 60개인 모델이 과적합인 것으로 판단된다."
   ]
  },
  {
   "cell_type": "markdown",
   "id": "8101b0c1",
   "metadata": {},
   "source": [
    "# 3. scaler 적용 후 solver 변경"
   ]
  },
  {
   "cell_type": "markdown",
   "id": "95771c66",
   "metadata": {},
   "source": [
    "- 가중치를 최적화하는 방법에 다양한 방법들이 많이 개발되고 있다. 이는 local minimum에서 벗어나 global minimum에 도달하기 위한 방법이다. 신경망 모델의 학습 결과에 따른 손실함수 값을 최소화하는 하이퍼 파라미터인데 초기값 설정 및 방법에 따라 모델의 성능 차이가 크다. "
   ]
  },
  {
   "cell_type": "code",
   "execution_count": 30,
   "id": "9ac9da89",
   "metadata": {},
   "outputs": [
    {
     "name": "stderr",
     "output_type": "stream",
     "text": [
      "/home/piai/anaconda3/lib/python3.9/site-packages/sklearn/neural_network/_multilayer_perceptron.py:702: ConvergenceWarning: Stochastic Optimizer: Maximum iterations (200) reached and the optimization hasn't converged yet.\n",
      "  warnings.warn(\n",
      "/home/piai/anaconda3/lib/python3.9/site-packages/sklearn/neural_network/_multilayer_perceptron.py:702: ConvergenceWarning: Stochastic Optimizer: Maximum iterations (200) reached and the optimization hasn't converged yet.\n",
      "  warnings.warn(\n"
     ]
    }
   ],
   "source": [
    "train_accuracy = []\n",
    "test_accuracy = []\n",
    "para_solver = ['lbfgs', 'sgd', 'adam']\n",
    "for v_solver in para_solver:\n",
    "    nn = MLPClassifier(solver = v_solver,activation='relu', hidden_layer_sizes = (60,60), random_state=1234)\n",
    "    nn.fit(df_scaled_train_x, df_train_y)\n",
    "    train_accuracy.append(nn.score(df_scaled_train_x, df_train_y))\n",
    "    test_accuracy.append(nn.score(df_scaled_test_x, df_test_y))\n",
    "df_accuracy_solver = pd.DataFrame()\n",
    "df_accuracy_solver['Solver'] = para_solver\n",
    "df_accuracy_solver['TrainAccuracy'] = train_accuracy\n",
    "df_accuracy_solver['TestAccuracy'] = test_accuracy"
   ]
  },
  {
   "cell_type": "code",
   "execution_count": 31,
   "id": "837f3519",
   "metadata": {},
   "outputs": [
    {
     "data": {
      "text/html": [
       "<div>\n",
       "<style scoped>\n",
       "    .dataframe tbody tr th:only-of-type {\n",
       "        vertical-align: middle;\n",
       "    }\n",
       "\n",
       "    .dataframe tbody tr th {\n",
       "        vertical-align: top;\n",
       "    }\n",
       "\n",
       "    .dataframe thead th {\n",
       "        text-align: right;\n",
       "    }\n",
       "</style>\n",
       "<table border=\"1\" class=\"dataframe\">\n",
       "  <thead>\n",
       "    <tr style=\"text-align: right;\">\n",
       "      <th></th>\n",
       "      <th>Solver</th>\n",
       "      <th>TrainAccuracy</th>\n",
       "      <th>TestAccuracy</th>\n",
       "    </tr>\n",
       "  </thead>\n",
       "  <tbody>\n",
       "    <tr>\n",
       "      <th>0</th>\n",
       "      <td>lbfgs</td>\n",
       "      <td>1.000</td>\n",
       "      <td>0.945</td>\n",
       "    </tr>\n",
       "    <tr>\n",
       "      <th>1</th>\n",
       "      <td>sgd</td>\n",
       "      <td>0.974</td>\n",
       "      <td>0.891</td>\n",
       "    </tr>\n",
       "    <tr>\n",
       "      <th>2</th>\n",
       "      <td>adam</td>\n",
       "      <td>0.995</td>\n",
       "      <td>0.953</td>\n",
       "    </tr>\n",
       "  </tbody>\n",
       "</table>\n",
       "</div>"
      ],
      "text/plain": [
       "  Solver  TrainAccuracy  TestAccuracy\n",
       "0  lbfgs          1.000         0.945\n",
       "1    sgd          0.974         0.891\n",
       "2   adam          0.995         0.953"
      ]
     },
     "execution_count": 31,
     "metadata": {},
     "output_type": "execute_result"
    }
   ],
   "source": [
    "df_accuracy_solver.round(3)"
   ]
  },
  {
   "cell_type": "code",
   "execution_count": 32,
   "id": "af1e5a96",
   "metadata": {},
   "outputs": [
    {
     "data": {
      "text/plain": [
       "<matplotlib.legend.Legend at 0x7f69fa8caa30>"
      ]
     },
     "execution_count": 32,
     "metadata": {},
     "output_type": "execute_result"
    },
    {
     "data": {
      "image/png": "[encoded data removed]",
      "text/plain": [
       "<Figure size 432x288 with 1 Axes>"
      ]
     },
     "metadata": {
      "needs_background": "light"
     },
     "output_type": "display_data"
    }
   ],
   "source": [
    "plt.plot(para_solver, train_accuracy, linestyle = '-', label='Train Accuracy')\n",
    "plt.plot(para_solver, test_accuracy, linestyle = '--', label='Test Accuracy')\n",
    "plt.ylabel('accuracy')\n",
    "plt.xlabel('Solver')\n",
    "plt.legend()"
   ]
  },
  {
   "cell_type": "markdown",
   "id": "43214fc1",
   "metadata": {},
   "source": [
    "- 가중치 최적화 방법을 변경한 결과 sgd가 가장 성능이 안좋은 것을 알 수 있다. lbfgs는 train data의 정확도가 1이고 test data의 정확도가 0.945이다. adam train data의 정확도가 0.995이고 test data의 정확도가 0.953이다. train data에 과적합이 되어있지만 최대한 이를 줄이고자 train과 test의 차이가 그나마 적은 adam으로 설정한다."
   ]
  },
  {
   "cell_type": "markdown",
   "id": "f2ed029f",
   "metadata": {},
   "source": [
    "# 4. scaler 적용 후 Mini batch 변경"
   ]
  },
  {
   "cell_type": "markdown",
   "id": "2821863b",
   "metadata": {},
   "source": [
    "- 미니배치(Mini batch) : 딥러닝 모델을 전체 데이터로 한꺼번에 돌리기에는 컴퓨팅 파워가 모자를 수 있고 train data에 과적합될 가능성이 있으니 전체 학습 데이터를 배치 크기로 등분하여 각 배치 데이터를 순차적으로 실행하는 방법이다.\n",
    "\n",
    "- Batch GD : mini batch == 전체데이터\n",
    "\n",
    "- S-GD : mini batch == 1\n",
    "\n",
    "- 미니 배치의 크기에 따라 모델의 성능이 변화한다. "
   ]
  },
  {
   "cell_type": "code",
   "execution_count": 33,
   "id": "816e23f3",
   "metadata": {},
   "outputs": [
    {
     "data": {
      "text/html": [
       "<div>\n",
       "<style scoped>\n",
       "    .dataframe tbody tr th:only-of-type {\n",
       "        vertical-align: middle;\n",
       "    }\n",
       "\n",
       "    .dataframe tbody tr th {\n",
       "        vertical-align: top;\n",
       "    }\n",
       "\n",
       "    .dataframe thead th {\n",
       "        text-align: right;\n",
       "    }\n",
       "</style>\n",
       "<table border=\"1\" class=\"dataframe\">\n",
       "  <thead>\n",
       "    <tr style=\"text-align: right;\">\n",
       "      <th></th>\n",
       "      <th>mean_radius</th>\n",
       "      <th>mean_texture</th>\n",
       "      <th>mean_perimeter</th>\n",
       "      <th>mean_area</th>\n",
       "      <th>mean_smoothness</th>\n",
       "      <th>mean_compactness</th>\n",
       "      <th>mean_concavity</th>\n",
       "      <th>mean_concave_points</th>\n",
       "      <th>mean_symmetry</th>\n",
       "      <th>mean_fractal_dimension</th>\n",
       "      <th>...</th>\n",
       "      <th>worst_radius</th>\n",
       "      <th>worst_texture</th>\n",
       "      <th>worst_perimeter</th>\n",
       "      <th>worst_area</th>\n",
       "      <th>worst_smoothness</th>\n",
       "      <th>worst_compactness</th>\n",
       "      <th>worst_concavity</th>\n",
       "      <th>worst_concave_points</th>\n",
       "      <th>worst_symmetry</th>\n",
       "      <th>worst_fractal_dimension</th>\n",
       "    </tr>\n",
       "  </thead>\n",
       "  <tbody>\n",
       "    <tr>\n",
       "      <th>60</th>\n",
       "      <td>-0.684425</td>\n",
       "      <td>-1.202452</td>\n",
       "      <td>-0.687733</td>\n",
       "      <td>-0.686934</td>\n",
       "      <td>-0.387881</td>\n",
       "      <td>-0.670055</td>\n",
       "      <td>-0.344959</td>\n",
       "      <td>-0.771530</td>\n",
       "      <td>-0.166590</td>\n",
       "      <td>-0.084773</td>\n",
       "      <td>...</td>\n",
       "      <td>-0.729093</td>\n",
       "      <td>-1.113400</td>\n",
       "      <td>-0.711667</td>\n",
       "      <td>-0.712781</td>\n",
       "      <td>0.434793</td>\n",
       "      <td>-0.475061</td>\n",
       "      <td>-0.242989</td>\n",
       "      <td>-0.718402</td>\n",
       "      <td>1.152247</td>\n",
       "      <td>-0.041188</td>\n",
       "    </tr>\n",
       "    <tr>\n",
       "      <th>214</th>\n",
       "      <td>0.010775</td>\n",
       "      <td>-0.266213</td>\n",
       "      <td>0.156985</td>\n",
       "      <td>-0.125553</td>\n",
       "      <td>1.753120</td>\n",
       "      <td>1.980982</td>\n",
       "      <td>1.998539</td>\n",
       "      <td>1.373372</td>\n",
       "      <td>1.848565</td>\n",
       "      <td>1.859859</td>\n",
       "      <td>...</td>\n",
       "      <td>-0.228524</td>\n",
       "      <td>-0.505844</td>\n",
       "      <td>-0.106440</td>\n",
       "      <td>-0.340892</td>\n",
       "      <td>0.744084</td>\n",
       "      <td>1.119668</td>\n",
       "      <td>1.561190</td>\n",
       "      <td>1.012305</td>\n",
       "      <td>1.724017</td>\n",
       "      <td>0.890236</td>\n",
       "    </tr>\n",
       "    <tr>\n",
       "      <th>27</th>\n",
       "      <td>1.318286</td>\n",
       "      <td>-0.717442</td>\n",
       "      <td>1.230813</td>\n",
       "      <td>1.347274</td>\n",
       "      <td>-0.344301</td>\n",
       "      <td>-0.274028</td>\n",
       "      <td>0.360794</td>\n",
       "      <td>0.538404</td>\n",
       "      <td>-1.081244</td>\n",
       "      <td>-1.100272</td>\n",
       "      <td>...</td>\n",
       "      <td>1.319570</td>\n",
       "      <td>-0.671390</td>\n",
       "      <td>1.213750</td>\n",
       "      <td>1.269633</td>\n",
       "      <td>0.795632</td>\n",
       "      <td>-0.018362</td>\n",
       "      <td>0.294108</td>\n",
       "      <td>0.978072</td>\n",
       "      <td>-0.522633</td>\n",
       "      <td>-0.828433</td>\n",
       "    </tr>\n",
       "    <tr>\n",
       "      <th>65</th>\n",
       "      <td>0.000079</td>\n",
       "      <td>-1.542684</td>\n",
       "      <td>-0.040723</td>\n",
       "      <td>-0.117632</td>\n",
       "      <td>-0.333055</td>\n",
       "      <td>-0.501279</td>\n",
       "      <td>-0.599772</td>\n",
       "      <td>-0.183524</td>\n",
       "      <td>-0.188454</td>\n",
       "      <td>-0.758986</td>\n",
       "      <td>...</td>\n",
       "      <td>-0.201466</td>\n",
       "      <td>-1.320333</td>\n",
       "      <td>-0.248486</td>\n",
       "      <td>-0.329173</td>\n",
       "      <td>-0.660613</td>\n",
       "      <td>-0.650538</td>\n",
       "      <td>-0.850142</td>\n",
       "      <td>-0.120364</td>\n",
       "      <td>-0.473542</td>\n",
       "      <td>-0.820451</td>\n",
       "    </tr>\n",
       "    <tr>\n",
       "      <th>218</th>\n",
       "      <td>-1.615726</td>\n",
       "      <td>-0.442361</td>\n",
       "      <td>-1.611147</td>\n",
       "      <td>-1.325227</td>\n",
       "      <td>-0.695746</td>\n",
       "      <td>-1.062231</td>\n",
       "      <td>-1.094165</td>\n",
       "      <td>-1.244095</td>\n",
       "      <td>1.349332</td>\n",
       "      <td>0.202186</td>\n",
       "      <td>...</td>\n",
       "      <td>-1.430664</td>\n",
       "      <td>-0.265801</td>\n",
       "      <td>-1.457825</td>\n",
       "      <td>-1.169203</td>\n",
       "      <td>-0.613360</td>\n",
       "      <td>-0.883174</td>\n",
       "      <td>-1.051903</td>\n",
       "      <td>-1.189033</td>\n",
       "      <td>0.177640</td>\n",
       "      <td>-0.095567</td>\n",
       "    </tr>\n",
       "    <tr>\n",
       "      <th>...</th>\n",
       "      <td>...</td>\n",
       "      <td>...</td>\n",
       "      <td>...</td>\n",
       "      <td>...</td>\n",
       "      <td>...</td>\n",
       "      <td>...</td>\n",
       "      <td>...</td>\n",
       "      <td>...</td>\n",
       "      <td>...</td>\n",
       "      <td>...</td>\n",
       "      <td>...</td>\n",
       "      <td>...</td>\n",
       "      <td>...</td>\n",
       "      <td>...</td>\n",
       "      <td>...</td>\n",
       "      <td>...</td>\n",
       "      <td>...</td>\n",
       "      <td>...</td>\n",
       "      <td>...</td>\n",
       "      <td>...</td>\n",
       "      <td>...</td>\n",
       "    </tr>\n",
       "    <tr>\n",
       "      <th>204</th>\n",
       "      <td>0.615064</td>\n",
       "      <td>0.057127</td>\n",
       "      <td>0.595045</td>\n",
       "      <td>0.509163</td>\n",
       "      <td>0.052128</td>\n",
       "      <td>0.098889</td>\n",
       "      <td>-0.060745</td>\n",
       "      <td>0.255441</td>\n",
       "      <td>0.904759</td>\n",
       "      <td>-0.265863</td>\n",
       "      <td>...</td>\n",
       "      <td>0.577412</td>\n",
       "      <td>-0.192960</td>\n",
       "      <td>0.562010</td>\n",
       "      <td>0.457105</td>\n",
       "      <td>-0.291182</td>\n",
       "      <td>-0.434478</td>\n",
       "      <td>-0.460163</td>\n",
       "      <td>0.050801</td>\n",
       "      <td>0.288818</td>\n",
       "      <td>-0.544067</td>\n",
       "    </tr>\n",
       "    <tr>\n",
       "      <th>53</th>\n",
       "      <td>1.074966</td>\n",
       "      <td>-0.121434</td>\n",
       "      <td>1.071871</td>\n",
       "      <td>1.017651</td>\n",
       "      <td>0.480890</td>\n",
       "      <td>1.079328</td>\n",
       "      <td>1.411690</td>\n",
       "      <td>0.730165</td>\n",
       "      <td>-0.490909</td>\n",
       "      <td>0.597799</td>\n",
       "      <td>...</td>\n",
       "      <td>1.302175</td>\n",
       "      <td>-0.270767</td>\n",
       "      <td>1.018785</td>\n",
       "      <td>1.249320</td>\n",
       "      <td>1.431397</td>\n",
       "      <td>1.639240</td>\n",
       "      <td>2.316395</td>\n",
       "      <td>1.565989</td>\n",
       "      <td>-0.436001</td>\n",
       "      <td>2.122490</td>\n",
       "    </tr>\n",
       "    <tr>\n",
       "      <th>294</th>\n",
       "      <td>-1.307431</td>\n",
       "      <td>0.937868</td>\n",
       "      <td>-1.324276</td>\n",
       "      <td>-1.139974</td>\n",
       "      <td>-1.225724</td>\n",
       "      <td>-1.002004</td>\n",
       "      <td>-1.259475</td>\n",
       "      <td>-1.411616</td>\n",
       "      <td>0.394593</td>\n",
       "      <td>0.083780</td>\n",
       "      <td>...</td>\n",
       "      <td>-1.065383</td>\n",
       "      <td>0.699337</td>\n",
       "      <td>-1.095190</td>\n",
       "      <td>-0.981071</td>\n",
       "      <td>-0.742231</td>\n",
       "      <td>-0.831159</td>\n",
       "      <td>-1.359030</td>\n",
       "      <td>-1.679608</td>\n",
       "      <td>0.011596</td>\n",
       "      <td>-0.543568</td>\n",
       "    </tr>\n",
       "    <tr>\n",
       "      <th>211</th>\n",
       "      <td>1.513476</td>\n",
       "      <td>-1.260364</td>\n",
       "      <td>1.482794</td>\n",
       "      <td>1.477590</td>\n",
       "      <td>0.052128</td>\n",
       "      <td>0.494566</td>\n",
       "      <td>0.839011</td>\n",
       "      <td>1.404572</td>\n",
       "      <td>0.383661</td>\n",
       "      <td>-0.118205</td>\n",
       "      <td>...</td>\n",
       "      <td>0.801606</td>\n",
       "      <td>-0.891567</td>\n",
       "      <td>0.804324</td>\n",
       "      <td>0.627423</td>\n",
       "      <td>-0.793780</td>\n",
       "      <td>-0.141254</td>\n",
       "      <td>0.231058</td>\n",
       "      <td>0.760766</td>\n",
       "      <td>-0.463435</td>\n",
       "      <td>-0.024725</td>\n",
       "    </tr>\n",
       "    <tr>\n",
       "      <th>303</th>\n",
       "      <td>-1.056090</td>\n",
       "      <td>-0.526816</td>\n",
       "      <td>-1.087414</td>\n",
       "      <td>-0.962386</td>\n",
       "      <td>0.022607</td>\n",
       "      <td>-1.122457</td>\n",
       "      <td>-1.125220</td>\n",
       "      <td>-0.763850</td>\n",
       "      <td>-0.906330</td>\n",
       "      <td>0.026667</td>\n",
       "      <td>...</td>\n",
       "      <td>-1.001604</td>\n",
       "      <td>-0.634970</td>\n",
       "      <td>-1.061768</td>\n",
       "      <td>-0.906069</td>\n",
       "      <td>-1.030044</td>\n",
       "      <td>-1.308778</td>\n",
       "      <td>-1.362486</td>\n",
       "      <td>-1.099729</td>\n",
       "      <td>-1.549219</td>\n",
       "      <td>-0.898278</td>\n",
       "    </tr>\n",
       "  </tbody>\n",
       "</table>\n",
       "<p>192 rows × 30 columns</p>\n",
       "</div>"
      ],
      "text/plain": [
       "     mean_radius  mean_texture  mean_perimeter  mean_area  mean_smoothness  \\\n",
       "60     -0.684425     -1.202452       -0.687733  -0.686934        -0.387881   \n",
       "214     0.010775     -0.266213        0.156985  -0.125553         1.753120   \n",
       "27      1.318286     -0.717442        1.230813   1.347274        -0.344301   \n",
       "65      0.000079     -1.542684       -0.040723  -0.117632        -0.333055   \n",
       "218    -1.615726     -0.442361       -1.611147  -1.325227        -0.695746   \n",
       "..           ...           ...             ...        ...              ...   \n",
       "204     0.615064      0.057127        0.595045   0.509163         0.052128   \n",
       "53      1.074966     -0.121434        1.071871   1.017651         0.480890   \n",
       "294    -1.307431      0.937868       -1.324276  -1.139974        -1.225724   \n",
       "211     1.513476     -1.260364        1.482794   1.477590         0.052128   \n",
       "303    -1.056090     -0.526816       -1.087414  -0.962386         0.022607   \n",
       "\n",
       "     mean_compactness  mean_concavity  mean_concave_points  mean_symmetry  \\\n",
       "60          -0.670055       -0.344959            -0.771530      -0.166590   \n",
       "214          1.980982        1.998539             1.373372       1.848565   \n",
       "27          -0.274028        0.360794             0.538404      -1.081244   \n",
       "65          -0.501279       -0.599772            -0.183524      -0.188454   \n",
       "218         -1.062231       -1.094165            -1.244095       1.349332   \n",
       "..                ...             ...                  ...            ...   \n",
       "204          0.098889       -0.060745             0.255441       0.904759   \n",
       "53           1.079328        1.411690             0.730165      -0.490909   \n",
       "294         -1.002004       -1.259475            -1.411616       0.394593   \n",
       "211          0.494566        0.839011             1.404572       0.383661   \n",
       "303         -1.122457       -1.125220            -0.763850      -0.906330   \n",
       "\n",
       "     mean_fractal_dimension  ...  worst_radius  worst_texture  \\\n",
       "60                -0.084773  ...     -0.729093      -1.113400   \n",
       "214                1.859859  ...     -0.228524      -0.505844   \n",
       "27                -1.100272  ...      1.319570      -0.671390   \n",
       "65                -0.758986  ...     -0.201466      -1.320333   \n",
       "218                0.202186  ...     -1.430664      -0.265801   \n",
       "..                      ...  ...           ...            ...   \n",
       "204               -0.265863  ...      0.577412      -0.192960   \n",
       "53                 0.597799  ...      1.302175      -0.270767   \n",
       "294                0.083780  ...     -1.065383       0.699337   \n",
       "211               -0.118205  ...      0.801606      -0.891567   \n",
       "303                0.026667  ...     -1.001604      -0.634970   \n",
       "\n",
       "     worst_perimeter  worst_area  worst_smoothness  worst_compactness  \\\n",
       "60         -0.711667   -0.712781          0.434793          -0.475061   \n",
       "214        -0.106440   -0.340892          0.744084           1.119668   \n",
       "27          1.213750    1.269633          0.795632          -0.018362   \n",
       "65         -0.248486   -0.329173         -0.660613          -0.650538   \n",
       "218        -1.457825   -1.169203         -0.613360          -0.883174   \n",
       "..               ...         ...               ...                ...   \n",
       "204         0.562010    0.457105         -0.291182          -0.434478   \n",
       "53          1.018785    1.249320          1.431397           1.639240   \n",
       "294        -1.095190   -0.981071         -0.742231          -0.831159   \n",
       "211         0.804324    0.627423         -0.793780          -0.141254   \n",
       "303        -1.061768   -0.906069         -1.030044          -1.308778   \n",
       "\n",
       "     worst_concavity  worst_concave_points  worst_symmetry  \\\n",
       "60         -0.242989             -0.718402        1.152247   \n",
       "214         1.561190              1.012305        1.724017   \n",
       "27          0.294108              0.978072       -0.522633   \n",
       "65         -0.850142             -0.120364       -0.473542   \n",
       "218        -1.051903             -1.189033        0.177640   \n",
       "..               ...                   ...             ...   \n",
       "204        -0.460163              0.050801        0.288818   \n",
       "53          2.316395              1.565989       -0.436001   \n",
       "294        -1.359030             -1.679608        0.011596   \n",
       "211         0.231058              0.760766       -0.463435   \n",
       "303        -1.362486             -1.099729       -1.549219   \n",
       "\n",
       "     worst_fractal_dimension  \n",
       "60                 -0.041188  \n",
       "214                 0.890236  \n",
       "27                 -0.828433  \n",
       "65                 -0.820451  \n",
       "218                -0.095567  \n",
       "..                       ...  \n",
       "204                -0.544067  \n",
       "53                  2.122490  \n",
       "294                -0.543568  \n",
       "211                -0.024725  \n",
       "303                -0.898278  \n",
       "\n",
       "[192 rows x 30 columns]"
      ]
     },
     "execution_count": 33,
     "metadata": {},
     "output_type": "execute_result"
    }
   ],
   "source": [
    "df_scaled_train_x"
   ]
  },
  {
   "cell_type": "code",
   "execution_count": 34,
   "id": "c2d63be8",
   "metadata": {
    "scrolled": true
   },
   "outputs": [
    {
     "name": "stderr",
     "output_type": "stream",
     "text": [
      "/home/piai/anaconda3/lib/python3.9/site-packages/sklearn/neural_network/_multilayer_perceptron.py:702: ConvergenceWarning: Stochastic Optimizer: Maximum iterations (200) reached and the optimization hasn't converged yet.\n",
      "  warnings.warn(\n",
      "/home/piai/anaconda3/lib/python3.9/site-packages/sklearn/neural_network/_multilayer_perceptron.py:702: ConvergenceWarning: Stochastic Optimizer: Maximum iterations (200) reached and the optimization hasn't converged yet.\n",
      "  warnings.warn(\n",
      "/home/piai/anaconda3/lib/python3.9/site-packages/sklearn/neural_network/_multilayer_perceptron.py:702: ConvergenceWarning: Stochastic Optimizer: Maximum iterations (200) reached and the optimization hasn't converged yet.\n",
      "  warnings.warn(\n",
      "/home/piai/anaconda3/lib/python3.9/site-packages/sklearn/neural_network/_multilayer_perceptron.py:702: ConvergenceWarning: Stochastic Optimizer: Maximum iterations (200) reached and the optimization hasn't converged yet.\n",
      "  warnings.warn(\n"
     ]
    }
   ],
   "source": [
    "train_accuracy = []\n",
    "test_accuracy = []\n",
    "para_batch = [10 * batch for batch in range(1,20)]\n",
    "for v_batch in para_batch:\n",
    "    nn = MLPClassifier(batch_size=v_batch,solver = 'adam',activation='relu', hidden_layer_sizes = (60,60), random_state=1234)\n",
    "    nn.fit(df_scaled_train_x, df_train_y)\n",
    "    train_accuracy.append(nn.score(df_scaled_train_x, df_train_y))\n",
    "    test_accuracy.append(nn.score(df_scaled_test_x, df_test_y))\n",
    "df_accuracy_batch = pd.DataFrame()\n",
    "df_accuracy_batch['Mini Batch'] = para_batch\n",
    "df_accuracy_batch['TrainAccuracy'] = train_accuracy\n",
    "df_accuracy_batch['TestAccuracy'] = test_accuracy"
   ]
  },
  {
   "cell_type": "code",
   "execution_count": 35,
   "id": "f630690a",
   "metadata": {},
   "outputs": [
    {
     "data": {
      "text/html": [
       "<div>\n",
       "<style scoped>\n",
       "    .dataframe tbody tr th:only-of-type {\n",
       "        vertical-align: middle;\n",
       "    }\n",
       "\n",
       "    .dataframe tbody tr th {\n",
       "        vertical-align: top;\n",
       "    }\n",
       "\n",
       "    .dataframe thead th {\n",
       "        text-align: right;\n",
       "    }\n",
       "</style>\n",
       "<table border=\"1\" class=\"dataframe\">\n",
       "  <thead>\n",
       "    <tr style=\"text-align: right;\">\n",
       "      <th></th>\n",
       "      <th>Mini Batch</th>\n",
       "      <th>TrainAccuracy</th>\n",
       "      <th>TestAccuracy</th>\n",
       "    </tr>\n",
       "  </thead>\n",
       "  <tbody>\n",
       "    <tr>\n",
       "      <th>0</th>\n",
       "      <td>10</td>\n",
       "      <td>1.00</td>\n",
       "      <td>0.953</td>\n",
       "    </tr>\n",
       "    <tr>\n",
       "      <th>1</th>\n",
       "      <td>20</td>\n",
       "      <td>1.00</td>\n",
       "      <td>0.953</td>\n",
       "    </tr>\n",
       "    <tr>\n",
       "      <th>2</th>\n",
       "      <td>30</td>\n",
       "      <td>1.00</td>\n",
       "      <td>0.953</td>\n",
       "    </tr>\n",
       "    <tr>\n",
       "      <th>3</th>\n",
       "      <td>40</td>\n",
       "      <td>1.00</td>\n",
       "      <td>0.953</td>\n",
       "    </tr>\n",
       "    <tr>\n",
       "      <th>4</th>\n",
       "      <td>50</td>\n",
       "      <td>1.00</td>\n",
       "      <td>0.953</td>\n",
       "    </tr>\n",
       "    <tr>\n",
       "      <th>5</th>\n",
       "      <td>60</td>\n",
       "      <td>1.00</td>\n",
       "      <td>0.953</td>\n",
       "    </tr>\n",
       "    <tr>\n",
       "      <th>6</th>\n",
       "      <td>70</td>\n",
       "      <td>1.00</td>\n",
       "      <td>0.953</td>\n",
       "    </tr>\n",
       "    <tr>\n",
       "      <th>7</th>\n",
       "      <td>80</td>\n",
       "      <td>1.00</td>\n",
       "      <td>0.953</td>\n",
       "    </tr>\n",
       "    <tr>\n",
       "      <th>8</th>\n",
       "      <td>90</td>\n",
       "      <td>1.00</td>\n",
       "      <td>0.953</td>\n",
       "    </tr>\n",
       "    <tr>\n",
       "      <th>9</th>\n",
       "      <td>100</td>\n",
       "      <td>1.00</td>\n",
       "      <td>0.953</td>\n",
       "    </tr>\n",
       "    <tr>\n",
       "      <th>10</th>\n",
       "      <td>110</td>\n",
       "      <td>1.00</td>\n",
       "      <td>0.953</td>\n",
       "    </tr>\n",
       "    <tr>\n",
       "      <th>11</th>\n",
       "      <td>120</td>\n",
       "      <td>1.00</td>\n",
       "      <td>0.953</td>\n",
       "    </tr>\n",
       "    <tr>\n",
       "      <th>12</th>\n",
       "      <td>130</td>\n",
       "      <td>1.00</td>\n",
       "      <td>0.953</td>\n",
       "    </tr>\n",
       "    <tr>\n",
       "      <th>13</th>\n",
       "      <td>140</td>\n",
       "      <td>1.00</td>\n",
       "      <td>0.953</td>\n",
       "    </tr>\n",
       "    <tr>\n",
       "      <th>14</th>\n",
       "      <td>150</td>\n",
       "      <td>1.00</td>\n",
       "      <td>0.953</td>\n",
       "    </tr>\n",
       "    <tr>\n",
       "      <th>15</th>\n",
       "      <td>160</td>\n",
       "      <td>1.00</td>\n",
       "      <td>0.953</td>\n",
       "    </tr>\n",
       "    <tr>\n",
       "      <th>16</th>\n",
       "      <td>170</td>\n",
       "      <td>1.00</td>\n",
       "      <td>0.961</td>\n",
       "    </tr>\n",
       "    <tr>\n",
       "      <th>17</th>\n",
       "      <td>180</td>\n",
       "      <td>1.00</td>\n",
       "      <td>0.953</td>\n",
       "    </tr>\n",
       "    <tr>\n",
       "      <th>18</th>\n",
       "      <td>190</td>\n",
       "      <td>0.99</td>\n",
       "      <td>0.961</td>\n",
       "    </tr>\n",
       "  </tbody>\n",
       "</table>\n",
       "</div>"
      ],
      "text/plain": [
       "    Mini Batch  TrainAccuracy  TestAccuracy\n",
       "0           10           1.00         0.953\n",
       "1           20           1.00         0.953\n",
       "2           30           1.00         0.953\n",
       "3           40           1.00         0.953\n",
       "4           50           1.00         0.953\n",
       "5           60           1.00         0.953\n",
       "6           70           1.00         0.953\n",
       "7           80           1.00         0.953\n",
       "8           90           1.00         0.953\n",
       "9          100           1.00         0.953\n",
       "10         110           1.00         0.953\n",
       "11         120           1.00         0.953\n",
       "12         130           1.00         0.953\n",
       "13         140           1.00         0.953\n",
       "14         150           1.00         0.953\n",
       "15         160           1.00         0.953\n",
       "16         170           1.00         0.961\n",
       "17         180           1.00         0.953\n",
       "18         190           0.99         0.961"
      ]
     },
     "execution_count": 35,
     "metadata": {},
     "output_type": "execute_result"
    }
   ],
   "source": [
    "df_accuracy_batch.round(3)"
   ]
  },
  {
   "cell_type": "code",
   "execution_count": 36,
   "id": "58adfc5b",
   "metadata": {},
   "outputs": [
    {
     "data": {
      "text/plain": [
       "<matplotlib.legend.Legend at 0x7f69fa85be80>"
      ]
     },
     "execution_count": 36,
     "metadata": {},
     "output_type": "execute_result"
    },
    {
     "data": {
      "image/png": "[encoded data removed]",
      "text/plain": [
       "<Figure size 432x288 with 1 Axes>"
      ]
     },
     "metadata": {
      "needs_background": "light"
     },
     "output_type": "display_data"
    }
   ],
   "source": [
    "plt.plot(para_batch, train_accuracy, linestyle = '-', label='Train Accuracy')\n",
    "plt.plot(para_batch, test_accuracy, linestyle = '--', label='Test Accuracy')\n",
    "plt.ylabel('accuracy')\n",
    "plt.xlabel('Mini Batch Size')\n",
    "plt.legend()"
   ]
  },
  {
   "cell_type": "markdown",
   "id": "c8b9322e",
   "metadata": {},
   "source": [
    "- 미니 배치의 사이즈를 조정하면서 정확도를 본 결과 train dataset의 정확도는 1로 수렴하다 mini batach size가 190이 되면서 0.99로 떨어진다. test dataset의 정확도는 계속 바뀌는데 정확도가 mini batach size가 170 때 TestAccuracy가 0.945으로 가장 높으므로 170으로 설정한다."
   ]
  },
  {
   "cell_type": "code",
   "execution_count": 37,
   "id": "69aacaf8",
   "metadata": {},
   "outputs": [
    {
     "name": "stdout",
     "output_type": "stream",
     "text": [
      "Accuracy on training setn_neighbors가: 1.000\n",
      "Accuracy on test set: 0.961\n",
      "Confusion matrix: \n",
      " [[31  0]\n",
      " [ 5 92]]\n",
      "              precision    recall  f1-score   support\n",
      "\n",
      "          양성      0.861     1.000     0.925        31\n",
      "          음성      1.000     0.948     0.974        97\n",
      "\n",
      "    accuracy                          0.961       128\n",
      "   macro avg      0.931     0.974     0.949       128\n",
      "weighted avg      0.966     0.961     0.962       128\n",
      "\n"
     ]
    },
    {
     "name": "stderr",
     "output_type": "stream",
     "text": [
      "/home/piai/anaconda3/lib/python3.9/site-packages/sklearn/neural_network/_multilayer_perceptron.py:702: ConvergenceWarning: Stochastic Optimizer: Maximum iterations (200) reached and the optimization hasn't converged yet.\n",
      "  warnings.warn(\n"
     ]
    }
   ],
   "source": [
    "nn_final = MLPClassifier(batch_size= 170, activation = \"relu\", solver = \"adam\", hidden_layer_sizes = (60,60), random_state =1234)\n",
    "nn_final.fit(df_scaled_train_x, df_train_y)\n",
    "y_pred = nn_final.predict(df_scaled_test_x)\n",
    "print(\"Accuracy on training setn_neighbors가: {:.3f}\".format(nn_final.score(df_scaled_train_x, df_train_y)))\n",
    "print(\"Accuracy on test set: {:.3f}\".format(nn_final.score(df_scaled_test_x, df_test_y)))\n",
    "print(\"Confusion matrix: \\n {}\".format(confusion_matrix(df_test_y, y_pred)))\n",
    "print(classification_report(df_test_y, y_pred, digits = 3))"
   ]
  },
  {
   "cell_type": "markdown",
   "id": "e4eeb273",
   "metadata": {},
   "source": [
    "- 파라미터 튜닝 결과를 모델에 전부 넣고 최종모델을 설정하였다. 최종모델의 batch_size는 170, 활성화함수는 \"relu\", solver 는 \"adam\", hidden_layer_sizes 는 (60,60)으로 설정하였다. 해당 모델의 train 정확도는 1, test 정확도는 0.961이다. 또한 유방암 데이터이기 때문에 recall의 값이 중요한데 recall 값 또한 상당히 높기 때문에 해당 모델이 적합하다는 것을 알 수 있다."
   ]
  },
  {
   "cell_type": "markdown",
   "id": "41d6bc84",
   "metadata": {},
   "source": [
    "# 과제물_KNN"
   ]
  },
  {
   "cell_type": "markdown",
   "id": "3c6423df",
   "metadata": {},
   "source": [
    "- 거리 기반으로 이웃을 결정하며 새로운 사건이 발생했을 때 가장 근접한 k-이웃의 값을 평균해서 예측하거나 빈도가 많은 클래스로 분류하는 탐색적 기법이다. 경험적으로 k의 개수가 10개 미만은 k의 수가 홀수여야하지만 10개 이상부터는 k 가 짝수여도 상관이 없다고 한다."
   ]
  },
  {
   "cell_type": "markdown",
   "id": "1d04938a",
   "metadata": {},
   "source": [
    "- 새로운 데이터가 주어졌을 때 가장 가까운 k-이웃을 찾고 그 이웃의 값을 평균하거나 다수 클래스로 분류하여 새로운 데잍의 값으로 결정한다."
   ]
  },
  {
   "cell_type": "markdown",
   "id": "1419166b",
   "metadata": {},
   "source": [
    "- n_neighbors가 작으면 과대적합의 위험이 증가하고 n_neighbors가 크면 과소적합될 가능성이 증가한다."
   ]
  },
  {
   "cell_type": "markdown",
   "id": "13ef8098",
   "metadata": {},
   "source": [
    "- 결정경계 : 일정한 간격으로 생성한 데이터의 예측값을 이용해 결정경계를 구분한다. "
   ]
  },
  {
   "cell_type": "code",
   "execution_count": 38,
   "id": "870374c3",
   "metadata": {},
   "outputs": [
    {
     "name": "stdout",
     "output_type": "stream",
     "text": [
      "Accuracy on training set: 0.932\n",
      "Accuracy on test set: 0.914\n"
     ]
    }
   ],
   "source": [
    "knn_uncustomized = KNeighborsClassifier()\n",
    "knn_uncustomized.fit(df_train_x, df_train_y)\n",
    "\n",
    "print('Accuracy on training set: {:.3f}'.format(knn_uncustomized.score(df_train_x, df_train_y)))\n",
    "print('Accuracy on test set: {:.3f}'.format(knn_uncustomized.score(df_test_x, df_test_y)))"
   ]
  },
  {
   "cell_type": "markdown",
   "id": "8292911b",
   "metadata": {},
   "source": [
    "- default 모델의 train 성능은 0.932이고 test 성능은 0.914이다. 일반화성능은 나쁘지 않지만 두 데이터셋에 대한 모델의 정확도가 그리 높지 않아 과소적합이라고 판단한다."
   ]
  },
  {
   "cell_type": "markdown",
   "id": "c5ea7ffb",
   "metadata": {},
   "source": [
    "## 이웃수 증가에 따른 정확도 변화"
   ]
  },
  {
   "cell_type": "code",
   "execution_count": 39,
   "id": "46608f73",
   "metadata": {},
   "outputs": [],
   "source": [
    "train_accuracy = []; test_accuracy =[]\n",
    "para_n_neighbors = [i for i in range(1,16)]\n",
    "\n",
    "\n",
    "for v_n_neighbors in para_n_neighbors:\n",
    "    knn=KNeighborsClassifier(n_neighbors=v_n_neighbors)\n",
    "    knn.fit(df_train_x, df_train_y)\n",
    "    train_accuracy.append(knn.score(df_train_x,df_train_y))\n",
    "    test_accuracy.append(knn.score(df_test_x,df_test_y))\n",
    "\n",
    "df_accuracy_neighbors = pd.DataFrame()\n",
    "df_accuracy_neighbors[\"Neighbors\"]=para_n_neighbors\n",
    "df_accuracy_neighbors[\"TrainAccuracy\"]=train_accuracy\n",
    "df_accuracy_neighbors[\"TestAccuracy\"]=test_accuracy"
   ]
  },
  {
   "cell_type": "code",
   "execution_count": 40,
   "id": "a969066f",
   "metadata": {},
   "outputs": [
    {
     "data": {
      "text/html": [
       "<div>\n",
       "<style scoped>\n",
       "    .dataframe tbody tr th:only-of-type {\n",
       "        vertical-align: middle;\n",
       "    }\n",
       "\n",
       "    .dataframe tbody tr th {\n",
       "        vertical-align: top;\n",
       "    }\n",
       "\n",
       "    .dataframe thead th {\n",
       "        text-align: right;\n",
       "    }\n",
       "</style>\n",
       "<table border=\"1\" class=\"dataframe\">\n",
       "  <thead>\n",
       "    <tr style=\"text-align: right;\">\n",
       "      <th></th>\n",
       "      <th>Neighbors</th>\n",
       "      <th>TrainAccuracy</th>\n",
       "      <th>TestAccuracy</th>\n",
       "    </tr>\n",
       "  </thead>\n",
       "  <tbody>\n",
       "    <tr>\n",
       "      <th>0</th>\n",
       "      <td>1</td>\n",
       "      <td>1.000</td>\n",
       "      <td>0.898</td>\n",
       "    </tr>\n",
       "    <tr>\n",
       "      <th>1</th>\n",
       "      <td>2</td>\n",
       "      <td>0.922</td>\n",
       "      <td>0.875</td>\n",
       "    </tr>\n",
       "    <tr>\n",
       "      <th>2</th>\n",
       "      <td>3</td>\n",
       "      <td>0.932</td>\n",
       "      <td>0.898</td>\n",
       "    </tr>\n",
       "    <tr>\n",
       "      <th>3</th>\n",
       "      <td>4</td>\n",
       "      <td>0.932</td>\n",
       "      <td>0.906</td>\n",
       "    </tr>\n",
       "    <tr>\n",
       "      <th>4</th>\n",
       "      <td>5</td>\n",
       "      <td>0.932</td>\n",
       "      <td>0.914</td>\n",
       "    </tr>\n",
       "    <tr>\n",
       "      <th>5</th>\n",
       "      <td>6</td>\n",
       "      <td>0.927</td>\n",
       "      <td>0.930</td>\n",
       "    </tr>\n",
       "    <tr>\n",
       "      <th>6</th>\n",
       "      <td>7</td>\n",
       "      <td>0.927</td>\n",
       "      <td>0.898</td>\n",
       "    </tr>\n",
       "    <tr>\n",
       "      <th>7</th>\n",
       "      <td>8</td>\n",
       "      <td>0.906</td>\n",
       "      <td>0.883</td>\n",
       "    </tr>\n",
       "    <tr>\n",
       "      <th>8</th>\n",
       "      <td>9</td>\n",
       "      <td>0.911</td>\n",
       "      <td>0.906</td>\n",
       "    </tr>\n",
       "    <tr>\n",
       "      <th>9</th>\n",
       "      <td>10</td>\n",
       "      <td>0.906</td>\n",
       "      <td>0.938</td>\n",
       "    </tr>\n",
       "    <tr>\n",
       "      <th>10</th>\n",
       "      <td>11</td>\n",
       "      <td>0.917</td>\n",
       "      <td>0.906</td>\n",
       "    </tr>\n",
       "    <tr>\n",
       "      <th>11</th>\n",
       "      <td>12</td>\n",
       "      <td>0.906</td>\n",
       "      <td>0.906</td>\n",
       "    </tr>\n",
       "    <tr>\n",
       "      <th>12</th>\n",
       "      <td>13</td>\n",
       "      <td>0.911</td>\n",
       "      <td>0.914</td>\n",
       "    </tr>\n",
       "    <tr>\n",
       "      <th>13</th>\n",
       "      <td>14</td>\n",
       "      <td>0.911</td>\n",
       "      <td>0.922</td>\n",
       "    </tr>\n",
       "    <tr>\n",
       "      <th>14</th>\n",
       "      <td>15</td>\n",
       "      <td>0.917</td>\n",
       "      <td>0.906</td>\n",
       "    </tr>\n",
       "  </tbody>\n",
       "</table>\n",
       "</div>"
      ],
      "text/plain": [
       "    Neighbors  TrainAccuracy  TestAccuracy\n",
       "0           1          1.000         0.898\n",
       "1           2          0.922         0.875\n",
       "2           3          0.932         0.898\n",
       "3           4          0.932         0.906\n",
       "4           5          0.932         0.914\n",
       "5           6          0.927         0.930\n",
       "6           7          0.927         0.898\n",
       "7           8          0.906         0.883\n",
       "8           9          0.911         0.906\n",
       "9          10          0.906         0.938\n",
       "10         11          0.917         0.906\n",
       "11         12          0.906         0.906\n",
       "12         13          0.911         0.914\n",
       "13         14          0.911         0.922\n",
       "14         15          0.917         0.906"
      ]
     },
     "execution_count": 40,
     "metadata": {},
     "output_type": "execute_result"
    }
   ],
   "source": [
    "df_accuracy_neighbors.round(3)"
   ]
  },
  {
   "cell_type": "code",
   "execution_count": 41,
   "id": "050bcd03",
   "metadata": {},
   "outputs": [
    {
     "data": {
      "text/plain": [
       "<matplotlib.legend.Legend at 0x7f69fa7884c0>"
      ]
     },
     "execution_count": 41,
     "metadata": {},
     "output_type": "execute_result"
    },
    {
     "data": {
      "image/png": "[encoded data removed]",
      "text/plain": [
       "<Figure size 432x288 with 1 Axes>"
      ]
     },
     "metadata": {
      "needs_background": "light"
     },
     "output_type": "display_data"
    }
   ],
   "source": [
    "plt.plot(para_n_neighbors, train_accuracy, linestyle = \"-\", label= \"Train accuracy\")\n",
    "plt.plot(para_n_neighbors, test_accuracy, linestyle = \"--\", label= \"Test accuracy\")\n",
    "plt.ylabel(\"accuracy\");plt.xlabel(\"n_neighbors\")\n",
    "plt.legend()"
   ]
  },
  {
   "cell_type": "markdown",
   "id": "09166fed",
   "metadata": {},
   "source": [
    "- n_neighbors의 개수에 따라 정확도의 변화를 보기 위해 시각화를 진행하였다. n_neighbors가 6일 때 train, test데이터셋의 정확도가 그렇게 떨어질 뿐만 아니라 두 데이터셋의 차이도 얼마 나지 않는다. n_neighbors가 더욱 증가한다면 정확도가 감소할 것이기 때문에 6으로 설정한다."
   ]
  },
  {
   "cell_type": "markdown",
   "id": "c648556f",
   "metadata": {},
   "source": [
    "## 가중치별 이웃 수 증가에 따른 정확도 변화"
   ]
  },
  {
   "cell_type": "code",
   "execution_count": 42,
   "id": "7e899579",
   "metadata": {
    "scrolled": true
   },
   "outputs": [
    {
     "data": {
      "text/html": [
       "<div>\n",
       "<style scoped>\n",
       "    .dataframe tbody tr th:only-of-type {\n",
       "        vertical-align: middle;\n",
       "    }\n",
       "\n",
       "    .dataframe tbody tr th {\n",
       "        vertical-align: top;\n",
       "    }\n",
       "\n",
       "    .dataframe thead th {\n",
       "        text-align: right;\n",
       "    }\n",
       "</style>\n",
       "<table border=\"1\" class=\"dataframe\">\n",
       "  <thead>\n",
       "    <tr style=\"text-align: right;\">\n",
       "      <th></th>\n",
       "      <th>Neighbors</th>\n",
       "      <th>Weights</th>\n",
       "      <th>TrainAccuracy</th>\n",
       "      <th>TestAccuracy</th>\n",
       "    </tr>\n",
       "  </thead>\n",
       "  <tbody>\n",
       "    <tr>\n",
       "      <th>0</th>\n",
       "      <td>1</td>\n",
       "      <td>uniform</td>\n",
       "      <td>1.000</td>\n",
       "      <td>0.898</td>\n",
       "    </tr>\n",
       "    <tr>\n",
       "      <th>1</th>\n",
       "      <td>2</td>\n",
       "      <td>uniform</td>\n",
       "      <td>0.922</td>\n",
       "      <td>0.875</td>\n",
       "    </tr>\n",
       "    <tr>\n",
       "      <th>2</th>\n",
       "      <td>3</td>\n",
       "      <td>uniform</td>\n",
       "      <td>0.932</td>\n",
       "      <td>0.898</td>\n",
       "    </tr>\n",
       "    <tr>\n",
       "      <th>3</th>\n",
       "      <td>4</td>\n",
       "      <td>uniform</td>\n",
       "      <td>0.932</td>\n",
       "      <td>0.906</td>\n",
       "    </tr>\n",
       "    <tr>\n",
       "      <th>4</th>\n",
       "      <td>5</td>\n",
       "      <td>uniform</td>\n",
       "      <td>0.932</td>\n",
       "      <td>0.914</td>\n",
       "    </tr>\n",
       "    <tr>\n",
       "      <th>5</th>\n",
       "      <td>6</td>\n",
       "      <td>uniform</td>\n",
       "      <td>0.927</td>\n",
       "      <td>0.930</td>\n",
       "    </tr>\n",
       "    <tr>\n",
       "      <th>6</th>\n",
       "      <td>7</td>\n",
       "      <td>uniform</td>\n",
       "      <td>0.927</td>\n",
       "      <td>0.898</td>\n",
       "    </tr>\n",
       "    <tr>\n",
       "      <th>7</th>\n",
       "      <td>8</td>\n",
       "      <td>uniform</td>\n",
       "      <td>0.906</td>\n",
       "      <td>0.883</td>\n",
       "    </tr>\n",
       "    <tr>\n",
       "      <th>8</th>\n",
       "      <td>9</td>\n",
       "      <td>uniform</td>\n",
       "      <td>0.911</td>\n",
       "      <td>0.906</td>\n",
       "    </tr>\n",
       "    <tr>\n",
       "      <th>9</th>\n",
       "      <td>10</td>\n",
       "      <td>uniform</td>\n",
       "      <td>0.906</td>\n",
       "      <td>0.938</td>\n",
       "    </tr>\n",
       "    <tr>\n",
       "      <th>10</th>\n",
       "      <td>1</td>\n",
       "      <td>distance</td>\n",
       "      <td>1.000</td>\n",
       "      <td>0.898</td>\n",
       "    </tr>\n",
       "    <tr>\n",
       "      <th>11</th>\n",
       "      <td>2</td>\n",
       "      <td>distance</td>\n",
       "      <td>1.000</td>\n",
       "      <td>0.898</td>\n",
       "    </tr>\n",
       "    <tr>\n",
       "      <th>12</th>\n",
       "      <td>3</td>\n",
       "      <td>distance</td>\n",
       "      <td>1.000</td>\n",
       "      <td>0.898</td>\n",
       "    </tr>\n",
       "    <tr>\n",
       "      <th>13</th>\n",
       "      <td>4</td>\n",
       "      <td>distance</td>\n",
       "      <td>1.000</td>\n",
       "      <td>0.898</td>\n",
       "    </tr>\n",
       "    <tr>\n",
       "      <th>14</th>\n",
       "      <td>5</td>\n",
       "      <td>distance</td>\n",
       "      <td>1.000</td>\n",
       "      <td>0.914</td>\n",
       "    </tr>\n",
       "    <tr>\n",
       "      <th>15</th>\n",
       "      <td>6</td>\n",
       "      <td>distance</td>\n",
       "      <td>1.000</td>\n",
       "      <td>0.930</td>\n",
       "    </tr>\n",
       "    <tr>\n",
       "      <th>16</th>\n",
       "      <td>7</td>\n",
       "      <td>distance</td>\n",
       "      <td>1.000</td>\n",
       "      <td>0.891</td>\n",
       "    </tr>\n",
       "    <tr>\n",
       "      <th>17</th>\n",
       "      <td>8</td>\n",
       "      <td>distance</td>\n",
       "      <td>1.000</td>\n",
       "      <td>0.906</td>\n",
       "    </tr>\n",
       "    <tr>\n",
       "      <th>18</th>\n",
       "      <td>9</td>\n",
       "      <td>distance</td>\n",
       "      <td>1.000</td>\n",
       "      <td>0.914</td>\n",
       "    </tr>\n",
       "    <tr>\n",
       "      <th>19</th>\n",
       "      <td>10</td>\n",
       "      <td>distance</td>\n",
       "      <td>1.000</td>\n",
       "      <td>0.930</td>\n",
       "    </tr>\n",
       "  </tbody>\n",
       "</table>\n",
       "</div>"
      ],
      "text/plain": [
       "    Neighbors   Weights  TrainAccuracy  TestAccuracy\n",
       "0           1   uniform          1.000         0.898\n",
       "1           2   uniform          0.922         0.875\n",
       "2           3   uniform          0.932         0.898\n",
       "3           4   uniform          0.932         0.906\n",
       "4           5   uniform          0.932         0.914\n",
       "5           6   uniform          0.927         0.930\n",
       "6           7   uniform          0.927         0.898\n",
       "7           8   uniform          0.906         0.883\n",
       "8           9   uniform          0.911         0.906\n",
       "9          10   uniform          0.906         0.938\n",
       "10          1  distance          1.000         0.898\n",
       "11          2  distance          1.000         0.898\n",
       "12          3  distance          1.000         0.898\n",
       "13          4  distance          1.000         0.898\n",
       "14          5  distance          1.000         0.914\n",
       "15          6  distance          1.000         0.930\n",
       "16          7  distance          1.000         0.891\n",
       "17          8  distance          1.000         0.906\n",
       "18          9  distance          1.000         0.914\n",
       "19         10  distance          1.000         0.930"
      ]
     },
     "execution_count": 42,
     "metadata": {},
     "output_type": "execute_result"
    }
   ],
   "source": [
    "train_accuracy = []; test_accuracy = []\n",
    "\n",
    "para_n_neighbors = [i for i in range(1,11)]*2\n",
    "para_weights = ([\"uniform\"])*10 + (['distance']*10)\n",
    "for(v_n_neighbors, v_weights) in zip(para_n_neighbors, para_weights):\n",
    "    knn = KNeighborsClassifier(n_neighbors = v_n_neighbors, weights = v_weights)\n",
    "    knn.fit(df_train_x, df_train_y)\n",
    "    train_accuracy.append(knn.score(df_train_x, df_train_y))\n",
    "    test_accuracy.append(knn.score(df_test_x, df_test_y))\n",
    "\n",
    "df_accuracy_weights = pd.DataFrame()\n",
    "df_accuracy_weights[\"Neighbors\"] = para_n_neighbors\n",
    "df_accuracy_weights[\"Weights\"] = para_weights\n",
    "df_accuracy_weights[\"TrainAccuracy\"] = train_accuracy\n",
    "df_accuracy_weights[\"TestAccuracy\"] = test_accuracy\n",
    "df_accuracy_weights.round(3)"
   ]
  },
  {
   "cell_type": "code",
   "execution_count": 43,
   "id": "f41673e3",
   "metadata": {},
   "outputs": [],
   "source": [
    "df_accuracy_weights_pivot = df_accuracy_weights.pivot(index = \"Neighbors\", columns = \"Weights\", values = [\"TrainAccuracy\", \"TestAccuracy\"])"
   ]
  },
  {
   "cell_type": "code",
   "execution_count": 44,
   "id": "00a4e59b",
   "metadata": {},
   "outputs": [
    {
     "data": {
      "text/html": [
       "<div>\n",
       "<style scoped>\n",
       "    .dataframe tbody tr th:only-of-type {\n",
       "        vertical-align: middle;\n",
       "    }\n",
       "\n",
       "    .dataframe tbody tr th {\n",
       "        vertical-align: top;\n",
       "    }\n",
       "\n",
       "    .dataframe thead th {\n",
       "        text-align: right;\n",
       "    }\n",
       "</style>\n",
       "<table border=\"1\" class=\"dataframe\">\n",
       "  <thead>\n",
       "    <tr style=\"text-align: right;\">\n",
       "      <th></th>\n",
       "      <th>TrainAccuracy_distance</th>\n",
       "      <th>TrainAccuracy_uniform</th>\n",
       "      <th>TestAccuracy_distance</th>\n",
       "      <th>TestAccuracy_uniform</th>\n",
       "    </tr>\n",
       "    <tr>\n",
       "      <th>Neighbors</th>\n",
       "      <th></th>\n",
       "      <th></th>\n",
       "      <th></th>\n",
       "      <th></th>\n",
       "    </tr>\n",
       "  </thead>\n",
       "  <tbody>\n",
       "    <tr>\n",
       "      <th>1</th>\n",
       "      <td>1.0</td>\n",
       "      <td>1.000000</td>\n",
       "      <td>0.898438</td>\n",
       "      <td>0.898438</td>\n",
       "    </tr>\n",
       "    <tr>\n",
       "      <th>2</th>\n",
       "      <td>1.0</td>\n",
       "      <td>0.921875</td>\n",
       "      <td>0.898438</td>\n",
       "      <td>0.875000</td>\n",
       "    </tr>\n",
       "    <tr>\n",
       "      <th>3</th>\n",
       "      <td>1.0</td>\n",
       "      <td>0.932292</td>\n",
       "      <td>0.898438</td>\n",
       "      <td>0.898438</td>\n",
       "    </tr>\n",
       "    <tr>\n",
       "      <th>4</th>\n",
       "      <td>1.0</td>\n",
       "      <td>0.932292</td>\n",
       "      <td>0.898438</td>\n",
       "      <td>0.906250</td>\n",
       "    </tr>\n",
       "    <tr>\n",
       "      <th>5</th>\n",
       "      <td>1.0</td>\n",
       "      <td>0.932292</td>\n",
       "      <td>0.914062</td>\n",
       "      <td>0.914062</td>\n",
       "    </tr>\n",
       "  </tbody>\n",
       "</table>\n",
       "</div>"
      ],
      "text/plain": [
       "           TrainAccuracy_distance  TrainAccuracy_uniform  \\\n",
       "Neighbors                                                  \n",
       "1                             1.0               1.000000   \n",
       "2                             1.0               0.921875   \n",
       "3                             1.0               0.932292   \n",
       "4                             1.0               0.932292   \n",
       "5                             1.0               0.932292   \n",
       "\n",
       "           TestAccuracy_distance  TestAccuracy_uniform  \n",
       "Neighbors                                               \n",
       "1                       0.898438              0.898438  \n",
       "2                       0.898438              0.875000  \n",
       "3                       0.898438              0.898438  \n",
       "4                       0.898438              0.906250  \n",
       "5                       0.914062              0.914062  "
      ]
     },
     "execution_count": 44,
     "metadata": {},
     "output_type": "execute_result"
    }
   ],
   "source": [
    "level0 = df_accuracy_weights_pivot.columns.get_level_values(0)\n",
    "level1 = df_accuracy_weights_pivot.columns.get_level_values(1)\n",
    "\n",
    "df_accuracy_weights_pivot.columns = level0 + \"_\" + level1\n",
    "df_accuracy_weights_pivot.head()"
   ]
  },
  {
   "cell_type": "code",
   "execution_count": 45,
   "id": "1c1e5e22",
   "metadata": {},
   "outputs": [
    {
     "data": {
      "text/plain": [
       "<AxesSubplot:xlabel='Neighbors'>"
      ]
     },
     "execution_count": 45,
     "metadata": {},
     "output_type": "execute_result"
    },
    {
     "data": {
      "image/png": "[encoded data removed]",
      "text/plain": [
       "<Figure size 432x288 with 1 Axes>"
      ]
     },
     "metadata": {
      "needs_background": "light"
     },
     "output_type": "display_data"
    }
   ],
   "source": [
    "sns.lineplot(data = df_accuracy_weights_pivot)"
   ]
  },
  {
   "cell_type": "markdown",
   "id": "dc4d8444",
   "metadata": {},
   "source": [
    "- weight를 distance로 설정하였을 때 train 데이터가 1.0으로 수렴하는 것을 볼 수 있다. 이는 test 데이터를 맞추지 못하는 과적합이라고 판단된다. 그래서 uniform의 훈련데이터와 테스트데이터를 보았더니 neighbors가 6일 때의 train, test의 성능이 좋고 일반화가 된 모델이라고 판단된다. "
   ]
  },
  {
   "cell_type": "markdown",
   "id": "91c656e2",
   "metadata": {},
   "source": [
    "## 거리 계산 방법별 이웃 수 증가에 따른 정확도 변화"
   ]
  },
  {
   "cell_type": "code",
   "execution_count": 46,
   "id": "a07be028",
   "metadata": {
    "scrolled": true
   },
   "outputs": [
    {
     "data": {
      "text/html": [
       "<div>\n",
       "<style scoped>\n",
       "    .dataframe tbody tr th:only-of-type {\n",
       "        vertical-align: middle;\n",
       "    }\n",
       "\n",
       "    .dataframe tbody tr th {\n",
       "        vertical-align: top;\n",
       "    }\n",
       "\n",
       "    .dataframe thead th {\n",
       "        text-align: right;\n",
       "    }\n",
       "</style>\n",
       "<table border=\"1\" class=\"dataframe\">\n",
       "  <thead>\n",
       "    <tr style=\"text-align: right;\">\n",
       "      <th></th>\n",
       "      <th>Neighbors</th>\n",
       "      <th>Metric</th>\n",
       "      <th>TrainAccuracy</th>\n",
       "      <th>TestAccuracy</th>\n",
       "    </tr>\n",
       "  </thead>\n",
       "  <tbody>\n",
       "    <tr>\n",
       "      <th>0</th>\n",
       "      <td>1</td>\n",
       "      <td>minkowski</td>\n",
       "      <td>1.000</td>\n",
       "      <td>0.898</td>\n",
       "    </tr>\n",
       "    <tr>\n",
       "      <th>1</th>\n",
       "      <td>2</td>\n",
       "      <td>minkowski</td>\n",
       "      <td>0.922</td>\n",
       "      <td>0.875</td>\n",
       "    </tr>\n",
       "    <tr>\n",
       "      <th>2</th>\n",
       "      <td>3</td>\n",
       "      <td>minkowski</td>\n",
       "      <td>0.932</td>\n",
       "      <td>0.898</td>\n",
       "    </tr>\n",
       "    <tr>\n",
       "      <th>3</th>\n",
       "      <td>4</td>\n",
       "      <td>minkowski</td>\n",
       "      <td>0.932</td>\n",
       "      <td>0.906</td>\n",
       "    </tr>\n",
       "    <tr>\n",
       "      <th>4</th>\n",
       "      <td>5</td>\n",
       "      <td>minkowski</td>\n",
       "      <td>0.932</td>\n",
       "      <td>0.914</td>\n",
       "    </tr>\n",
       "    <tr>\n",
       "      <th>5</th>\n",
       "      <td>6</td>\n",
       "      <td>minkowski</td>\n",
       "      <td>0.927</td>\n",
       "      <td>0.930</td>\n",
       "    </tr>\n",
       "    <tr>\n",
       "      <th>6</th>\n",
       "      <td>7</td>\n",
       "      <td>minkowski</td>\n",
       "      <td>0.927</td>\n",
       "      <td>0.898</td>\n",
       "    </tr>\n",
       "    <tr>\n",
       "      <th>7</th>\n",
       "      <td>8</td>\n",
       "      <td>minkowski</td>\n",
       "      <td>0.906</td>\n",
       "      <td>0.883</td>\n",
       "    </tr>\n",
       "    <tr>\n",
       "      <th>8</th>\n",
       "      <td>9</td>\n",
       "      <td>minkowski</td>\n",
       "      <td>0.911</td>\n",
       "      <td>0.906</td>\n",
       "    </tr>\n",
       "    <tr>\n",
       "      <th>9</th>\n",
       "      <td>10</td>\n",
       "      <td>minkowski</td>\n",
       "      <td>0.906</td>\n",
       "      <td>0.938</td>\n",
       "    </tr>\n",
       "    <tr>\n",
       "      <th>10</th>\n",
       "      <td>1</td>\n",
       "      <td>euclidean</td>\n",
       "      <td>1.000</td>\n",
       "      <td>0.898</td>\n",
       "    </tr>\n",
       "    <tr>\n",
       "      <th>11</th>\n",
       "      <td>2</td>\n",
       "      <td>euclidean</td>\n",
       "      <td>0.922</td>\n",
       "      <td>0.875</td>\n",
       "    </tr>\n",
       "    <tr>\n",
       "      <th>12</th>\n",
       "      <td>3</td>\n",
       "      <td>euclidean</td>\n",
       "      <td>0.932</td>\n",
       "      <td>0.898</td>\n",
       "    </tr>\n",
       "    <tr>\n",
       "      <th>13</th>\n",
       "      <td>4</td>\n",
       "      <td>euclidean</td>\n",
       "      <td>0.932</td>\n",
       "      <td>0.906</td>\n",
       "    </tr>\n",
       "    <tr>\n",
       "      <th>14</th>\n",
       "      <td>5</td>\n",
       "      <td>euclidean</td>\n",
       "      <td>0.932</td>\n",
       "      <td>0.914</td>\n",
       "    </tr>\n",
       "    <tr>\n",
       "      <th>15</th>\n",
       "      <td>6</td>\n",
       "      <td>euclidean</td>\n",
       "      <td>0.927</td>\n",
       "      <td>0.930</td>\n",
       "    </tr>\n",
       "    <tr>\n",
       "      <th>16</th>\n",
       "      <td>7</td>\n",
       "      <td>euclidean</td>\n",
       "      <td>0.927</td>\n",
       "      <td>0.898</td>\n",
       "    </tr>\n",
       "    <tr>\n",
       "      <th>17</th>\n",
       "      <td>8</td>\n",
       "      <td>euclidean</td>\n",
       "      <td>0.906</td>\n",
       "      <td>0.883</td>\n",
       "    </tr>\n",
       "    <tr>\n",
       "      <th>18</th>\n",
       "      <td>9</td>\n",
       "      <td>euclidean</td>\n",
       "      <td>0.911</td>\n",
       "      <td>0.906</td>\n",
       "    </tr>\n",
       "    <tr>\n",
       "      <th>19</th>\n",
       "      <td>10</td>\n",
       "      <td>euclidean</td>\n",
       "      <td>0.906</td>\n",
       "      <td>0.938</td>\n",
       "    </tr>\n",
       "    <tr>\n",
       "      <th>20</th>\n",
       "      <td>1</td>\n",
       "      <td>manhattan</td>\n",
       "      <td>1.000</td>\n",
       "      <td>0.906</td>\n",
       "    </tr>\n",
       "    <tr>\n",
       "      <th>21</th>\n",
       "      <td>2</td>\n",
       "      <td>manhattan</td>\n",
       "      <td>0.927</td>\n",
       "      <td>0.875</td>\n",
       "    </tr>\n",
       "    <tr>\n",
       "      <th>22</th>\n",
       "      <td>3</td>\n",
       "      <td>manhattan</td>\n",
       "      <td>0.932</td>\n",
       "      <td>0.898</td>\n",
       "    </tr>\n",
       "    <tr>\n",
       "      <th>23</th>\n",
       "      <td>4</td>\n",
       "      <td>manhattan</td>\n",
       "      <td>0.922</td>\n",
       "      <td>0.922</td>\n",
       "    </tr>\n",
       "    <tr>\n",
       "      <th>24</th>\n",
       "      <td>5</td>\n",
       "      <td>manhattan</td>\n",
       "      <td>0.943</td>\n",
       "      <td>0.938</td>\n",
       "    </tr>\n",
       "    <tr>\n",
       "      <th>25</th>\n",
       "      <td>6</td>\n",
       "      <td>manhattan</td>\n",
       "      <td>0.932</td>\n",
       "      <td>0.930</td>\n",
       "    </tr>\n",
       "    <tr>\n",
       "      <th>26</th>\n",
       "      <td>7</td>\n",
       "      <td>manhattan</td>\n",
       "      <td>0.917</td>\n",
       "      <td>0.922</td>\n",
       "    </tr>\n",
       "    <tr>\n",
       "      <th>27</th>\n",
       "      <td>8</td>\n",
       "      <td>manhattan</td>\n",
       "      <td>0.906</td>\n",
       "      <td>0.914</td>\n",
       "    </tr>\n",
       "    <tr>\n",
       "      <th>28</th>\n",
       "      <td>9</td>\n",
       "      <td>manhattan</td>\n",
       "      <td>0.917</td>\n",
       "      <td>0.914</td>\n",
       "    </tr>\n",
       "    <tr>\n",
       "      <th>29</th>\n",
       "      <td>10</td>\n",
       "      <td>manhattan</td>\n",
       "      <td>0.906</td>\n",
       "      <td>0.906</td>\n",
       "    </tr>\n",
       "  </tbody>\n",
       "</table>\n",
       "</div>"
      ],
      "text/plain": [
       "    Neighbors     Metric  TrainAccuracy  TestAccuracy\n",
       "0           1  minkowski          1.000         0.898\n",
       "1           2  minkowski          0.922         0.875\n",
       "2           3  minkowski          0.932         0.898\n",
       "3           4  minkowski          0.932         0.906\n",
       "4           5  minkowski          0.932         0.914\n",
       "5           6  minkowski          0.927         0.930\n",
       "6           7  minkowski          0.927         0.898\n",
       "7           8  minkowski          0.906         0.883\n",
       "8           9  minkowski          0.911         0.906\n",
       "9          10  minkowski          0.906         0.938\n",
       "10          1  euclidean          1.000         0.898\n",
       "11          2  euclidean          0.922         0.875\n",
       "12          3  euclidean          0.932         0.898\n",
       "13          4  euclidean          0.932         0.906\n",
       "14          5  euclidean          0.932         0.914\n",
       "15          6  euclidean          0.927         0.930\n",
       "16          7  euclidean          0.927         0.898\n",
       "17          8  euclidean          0.906         0.883\n",
       "18          9  euclidean          0.911         0.906\n",
       "19         10  euclidean          0.906         0.938\n",
       "20          1  manhattan          1.000         0.906\n",
       "21          2  manhattan          0.927         0.875\n",
       "22          3  manhattan          0.932         0.898\n",
       "23          4  manhattan          0.922         0.922\n",
       "24          5  manhattan          0.943         0.938\n",
       "25          6  manhattan          0.932         0.930\n",
       "26          7  manhattan          0.917         0.922\n",
       "27          8  manhattan          0.906         0.914\n",
       "28          9  manhattan          0.917         0.914\n",
       "29         10  manhattan          0.906         0.906"
      ]
     },
     "execution_count": 46,
     "metadata": {},
     "output_type": "execute_result"
    }
   ],
   "source": [
    "train_accuracy = []; test_accuracy = []\n",
    "\n",
    "para_n_neighbors = [i for i in range(1,11)]*3\n",
    "para_metric = [\"minkowski\"]*10 + ['euclidean']*10 + [\"manhattan\"]*10\n",
    "\n",
    "for(v_n_neighbors, v_metric) in zip(para_n_neighbors, para_metric):\n",
    "    knn = KNeighborsClassifier(n_neighbors = v_n_neighbors, metric = v_metric, weights = \"uniform\")\n",
    "    knn.fit(df_train_x, df_train_y)\n",
    "    train_accuracy.append(knn.score(df_train_x, df_train_y))\n",
    "    test_accuracy.append(knn.score(df_test_x, df_test_y))\n",
    "\n",
    "df_accuracy_metric = pd.DataFrame()\n",
    "df_accuracy_metric[\"Neighbors\"] = para_n_neighbors\n",
    "df_accuracy_metric[\"Metric\"] = para_metric\n",
    "df_accuracy_metric[\"TrainAccuracy\"] = train_accuracy\n",
    "df_accuracy_metric[\"TestAccuracy\"] = test_accuracy\n",
    "df_accuracy_metric.round(3)"
   ]
  },
  {
   "cell_type": "code",
   "execution_count": 47,
   "id": "cab5096c",
   "metadata": {},
   "outputs": [
    {
     "data": {
      "text/plain": [
       "<AxesSubplot:xlabel='Neighbors'>"
      ]
     },
     "execution_count": 47,
     "metadata": {},
     "output_type": "execute_result"
    },
    {
     "data": {
      "image/png": "[encoded data removed]",
      "text/plain": [
       "<Figure size 432x288 with 1 Axes>"
      ]
     },
     "metadata": {
      "needs_background": "light"
     },
     "output_type": "display_data"
    }
   ],
   "source": [
    "df_accuracy_metric_pivot = df_accuracy_metric.pivot(index = \"Neighbors\", columns = \"Metric\", values = [\"TrainAccuracy\", \"TestAccuracy\"])\n",
    "\n",
    "level0 = df_accuracy_metric_pivot.columns.get_level_values(0)\n",
    "level1 = df_accuracy_metric_pivot.columns.get_level_values(1)\n",
    "\n",
    "df_accuracy_metric_pivot.columns = level0 + \"_\" + level1\n",
    "sns.lineplot(data = df_accuracy_metric_pivot)"
   ]
  },
  {
   "cell_type": "markdown",
   "id": "789264e3",
   "metadata": {},
   "source": [
    "- 거리 계산 방법별 이웃 수 증가에 따른 정확도 변화를 시각화 해 본 결과 manhattan 계산 방법이 train, test의 정확도가 높은 편이고 데이터셋에 따라 정확도의 변화도 비슷한 것으로 보아 일반화성능도 나쁘지 않은 것으로 보인다. 그렇기 때문에 manhattan 계산방법을 선택한다."
   ]
  },
  {
   "cell_type": "code",
   "execution_count": 48,
   "id": "2ee01bf0",
   "metadata": {
    "scrolled": true
   },
   "outputs": [
    {
     "name": "stdout",
     "output_type": "stream",
     "text": [
      "Accuracy on training set: 0.932\n",
      "Accuracy on test set: 0.906\n",
      "\n",
      "Confusion matrix:\n",
      "[[30  1]\n",
      " [11 86]]\n",
      "              precision    recall  f1-score   support\n",
      "\n",
      "          양성      0.732     0.968     0.833        31\n",
      "          음성      0.989     0.887     0.935        97\n",
      "\n",
      "    accuracy                          0.906       128\n",
      "   macro avg      0.860     0.927     0.884       128\n",
      "weighted avg      0.926     0.906     0.910       128\n",
      "\n"
     ]
    }
   ],
   "source": [
    "knn_model =KNeighborsClassifier(n_neighbors= 4 , weights= \"uniform\", metric=\"manhattan\")\n",
    "knn_model.fit(df_train_x,df_train_y)\n",
    "y_pred = knn_model.predict(df_test_x)\n",
    "\n",
    "print(\"Accuracy on training set: {:.3f}\".format(knn_model.score(df_train_x,df_train_y)))\n",
    "\n",
    "print(\"Accuracy on test set: {:.3f}\\n\".format(knn_model.score(df_test_x,df_test_y)))\n",
    "\n",
    "print(\"Confusion matrix:\\n{}\".format(confusion_matrix(df_test_y,y_pred)))\n",
    "\n",
    "print(classification_report(df_test_y,y_pred,digits=3))"
   ]
  },
  {
   "cell_type": "markdown",
   "id": "3d8d4c4d",
   "metadata": {},
   "source": [
    "- default 모델의 training set 정확도는 0.932이고 test set의 정확도는 0.914이다. 파라미터 튜닝 결과 train set은 성능이 조금 올랐지만 이에 비해 test set이 정확도가 떨어졌다. 하지만 유방암데이터에서 중요한 recall의 값이 상당히 높은 값이므로 모델이 적용할 만하다고 판단하였다."
   ]
  }
 ],
 "metadata": {
  "kernelspec": {
   "display_name": "Python 3 (ipykernel)",
   "language": "python",
   "name": "python3"
  },
  "language_info": {
   "codemirror_mode": {
    "name": "ipython",
    "version": 3
   },
   "file_extension": ".py",
   "mimetype": "text/x-python",
   "name": "python",
   "nbconvert_exporter": "python",
   "pygments_lexer": "ipython3",
   "version": "3.9.7"
  }
 },
 "nbformat": 4,
 "nbformat_minor": 5
}
