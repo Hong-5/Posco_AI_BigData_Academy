{
 "cells": [
  {
   "cell_type": "code",
   "execution_count": 9,
   "id": "c25534ea",
   "metadata": {},
   "outputs": [],
   "source": [
    "from scipy.stats import shapiro\n",
    "from scipy import stats\n",
    "import pandas as pd\n",
    "import numpy as np\n",
    "import scipy\n",
    "from scipy.stats import bartlett\n",
    "from statsmodels.stats.proportion import proportions_ztest이다"
   ]
  },
  {
   "cell_type": "markdown",
   "id": "87c17121",
   "metadata": {},
   "source": [
    "# 265 page"
   ]
  },
  {
   "cell_type": "code",
   "execution_count": 10,
   "id": "c8be8131",
   "metadata": {},
   "outputs": [],
   "source": [
    "df = pd.read_csv('/home/piai/test/1. Big_Data_분석기초/2sample_t_test.csv', encoding='cp949')"
   ]
  },
  {
   "cell_type": "code",
   "execution_count": 11,
   "id": "d4d3aa29",
   "metadata": {
    "scrolled": true
   },
   "outputs": [
    {
     "data": {
      "text/html": [
       "<div>\n",
       "<style scoped>\n",
       "    .dataframe tbody tr th:only-of-type {\n",
       "        vertical-align: middle;\n",
       "    }\n",
       "\n",
       "    .dataframe tbody tr th {\n",
       "        vertical-align: top;\n",
       "    }\n",
       "\n",
       "    .dataframe thead th {\n",
       "        text-align: right;\n",
       "    }\n",
       "</style>\n",
       "<table border=\"1\" class=\"dataframe\">\n",
       "  <thead>\n",
       "    <tr style=\"text-align: right;\">\n",
       "      <th></th>\n",
       "      <th>Mat_A</th>\n",
       "      <th>Mat_B</th>\n",
       "      <th>Total</th>\n",
       "      <th>Sub</th>\n",
       "    </tr>\n",
       "  </thead>\n",
       "  <tbody>\n",
       "    <tr>\n",
       "      <th>0</th>\n",
       "      <td>73.4</td>\n",
       "      <td>68.7</td>\n",
       "      <td>73.4</td>\n",
       "      <td>1</td>\n",
       "    </tr>\n",
       "    <tr>\n",
       "      <th>1</th>\n",
       "      <td>77.0</td>\n",
       "      <td>71.4</td>\n",
       "      <td>77.0</td>\n",
       "      <td>1</td>\n",
       "    </tr>\n",
       "    <tr>\n",
       "      <th>2</th>\n",
       "      <td>73.7</td>\n",
       "      <td>69.8</td>\n",
       "      <td>73.7</td>\n",
       "      <td>1</td>\n",
       "    </tr>\n",
       "    <tr>\n",
       "      <th>3</th>\n",
       "      <td>73.3</td>\n",
       "      <td>75.3</td>\n",
       "      <td>73.3</td>\n",
       "      <td>1</td>\n",
       "    </tr>\n",
       "    <tr>\n",
       "      <th>4</th>\n",
       "      <td>73.1</td>\n",
       "      <td>71.3</td>\n",
       "      <td>73.1</td>\n",
       "      <td>1</td>\n",
       "    </tr>\n",
       "    <tr>\n",
       "      <th>5</th>\n",
       "      <td>71.5</td>\n",
       "      <td>72.7</td>\n",
       "      <td>71.5</td>\n",
       "      <td>1</td>\n",
       "    </tr>\n",
       "    <tr>\n",
       "      <th>6</th>\n",
       "      <td>74.5</td>\n",
       "      <td>66.9</td>\n",
       "      <td>74.5</td>\n",
       "      <td>1</td>\n",
       "    </tr>\n",
       "    <tr>\n",
       "      <th>7</th>\n",
       "      <td>77.5</td>\n",
       "      <td>70.2</td>\n",
       "      <td>77.5</td>\n",
       "      <td>1</td>\n",
       "    </tr>\n",
       "    <tr>\n",
       "      <th>8</th>\n",
       "      <td>76.4</td>\n",
       "      <td>74.4</td>\n",
       "      <td>76.4</td>\n",
       "      <td>1</td>\n",
       "    </tr>\n",
       "    <tr>\n",
       "      <th>9</th>\n",
       "      <td>77.7</td>\n",
       "      <td>70.1</td>\n",
       "      <td>77.7</td>\n",
       "      <td>1</td>\n",
       "    </tr>\n",
       "    <tr>\n",
       "      <th>10</th>\n",
       "      <td>NaN</td>\n",
       "      <td>NaN</td>\n",
       "      <td>68.7</td>\n",
       "      <td>2</td>\n",
       "    </tr>\n",
       "    <tr>\n",
       "      <th>11</th>\n",
       "      <td>NaN</td>\n",
       "      <td>NaN</td>\n",
       "      <td>71.4</td>\n",
       "      <td>2</td>\n",
       "    </tr>\n",
       "    <tr>\n",
       "      <th>12</th>\n",
       "      <td>NaN</td>\n",
       "      <td>NaN</td>\n",
       "      <td>69.8</td>\n",
       "      <td>2</td>\n",
       "    </tr>\n",
       "    <tr>\n",
       "      <th>13</th>\n",
       "      <td>NaN</td>\n",
       "      <td>NaN</td>\n",
       "      <td>75.3</td>\n",
       "      <td>2</td>\n",
       "    </tr>\n",
       "    <tr>\n",
       "      <th>14</th>\n",
       "      <td>NaN</td>\n",
       "      <td>NaN</td>\n",
       "      <td>71.3</td>\n",
       "      <td>2</td>\n",
       "    </tr>\n",
       "    <tr>\n",
       "      <th>15</th>\n",
       "      <td>NaN</td>\n",
       "      <td>NaN</td>\n",
       "      <td>72.7</td>\n",
       "      <td>2</td>\n",
       "    </tr>\n",
       "    <tr>\n",
       "      <th>16</th>\n",
       "      <td>NaN</td>\n",
       "      <td>NaN</td>\n",
       "      <td>66.9</td>\n",
       "      <td>2</td>\n",
       "    </tr>\n",
       "    <tr>\n",
       "      <th>17</th>\n",
       "      <td>NaN</td>\n",
       "      <td>NaN</td>\n",
       "      <td>70.2</td>\n",
       "      <td>2</td>\n",
       "    </tr>\n",
       "    <tr>\n",
       "      <th>18</th>\n",
       "      <td>NaN</td>\n",
       "      <td>NaN</td>\n",
       "      <td>74.4</td>\n",
       "      <td>2</td>\n",
       "    </tr>\n",
       "    <tr>\n",
       "      <th>19</th>\n",
       "      <td>NaN</td>\n",
       "      <td>NaN</td>\n",
       "      <td>70.1</td>\n",
       "      <td>2</td>\n",
       "    </tr>\n",
       "  </tbody>\n",
       "</table>\n",
       "</div>"
      ],
      "text/plain": [
       "    Mat_A  Mat_B  Total  Sub\n",
       "0    73.4   68.7   73.4    1\n",
       "1    77.0   71.4   77.0    1\n",
       "2    73.7   69.8   73.7    1\n",
       "3    73.3   75.3   73.3    1\n",
       "4    73.1   71.3   73.1    1\n",
       "5    71.5   72.7   71.5    1\n",
       "6    74.5   66.9   74.5    1\n",
       "7    77.5   70.2   77.5    1\n",
       "8    76.4   74.4   76.4    1\n",
       "9    77.7   70.1   77.7    1\n",
       "10    NaN    NaN   68.7    2\n",
       "11    NaN    NaN   71.4    2\n",
       "12    NaN    NaN   69.8    2\n",
       "13    NaN    NaN   75.3    2\n",
       "14    NaN    NaN   71.3    2\n",
       "15    NaN    NaN   72.7    2\n",
       "16    NaN    NaN   66.9    2\n",
       "17    NaN    NaN   70.2    2\n",
       "18    NaN    NaN   74.4    2\n",
       "19    NaN    NaN   70.1    2"
      ]
     },
     "execution_count": 11,
     "metadata": {},
     "output_type": "execute_result"
    }
   ],
   "source": [
    "df"
   ]
  },
  {
   "cell_type": "code",
   "execution_count": 12,
   "id": "42b2ddf7",
   "metadata": {},
   "outputs": [],
   "source": [
    "df = df.dropna()"
   ]
  },
  {
   "cell_type": "markdown",
   "id": "cae4293a",
   "metadata": {},
   "source": [
    "1) Mat_A\n",
    "\n",
    "- H0 : Mat_A는 정규분포를 따른다.\n",
    "- H1 : Mat_A는 정규분포를 따르지 않는다.\n",
    "\n",
    "(유의수준은 0.05라고 가정)"
   ]
  },
  {
   "cell_type": "code",
   "execution_count": 13,
   "id": "25454f97",
   "metadata": {},
   "outputs": [
    {
     "name": "stdout",
     "output_type": "stream",
     "text": [
      "Shapiro-Wilk Test: statistic=0.9062636494636536, p-value=0.2562994360923767\n"
     ]
    }
   ],
   "source": [
    "Mat_A_data = df['Mat_A']\n",
    "shapiro(Mat_A_data)\n",
    "statistic, p = stats.shapiro(Mat_A_data)\n",
    "\n",
    "print(\"Shapiro-Wilk Test: statistic={}, p-value={}\".format(statistic,p))"
   ]
  },
  {
   "cell_type": "markdown",
   "id": "a8d48c18",
   "metadata": {},
   "source": [
    "- p-value가 0.256으로 0.05보다 크므로 귀무가설 채택\n",
    "- 변수 Mat_A는 정규분포를 따른다. "
   ]
  },
  {
   "cell_type": "markdown",
   "id": "033e56b3",
   "metadata": {},
   "source": [
    "2) Mat_B\n",
    "\n",
    "- H0 : Mat_B는 정규분포를 따른다.\n",
    "- H1 : Mat_B는 정규분포를 따르지 않는다.\n",
    "\n",
    "(유의수준은 0.05라고 가정)"
   ]
  },
  {
   "cell_type": "code",
   "execution_count": 14,
   "id": "721ddd01",
   "metadata": {},
   "outputs": [
    {
     "name": "stdout",
     "output_type": "stream",
     "text": [
      "Shapiro-Wilk Test: statistic=0.9729753732681274, p-value=0.9169777035713196\n"
     ]
    }
   ],
   "source": [
    "Mat_B_data = df['Mat_B']\n",
    "shapiro(Mat_B_data)\n",
    "statistic, p = stats.shapiro(Mat_B_data)\n",
    "\n",
    "print(\"Shapiro-Wilk Test: statistic={}, p-value={}\".format(statistic,p))"
   ]
  },
  {
   "cell_type": "markdown",
   "id": "5919c0ef",
   "metadata": {},
   "source": [
    "- p-value가 0.916으로 0.05보다 크므로 귀무가설 채택\n",
    "- 변수 Mat_B는 정규분포를 따른다. "
   ]
  },
  {
   "cell_type": "markdown",
   "id": "b7779e05",
   "metadata": {},
   "source": [
    "# 268 page"
   ]
  },
  {
   "cell_type": "code",
   "execution_count": 91,
   "id": "a51a08e3",
   "metadata": {},
   "outputs": [
    {
     "data": {
      "text/html": [
       "<div>\n",
       "<style scoped>\n",
       "    .dataframe tbody tr th:only-of-type {\n",
       "        vertical-align: middle;\n",
       "    }\n",
       "\n",
       "    .dataframe tbody tr th {\n",
       "        vertical-align: top;\n",
       "    }\n",
       "\n",
       "    .dataframe thead th {\n",
       "        text-align: right;\n",
       "    }\n",
       "</style>\n",
       "<table border=\"1\" class=\"dataframe\">\n",
       "  <thead>\n",
       "    <tr style=\"text-align: right;\">\n",
       "      <th></th>\n",
       "      <th>sample</th>\n",
       "    </tr>\n",
       "  </thead>\n",
       "  <tbody>\n",
       "    <tr>\n",
       "      <th>0</th>\n",
       "      <td>18</td>\n",
       "    </tr>\n",
       "    <tr>\n",
       "      <th>1</th>\n",
       "      <td>18</td>\n",
       "    </tr>\n",
       "    <tr>\n",
       "      <th>2</th>\n",
       "      <td>20</td>\n",
       "    </tr>\n",
       "    <tr>\n",
       "      <th>3</th>\n",
       "      <td>21</td>\n",
       "    </tr>\n",
       "    <tr>\n",
       "      <th>4</th>\n",
       "      <td>20</td>\n",
       "    </tr>\n",
       "  </tbody>\n",
       "</table>\n",
       "</div>"
      ],
      "text/plain": [
       "   sample\n",
       "0      18\n",
       "1      18\n",
       "2      20\n",
       "3      21\n",
       "4      20"
      ]
     },
     "metadata": {},
     "output_type": "display_data"
    },
    {
     "name": "stdout",
     "output_type": "stream",
     "text": [
      "신뢰구간: (17.83, 21.17)\n"
     ]
    }
   ],
   "source": [
    "df = pd.DataFrame({'sample' : [18, 18, 20, 21, 20, 23, 19, 18, 17, 21,\n",
    "                              22, 20, 20, 21, 20, 19, 19, 18, 17, 19]})\n",
    "\n",
    "display(df.head())\n",
    "\n",
    "lower, upper = stats.norm.interval(0.95, loc = np.mean(df), scale = 3.8/np.sqrt(20))\n",
    "print('신뢰구간: ({0}, {1})'.format(lower.round(2)[0], upper.round(2)[0]))"
   ]
  },
  {
   "cell_type": "markdown",
   "id": "937f40e4",
   "metadata": {},
   "source": [
    "- 신품종 감자의 평균무게에 대한 95% 신뢰구간은 (17.83, 21.17) 이다."
   ]
  },
  {
   "cell_type": "markdown",
   "id": "165a0c35",
   "metadata": {},
   "source": [
    "# 271 page"
   ]
  },
  {
   "cell_type": "code",
   "execution_count": 15,
   "id": "7ca7a72c",
   "metadata": {},
   "outputs": [
    {
     "data": {
      "text/html": [
       "<div>\n",
       "<style scoped>\n",
       "    .dataframe tbody tr th:only-of-type {\n",
       "        vertical-align: middle;\n",
       "    }\n",
       "\n",
       "    .dataframe tbody tr th {\n",
       "        vertical-align: top;\n",
       "    }\n",
       "\n",
       "    .dataframe thead th {\n",
       "        text-align: right;\n",
       "    }\n",
       "</style>\n",
       "<table border=\"1\" class=\"dataframe\">\n",
       "  <thead>\n",
       "    <tr style=\"text-align: right;\">\n",
       "      <th></th>\n",
       "      <th>sample</th>\n",
       "    </tr>\n",
       "  </thead>\n",
       "  <tbody>\n",
       "    <tr>\n",
       "      <th>0</th>\n",
       "      <td>73</td>\n",
       "    </tr>\n",
       "    <tr>\n",
       "      <th>1</th>\n",
       "      <td>71</td>\n",
       "    </tr>\n",
       "    <tr>\n",
       "      <th>2</th>\n",
       "      <td>74</td>\n",
       "    </tr>\n",
       "    <tr>\n",
       "      <th>3</th>\n",
       "      <td>69</td>\n",
       "    </tr>\n",
       "    <tr>\n",
       "      <th>4</th>\n",
       "      <td>70</td>\n",
       "    </tr>\n",
       "  </tbody>\n",
       "</table>\n",
       "</div>"
      ],
      "text/plain": [
       "   sample\n",
       "0      73\n",
       "1      71\n",
       "2      74\n",
       "3      69\n",
       "4      70"
      ]
     },
     "metadata": {},
     "output_type": "display_data"
    },
    {
     "name": "stdout",
     "output_type": "stream",
     "text": [
      "신뢰구간: ([70.65], [72.35])\n"
     ]
    }
   ],
   "source": [
    "df = pd.DataFrame({'sample' : [73, 71, 74, 69, 70, 73, 70, 68, 75, 72,\n",
    "                              70, 72, 73, 70, 70, 72, 71, 70, 75, 72]})\n",
    "\n",
    "display(df.head())\n",
    "\n",
    "lower, upper = stats.norm.interval(0.95, loc = np.mean(df), scale = 1.933/np.sqrt(20))\n",
    "print('신뢰구간: ({0}, {1})'.format(lower.round(2), upper.round(2)))"
   ]
  },
  {
   "cell_type": "markdown",
   "id": "5d0cf616",
   "metadata": {},
   "source": [
    "# 296 page"
   ]
  },
  {
   "cell_type": "markdown",
   "id": "f70376a6",
   "metadata": {},
   "source": [
    "- H0 : 개선활동이 만족도를 변화시키지 못한다.\n",
    "- H1 : 개선활동이 만족도를 변화시킨다.\n",
    "\n",
    "(유의수준은 0.05라고 가정)"
   ]
  },
  {
   "cell_type": "code",
   "execution_count": 16,
   "id": "014846a8",
   "metadata": {},
   "outputs": [
    {
     "data": {
      "text/html": [
       "<div>\n",
       "<style scoped>\n",
       "    .dataframe tbody tr th:only-of-type {\n",
       "        vertical-align: middle;\n",
       "    }\n",
       "\n",
       "    .dataframe tbody tr th {\n",
       "        vertical-align: top;\n",
       "    }\n",
       "\n",
       "    .dataframe thead th {\n",
       "        text-align: right;\n",
       "    }\n",
       "</style>\n",
       "<table border=\"1\" class=\"dataframe\">\n",
       "  <thead>\n",
       "    <tr style=\"text-align: right;\">\n",
       "      <th></th>\n",
       "      <th>sample</th>\n",
       "    </tr>\n",
       "  </thead>\n",
       "  <tbody>\n",
       "    <tr>\n",
       "      <th>0</th>\n",
       "      <td>85.0</td>\n",
       "    </tr>\n",
       "    <tr>\n",
       "      <th>1</th>\n",
       "      <td>79.0</td>\n",
       "    </tr>\n",
       "    <tr>\n",
       "      <th>2</th>\n",
       "      <td>79.1</td>\n",
       "    </tr>\n",
       "    <tr>\n",
       "      <th>3</th>\n",
       "      <td>79.9</td>\n",
       "    </tr>\n",
       "    <tr>\n",
       "      <th>4</th>\n",
       "      <td>81.6</td>\n",
       "    </tr>\n",
       "  </tbody>\n",
       "</table>\n",
       "</div>"
      ],
      "text/plain": [
       "   sample\n",
       "0    85.0\n",
       "1    79.0\n",
       "2    79.1\n",
       "3    79.9\n",
       "4    81.6"
      ]
     },
     "metadata": {},
     "output_type": "display_data"
    },
    {
     "name": "stdout",
     "output_type": "stream",
     "text": [
      "1-Sample t-test\n",
      "t 통계량 : [3.379]\n",
      "p-value : [0.008]\n"
     ]
    }
   ],
   "source": [
    "df = pd.DataFrame({'sample' : [85.0, 79.0, 79.1, 79.9, 81.6,\n",
    "                              78.6, 85.4, 83.4, 78.1, 79.2]})\n",
    "\n",
    "display(df.head())\n",
    "\n",
    "t_result = stats.ttest_1samp(df, 78)\n",
    "\n",
    "t, p = t_result.statistic.round(3), t_result.pvalue.round(3)\n",
    "\n",
    "print('1-Sample t-test')\n",
    "print('t 통계량 : {}'.format(t))\n",
    "print('p-value : {}'.format(p))"
   ]
  },
  {
   "cell_type": "markdown",
   "id": "4da1b96f",
   "metadata": {},
   "source": [
    "-  유의수준 5%에서 p-value가 0.008로 0.05보다 작으므로 귀무가설을 기각하고 대립가설을 채택한다. 이것으로 개선활동이 고객 만족도 변화를 시켰다고 할 수 있으며 t통계량이 0보다 크므로 개선활동이 만족도를 높였다고 할 수 있다."
   ]
  },
  {
   "cell_type": "markdown",
   "id": "c9029798",
   "metadata": {},
   "source": [
    "# 299 page"
   ]
  },
  {
   "cell_type": "code",
   "execution_count": 17,
   "id": "5e444979",
   "metadata": {},
   "outputs": [
    {
     "data": {
      "text/plain": [
       "<AxesSubplot:>"
      ]
     },
     "execution_count": 17,
     "metadata": {},
     "output_type": "execute_result"
    },
    {
     "data": {
      "image/png": "[encoded data removed]",
      "text/plain": [
       "<Figure size 432x288 with 1 Axes>"
      ]
     },
     "metadata": {
      "needs_background": "light"
     },
     "output_type": "display_data"
    }
   ],
   "source": [
    "df = pd.DataFrame({'A' : [1.883, 1.715, 1.799, 1.768, 1.711, 1.832, 1.427, 1.344],\n",
    "                  'B' : [1.435, 1.572, 1.486, 1.511, 1.457, 1.548, 1.404, 1.883]})\n",
    "\n",
    "df.boxplot(['A', 'B'])"
   ]
  },
  {
   "cell_type": "markdown",
   "id": "baade8c1",
   "metadata": {},
   "source": [
    "#### 1. 정규성 검정"
   ]
  },
  {
   "cell_type": "markdown",
   "id": "af321026",
   "metadata": {},
   "source": [
    "1) 공급자 A의 제품\n",
    "\n",
    "- H0 : 공급자 A의 제품은 정규분포를 따른다.\n",
    "- H1 : 공급자 A의 제품은 정규분포를 따르지 않는다.\n",
    "\n",
    "(유의수준은 0.05라고 가정)"
   ]
  },
  {
   "cell_type": "code",
   "execution_count": 18,
   "id": "23a0ed43",
   "metadata": {
    "scrolled": true
   },
   "outputs": [
    {
     "name": "stdout",
     "output_type": "stream",
     "text": [
      "statistic = 0.8425756096839905, p-value=0.08004552870988846\n"
     ]
    }
   ],
   "source": [
    "statistic, p = stats.shapiro(df['A'])\n",
    "print(\"statistic = {}, p-value={}\".format(statistic, p))"
   ]
  },
  {
   "cell_type": "markdown",
   "id": "a156026c",
   "metadata": {},
   "source": [
    "- p-value가 0.08으로 0.05보다 크므로 귀무가설 채택\n",
    "- 공급자 A의 제품은 정규분포를 따른다."
   ]
  },
  {
   "cell_type": "markdown",
   "id": "c7718a70",
   "metadata": {},
   "source": [
    "2) 공급자 B의 제품\n",
    "\n",
    "- H0 : 공급자 B의 제품은 정규분포를 따른다.\n",
    "- H1 : 공급자 B의 제품은 정규분포를 따르지 않는다.\n",
    "\n",
    "(유의수준은 0.05라고 가정)"
   ]
  },
  {
   "cell_type": "code",
   "execution_count": 19,
   "id": "72aa8b7d",
   "metadata": {},
   "outputs": [
    {
     "name": "stdout",
     "output_type": "stream",
     "text": [
      "statistic = 0.7734811902046204, p-value=0.014793740585446358\n"
     ]
    }
   ],
   "source": [
    "statistic, p = stats.shapiro(df['B'])\n",
    "print(\"statistic = {}, p-value={}\".format(statistic, p))"
   ]
  },
  {
   "cell_type": "markdown",
   "id": "b660c91d",
   "metadata": {},
   "source": [
    "- p-value가 0.014으로 0.05보다 작으므로 대립가설 채택\n",
    "- 공급자 B의 제품은 정규분포를 따르지 않는다."
   ]
  },
  {
   "cell_type": "markdown",
   "id": "dd157316",
   "metadata": {},
   "source": [
    "!!공급자 B의 제품은 정규분포를 따르지 않지만 정규분포를 따른다고 가정하고 등분산성 검정!!"
   ]
  },
  {
   "cell_type": "markdown",
   "id": "3d8443b9",
   "metadata": {},
   "source": [
    "- H0 : A 제품은과 B제품은 등분산성을 따른다.\n",
    "- H1 : A 제품은과 B제품은 등분산성을 따르지 않는다."
   ]
  },
  {
   "cell_type": "markdown",
   "id": "d34bbc66",
   "metadata": {},
   "source": [
    "#### 2. 등분산성 검정"
   ]
  },
  {
   "cell_type": "code",
   "execution_count": 20,
   "id": "574ed3b3",
   "metadata": {},
   "outputs": [
    {
     "data": {
      "text/plain": [
       "BartlettResult(statistic=0.42411436523132123, pvalue=0.5148911629500761)"
      ]
     },
     "execution_count": 20,
     "metadata": {},
     "output_type": "execute_result"
    }
   ],
   "source": [
    "stats.bartlett(df['A'], df['B'])"
   ]
  },
  {
   "cell_type": "markdown",
   "id": "7f214fe6",
   "metadata": {},
   "source": [
    "- p-value가 0.51으로 0.05보다 크므로 등분산성을 따르는 것을 알 수 있다."
   ]
  },
  {
   "cell_type": "markdown",
   "id": "3b980648",
   "metadata": {},
   "source": [
    "#### 3. 2-Sample t-test"
   ]
  },
  {
   "cell_type": "markdown",
   "id": "9b2c1732",
   "metadata": {},
   "source": [
    "- H0 : A 제품과 B제품은 같다.\n",
    "- H1 : A 제품과 B제품은 같지 않다."
   ]
  },
  {
   "cell_type": "markdown",
   "id": "795ce63e",
   "metadata": {},
   "source": [
    "(유의수준은 0.05라고 가정)"
   ]
  },
  {
   "cell_type": "code",
   "execution_count": 21,
   "id": "41e1da22",
   "metadata": {},
   "outputs": [
    {
     "name": "stdout",
     "output_type": "stream",
     "text": [
      "2-Sample t-test\n",
      "t: 1.7\n",
      "p: 0.111\n"
     ]
    }
   ],
   "source": [
    "t_result = stats.ttest_ind(df['A'], df['B'])\n",
    "t, p = t_result.statistic.round(3), t_result.pvalue.round(3)\n",
    "\n",
    "print('2-Sample t-test')\n",
    "print('t: {}'.format(t))\n",
    "print('p: {}'.format(p))"
   ]
  },
  {
   "cell_type": "markdown",
   "id": "29be64d2",
   "metadata": {},
   "source": [
    "- 유의수준 5%에서 검정결과 p값이 0.111이고 0.05보다 크므로 귀무가설을 채택한다. A제품과 B제품은 같다."
   ]
  },
  {
   "cell_type": "markdown",
   "id": "71aa7f8b",
   "metadata": {},
   "source": [
    "# 302 page"
   ]
  },
  {
   "cell_type": "markdown",
   "id": "5a1d5216",
   "metadata": {},
   "source": [
    "- H0 : 회사원들의 성적은 학원가기 전후가 같다.\n",
    "- H1 : 회사원들의 성적은 학원가기 전후가 차이가 있다."
   ]
  },
  {
   "cell_type": "markdown",
   "id": "77af3195",
   "metadata": {},
   "source": [
    "(유의수준은 0.05라고 가정)"
   ]
  },
  {
   "cell_type": "code",
   "execution_count": 23,
   "id": "31dd88ac",
   "metadata": {},
   "outputs": [],
   "source": [
    "df1 = pd.DataFrame({'before' : [720, 589, 780, 648, 720, 589, 780, 648, 780, 648]})\n",
    "df2 = pd.DataFrame({'After' : [710, 580, 787, 712, 750, 600, 782, 670, 790, 680]})"
   ]
  },
  {
   "cell_type": "code",
   "execution_count": 24,
   "id": "9fcca20e",
   "metadata": {},
   "outputs": [
    {
     "name": "stdout",
     "output_type": "stream",
     "text": [
      "Paired t-test\n",
      "t: [-2.266]\n",
      "p: [0.05]\n"
     ]
    }
   ],
   "source": [
    "t_result = stats.ttest_rel(df1, df2)\n",
    "\n",
    "t, p = t_result.statistic.round(3), t_result.pvalue.round(3)\n",
    "\n",
    "print('Paired t-test')\n",
    "print('t: {}'.format(t))\n",
    "print('p: {}'.format(p))"
   ]
  },
  {
   "cell_type": "markdown",
   "id": "18a9d7df",
   "metadata": {},
   "source": [
    "- p-value가 0.05이므로 귀무가설을 기각하고 대립가설을 채택한다. 회사원들의 성적은 학원가기 전후가 차이가 있으며 학원을 가고 난 후 성적이 더 오른다고 볼 수 있다. "
   ]
  },
  {
   "cell_type": "markdown",
   "id": "4410db3d",
   "metadata": {},
   "source": [
    "# 307 page"
   ]
  },
  {
   "cell_type": "markdown",
   "id": "b9041941",
   "metadata": {},
   "source": [
    "- H0 : 동전이 정상적이다.\n",
    "- H1 : 동전이 비정상적이다. "
   ]
  },
  {
   "cell_type": "markdown",
   "id": "afe0ae54",
   "metadata": {},
   "source": [
    "(유의수준은 0.05라고 가정)"
   ]
  },
  {
   "cell_type": "code",
   "execution_count": 25,
   "id": "56c072e8",
   "metadata": {},
   "outputs": [],
   "source": [
    "count = 40\n",
    "n_obs = 100\n",
    "value = 0.5\n",
    "\n",
    "stat,pval = proportions_ztest(count, n_obs, value)"
   ]
  },
  {
   "cell_type": "code",
   "execution_count": 26,
   "id": "dfbf3d3c",
   "metadata": {},
   "outputs": [
    {
     "name": "stdout",
     "output_type": "stream",
     "text": [
      "1 proportions test\n",
      "z:-2.041\n",
      "p:0.041\n"
     ]
    }
   ],
   "source": [
    "print(\"1 proportions test\")\n",
    "print('z:{0:0.3f}'.format(stat))\n",
    "print('p:{0:0.3f}'.format(pval))"
   ]
  },
  {
   "cell_type": "markdown",
   "id": "7e095b8b",
   "metadata": {},
   "source": [
    "- p-value가 0.041으로 0.05보다 작으므로 귀무가설을 기각하고 대립가설을 채택한다. 해당 동전은 비정상적이다."
   ]
  },
  {
   "cell_type": "markdown",
   "id": "9b36e5eb",
   "metadata": {},
   "source": [
    "# 310 page"
   ]
  },
  {
   "cell_type": "markdown",
   "id": "f46bb3fc",
   "metadata": {},
   "source": [
    "- H0 : 두 공장의 불량률이 같다.\n",
    "- H1 : 두 공장의 불량률이 다르다."
   ]
  },
  {
   "cell_type": "code",
   "execution_count": 29,
   "id": "a9d9b62e",
   "metadata": {},
   "outputs": [],
   "source": [
    "count = np.array([14, 5])\n",
    "nobs = np.array([1200, 1200])\n",
    "\n",
    "stat, pval = proportions_ztest(count, nobs)"
   ]
  },
  {
   "cell_type": "code",
   "execution_count": 30,
   "id": "6c4a79cf",
   "metadata": {},
   "outputs": [
    {
     "name": "stdout",
     "output_type": "stream",
     "text": [
      "2 proportions test\n",
      "z:2.073\n",
      "p:0.038\n"
     ]
    }
   ],
   "source": [
    "print(\"2 proportions test\")\n",
    "print('z:{0:0.3f}'.format(stat))\n",
    "print('p:{0:0.3f}'.format(pval))"
   ]
  },
  {
   "cell_type": "markdown",
   "id": "6873cf44",
   "metadata": {},
   "source": [
    "- p-value가 0.038으로 0.05보다 작으므로 귀무가설을 기각하고 대립가설을 채택한다. 두 공장의 불량률이 다르다고 말할 수 있다."
   ]
  },
  {
   "cell_type": "markdown",
   "id": "cd777812",
   "metadata": {},
   "source": [
    "# 318 page"
   ]
  },
  {
   "cell_type": "markdown",
   "id": "590f04b0",
   "metadata": {},
   "source": [
    "- H0 : 각 제품에 대해 이미지에 차이가 없다. (동일하다)\n",
    "- H1 : 각 제품에 대해 이미지에 차이가 있다. (다르다)"
   ]
  },
  {
   "cell_type": "markdown",
   "id": "d774821b",
   "metadata": {},
   "source": [
    "(유의수준은 0.05라고 가정)"
   ]
  },
  {
   "cell_type": "code",
   "execution_count": 31,
   "id": "ee867d6b",
   "metadata": {},
   "outputs": [
    {
     "name": "stdout",
     "output_type": "stream",
     "text": [
      "chi-square test\n",
      "chisq : 98.274\n",
      "p: 0.000\n",
      "degree of freedom : 30\n",
      "expected value: \n",
      "[[11.004  8.21   5.24   3.843  1.921  9.782]\n",
      " [ 8.528  6.362  4.061  2.978  1.489  7.581]\n",
      " [10.454  7.799  4.978  3.651  1.825  9.293]\n",
      " [ 8.253  6.157  3.93   2.882  1.441  7.336]\n",
      " [ 7.978  5.952  3.799  2.786  1.393  7.092]\n",
      " [ 8.803  6.568  4.192  3.074  1.537  7.825]\n",
      " [ 7.978  5.952  3.799  2.786  1.393  7.092]]\n"
     ]
    }
   ],
   "source": [
    "df = pd.DataFrame({'A/S' : [18,8,4,4,3,3],\n",
    "                  '가격' : [1,2,1,1,1,25],\n",
    "                  '성능' : [8,14,3,2,3,8],\n",
    "                  '확장성' : [7,5,4,3,1,10],\n",
    "                  '디자인' : [10,5,9,2,1,2],\n",
    "                  '안정성': [9,9,5,7,1,1],\n",
    "                  '기능성' : [10,4,4,3,1,7]})\n",
    "\n",
    "\n",
    "chi, pval, dof, expected = stats.chi2_contingency(df.T)\n",
    "\n",
    "print('chi-square test')\n",
    "print('chisq : {0:0.3f}'.format(chi))\n",
    "print('p: {0:0.3f}'.format(pval))\n",
    "print('degree of freedom : {}'.format(dof))\n",
    "print('expected value: \\n{}'.format(expected.round(3)))"
   ]
  },
  {
   "cell_type": "markdown",
   "id": "c8f08b7d",
   "metadata": {},
   "source": [
    "- p-value가 0으로 0.05보다 작으므로 귀무가설을 기각하고 대립가설을 채택한다. 각 제품별로 이미지에 차이가 있다고 말할 수 있다."
   ]
  },
  {
   "cell_type": "markdown",
   "id": "9334d75b",
   "metadata": {},
   "source": [
    "# 325 page"
   ]
  },
  {
   "cell_type": "code",
   "execution_count": 62,
   "id": "57227ad2",
   "metadata": {},
   "outputs": [],
   "source": [
    "df = pd.read_csv('/home/piai/test/1. Big_Data_분석기초/ANOVA.csv', encoding='cp949')"
   ]
  },
  {
   "cell_type": "code",
   "execution_count": 63,
   "id": "1ec24f6b",
   "metadata": {
    "scrolled": false
   },
   "outputs": [
    {
     "data": {
      "text/html": [
       "<div>\n",
       "<style scoped>\n",
       "    .dataframe tbody tr th:only-of-type {\n",
       "        vertical-align: middle;\n",
       "    }\n",
       "\n",
       "    .dataframe tbody tr th {\n",
       "        vertical-align: top;\n",
       "    }\n",
       "\n",
       "    .dataframe thead th {\n",
       "        text-align: right;\n",
       "    }\n",
       "</style>\n",
       "<table border=\"1\" class=\"dataframe\">\n",
       "  <thead>\n",
       "    <tr style=\"text-align: right;\">\n",
       "      <th></th>\n",
       "      <th>time</th>\n",
       "      <th>charge</th>\n",
       "      <th>gangjong</th>\n",
       "      <th>type</th>\n",
       "    </tr>\n",
       "  </thead>\n",
       "  <tbody>\n",
       "    <tr>\n",
       "      <th>0</th>\n",
       "      <td>32.2</td>\n",
       "      <td>A</td>\n",
       "      <td>a</td>\n",
       "      <td>a</td>\n",
       "    </tr>\n",
       "    <tr>\n",
       "      <th>1</th>\n",
       "      <td>30.4</td>\n",
       "      <td>B</td>\n",
       "      <td>a</td>\n",
       "      <td>a</td>\n",
       "    </tr>\n",
       "    <tr>\n",
       "      <th>2</th>\n",
       "      <td>33.6</td>\n",
       "      <td>C</td>\n",
       "      <td>a</td>\n",
       "      <td>a</td>\n",
       "    </tr>\n",
       "    <tr>\n",
       "      <th>3</th>\n",
       "      <td>36.4</td>\n",
       "      <td>D</td>\n",
       "      <td>a</td>\n",
       "      <td>a</td>\n",
       "    </tr>\n",
       "    <tr>\n",
       "      <th>4</th>\n",
       "      <td>33.9</td>\n",
       "      <td>E</td>\n",
       "      <td>a</td>\n",
       "      <td>a</td>\n",
       "    </tr>\n",
       "  </tbody>\n",
       "</table>\n",
       "</div>"
      ],
      "text/plain": [
       "   time charge gangjong type\n",
       "0  32.2      A        a    a\n",
       "1  30.4      B        a    a\n",
       "2  33.6      C        a    a\n",
       "3  36.4      D        a    a\n",
       "4  33.9      E        a    a"
      ]
     },
     "execution_count": 63,
     "metadata": {},
     "output_type": "execute_result"
    }
   ],
   "source": [
    "df.head()"
   ]
  },
  {
   "cell_type": "markdown",
   "id": "2e1a2a14",
   "metadata": {},
   "source": [
    "### 1) 강종별"
   ]
  },
  {
   "cell_type": "code",
   "execution_count": 64,
   "id": "71b8c5d0",
   "metadata": {},
   "outputs": [
    {
     "data": {
      "text/plain": [
       "a    6\n",
       "b    6\n",
       "c    6\n",
       "d    6\n",
       "Name: gangjong, dtype: int64"
      ]
     },
     "execution_count": 64,
     "metadata": {},
     "output_type": "execute_result"
    }
   ],
   "source": [
    "df['gangjong'].value_counts()"
   ]
  },
  {
   "cell_type": "code",
   "execution_count": 65,
   "id": "177659a5",
   "metadata": {},
   "outputs": [],
   "source": [
    "new_df = pd.DataFrame()"
   ]
  },
  {
   "cell_type": "code",
   "execution_count": 66,
   "id": "2dc2b137",
   "metadata": {},
   "outputs": [],
   "source": [
    "new_df['a'] = list(df[df['gangjong'] == 'a'].time.values)\n",
    "new_df['b'] = list(df[df['gangjong'] == 'b'].time.values)\n",
    "new_df['c'] = list(df[df['gangjong'] == 'c'].time.values)\n",
    "new_df['d'] = list(df[df['gangjong'] == 'd'].time.values)"
   ]
  },
  {
   "cell_type": "code",
   "execution_count": 68,
   "id": "450adbaa",
   "metadata": {},
   "outputs": [
    {
     "data": {
      "text/html": [
       "<div>\n",
       "<style scoped>\n",
       "    .dataframe tbody tr th:only-of-type {\n",
       "        vertical-align: middle;\n",
       "    }\n",
       "\n",
       "    .dataframe tbody tr th {\n",
       "        vertical-align: top;\n",
       "    }\n",
       "\n",
       "    .dataframe thead th {\n",
       "        text-align: right;\n",
       "    }\n",
       "</style>\n",
       "<table border=\"1\" class=\"dataframe\">\n",
       "  <thead>\n",
       "    <tr style=\"text-align: right;\">\n",
       "      <th></th>\n",
       "      <th>a</th>\n",
       "      <th>b</th>\n",
       "      <th>c</th>\n",
       "      <th>d</th>\n",
       "    </tr>\n",
       "  </thead>\n",
       "  <tbody>\n",
       "    <tr>\n",
       "      <th>0</th>\n",
       "      <td>32.2</td>\n",
       "      <td>33.1</td>\n",
       "      <td>32.6</td>\n",
       "      <td>26.7</td>\n",
       "    </tr>\n",
       "    <tr>\n",
       "      <th>1</th>\n",
       "      <td>30.4</td>\n",
       "      <td>29.9</td>\n",
       "      <td>32.7</td>\n",
       "      <td>28.5</td>\n",
       "    </tr>\n",
       "    <tr>\n",
       "      <th>2</th>\n",
       "      <td>33.6</td>\n",
       "      <td>31.7</td>\n",
       "      <td>29.3</td>\n",
       "      <td>30.9</td>\n",
       "    </tr>\n",
       "    <tr>\n",
       "      <th>3</th>\n",
       "      <td>36.4</td>\n",
       "      <td>27.5</td>\n",
       "      <td>25.9</td>\n",
       "      <td>26.2</td>\n",
       "    </tr>\n",
       "    <tr>\n",
       "      <th>4</th>\n",
       "      <td>33.9</td>\n",
       "      <td>34.0</td>\n",
       "      <td>31.1</td>\n",
       "      <td>32.3</td>\n",
       "    </tr>\n",
       "    <tr>\n",
       "      <th>5</th>\n",
       "      <td>34.9</td>\n",
       "      <td>30.7</td>\n",
       "      <td>23.8</td>\n",
       "      <td>23.7</td>\n",
       "    </tr>\n",
       "  </tbody>\n",
       "</table>\n",
       "</div>"
      ],
      "text/plain": [
       "      a     b     c     d\n",
       "0  32.2  33.1  32.6  26.7\n",
       "1  30.4  29.9  32.7  28.5\n",
       "2  33.6  31.7  29.3  30.9\n",
       "3  36.4  27.5  25.9  26.2\n",
       "4  33.9  34.0  31.1  32.3\n",
       "5  34.9  30.7  23.8  23.7"
      ]
     },
     "execution_count": 68,
     "metadata": {},
     "output_type": "execute_result"
    }
   ],
   "source": [
    "new_df"
   ]
  },
  {
   "cell_type": "code",
   "execution_count": 69,
   "id": "041798b6",
   "metadata": {},
   "outputs": [
    {
     "data": {
      "text/plain": [
       "<AxesSubplot:>"
      ]
     },
     "execution_count": 69,
     "metadata": {},
     "output_type": "execute_result"
    },
    {
     "data": {
      "image/png": "[encoded data removed]",
      "text/plain": [
       "<Figure size 432x288 with 1 Axes>"
      ]
     },
     "metadata": {
      "needs_background": "light"
     },
     "output_type": "display_data"
    }
   ],
   "source": [
    "new_df.boxplot(['a', 'b', 'c', 'd'])"
   ]
  },
  {
   "cell_type": "markdown",
   "id": "67d2e12c",
   "metadata": {},
   "source": [
    "#### 1-1) 'a' , 'b', 'c', 'd' 정규성 검정"
   ]
  },
  {
   "cell_type": "markdown",
   "id": "c44299b7",
   "metadata": {},
   "source": [
    "- H0 : (a, b, c, d)는 정규분포를 따른다. \n",
    "- H1 : (a, b, c, d)는 정규분포를 따르지 않는다."
   ]
  },
  {
   "cell_type": "markdown",
   "id": "42007b93",
   "metadata": {},
   "source": [
    "(유의수준은 0.05라고 가정)"
   ]
  },
  {
   "cell_type": "code",
   "execution_count": 53,
   "id": "134500bf",
   "metadata": {},
   "outputs": [
    {
     "name": "stdout",
     "output_type": "stream",
     "text": [
      "statistic=0.9879404902458191, p-value=0.9835584163665771\n"
     ]
    }
   ],
   "source": [
    "statistic, p = stats.shapiro(new_df['a'])\n",
    "print(\"statistic={}, p-value={}\".format(statistic,p))"
   ]
  },
  {
   "cell_type": "code",
   "execution_count": 54,
   "id": "89281831",
   "metadata": {},
   "outputs": [
    {
     "name": "stdout",
     "output_type": "stream",
     "text": [
      "statistic=0.9769707918167114, p-value=0.9355478286743164\n"
     ]
    }
   ],
   "source": [
    "statistic, p = stats.shapiro(new_df['b'])\n",
    "print(\"statistic={}, p-value={}\".format(statistic,p))"
   ]
  },
  {
   "cell_type": "code",
   "execution_count": 55,
   "id": "feef91d8",
   "metadata": {},
   "outputs": [
    {
     "name": "stdout",
     "output_type": "stream",
     "text": [
      "statistic=0.8929418921470642, p-value=0.33389002084732056\n"
     ]
    }
   ],
   "source": [
    "statistic, p = stats.shapiro(new_df['c'])\n",
    "print(\"statistic={}, p-value={}\".format(statistic,p))"
   ]
  },
  {
   "cell_type": "code",
   "execution_count": 70,
   "id": "6dadeb64",
   "metadata": {},
   "outputs": [
    {
     "name": "stdout",
     "output_type": "stream",
     "text": [
      "statistic=0.9713903665542603, p-value=0.9016408920288086\n"
     ]
    }
   ],
   "source": [
    "statistic, p = stats.shapiro(new_df['d'])\n",
    "print(\"statistic={}, p-value={}\".format(statistic,p))"
   ]
  },
  {
   "cell_type": "markdown",
   "id": "e738e223",
   "metadata": {},
   "source": [
    "- a, b, c, d 모두 p-value가 0.05보다 크므로 귀무가설을 채택한다. a, b, c, d 모두 정규분포를 따른다."
   ]
  },
  {
   "cell_type": "markdown",
   "id": "b75319e3",
   "metadata": {},
   "source": [
    "#### 1-2) 등분산성 검정"
   ]
  },
  {
   "cell_type": "markdown",
   "id": "92f03f62",
   "metadata": {},
   "source": [
    "- a, b, c, d는 등분산성을 따른다.\n",
    "- a, b, c, d는 등분산성을 따르지 않는다."
   ]
  },
  {
   "cell_type": "markdown",
   "id": "37d5e1fd",
   "metadata": {},
   "source": [
    "(유의수준은 0.05라고 가정)"
   ]
  },
  {
   "cell_type": "code",
   "execution_count": 71,
   "id": "f24373cc",
   "metadata": {},
   "outputs": [
    {
     "data": {
      "text/plain": [
       "LeveneResult(statistic=0.9417495009041227, pvalue=0.4390899931524723)"
      ]
     },
     "execution_count": 71,
     "metadata": {},
     "output_type": "execute_result"
    }
   ],
   "source": [
    "stats.levene(new_df['a'], new_df['b'], new_df['c'], new_df['d'])"
   ]
  },
  {
   "cell_type": "markdown",
   "id": "728d872e",
   "metadata": {},
   "source": [
    "- p-value가 0.05보다 크므로 귀무가설을 채택한다. 따라서 a, b, c, d는 등분산성을 따른다."
   ]
  },
  {
   "cell_type": "markdown",
   "id": "f1d73cd2",
   "metadata": {},
   "source": [
    "#### 1-3) ANOVA"
   ]
  },
  {
   "cell_type": "markdown",
   "id": "7fca9157",
   "metadata": {},
   "source": [
    "- 강종에 따라 2차정련 시간에 차이가 없다. (동일하다)\n",
    "- 강종에 따라 2차정련 시간에 차이가 있다. (다르다)"
   ]
  },
  {
   "cell_type": "markdown",
   "id": "3d8c7cb3",
   "metadata": {},
   "source": [
    "(유의수준은 0.05라고 가정)"
   ]
  },
  {
   "cell_type": "code",
   "execution_count": 74,
   "id": "fc2a2055",
   "metadata": {},
   "outputs": [
    {
     "name": "stdout",
     "output_type": "stream",
     "text": [
      "One-Way\n",
      "F 통계량 : 4.172\n",
      "p-value : 0.019\n"
     ]
    }
   ],
   "source": [
    "f_result = stats.f_oneway(new_df['a'], new_df['b'], new_df['c'], new_df['d'])\n",
    "\n",
    "f, p = f_result.statistic.round(3), f_result.pvalue.round(3)\n",
    "\n",
    "print(\"One-Way\")\n",
    "print('F 통계량 : {}'.format(f))\n",
    "print('p-value : {}'.format(p))"
   ]
  },
  {
   "cell_type": "markdown",
   "id": "a537fbf3",
   "metadata": {},
   "source": [
    "- p-value가 0.019로 0.05보다 작으므로 귀무가설을 기각하고 대립가설을 채택한다. 강종에 따라 2차정련 시간 평균에 차이가 있다."
   ]
  },
  {
   "cell_type": "markdown",
   "id": "f0988842",
   "metadata": {},
   "source": [
    "### 2) 강종별"
   ]
  },
  {
   "cell_type": "code",
   "execution_count": 76,
   "id": "242d5a4c",
   "metadata": {
    "scrolled": true
   },
   "outputs": [
    {
     "data": {
      "text/plain": [
       "a    12\n",
       "b    12\n",
       "Name: type, dtype: int64"
      ]
     },
     "execution_count": 76,
     "metadata": {},
     "output_type": "execute_result"
    }
   ],
   "source": [
    "df['type'].value_counts()"
   ]
  },
  {
   "cell_type": "code",
   "execution_count": 77,
   "id": "2210490c",
   "metadata": {},
   "outputs": [],
   "source": [
    "new_df = pd.DataFrame()"
   ]
  },
  {
   "cell_type": "code",
   "execution_count": 78,
   "id": "db232b1b",
   "metadata": {},
   "outputs": [],
   "source": [
    "new_df['a'] = list(df[df['type'] == 'a'].time.values)\n",
    "new_df['b'] = list(df[df['type'] == 'b'].time.values)"
   ]
  },
  {
   "cell_type": "code",
   "execution_count": 79,
   "id": "30a726c1",
   "metadata": {},
   "outputs": [
    {
     "data": {
      "text/html": [
       "<div>\n",
       "<style scoped>\n",
       "    .dataframe tbody tr th:only-of-type {\n",
       "        vertical-align: middle;\n",
       "    }\n",
       "\n",
       "    .dataframe tbody tr th {\n",
       "        vertical-align: top;\n",
       "    }\n",
       "\n",
       "    .dataframe thead th {\n",
       "        text-align: right;\n",
       "    }\n",
       "</style>\n",
       "<table border=\"1\" class=\"dataframe\">\n",
       "  <thead>\n",
       "    <tr style=\"text-align: right;\">\n",
       "      <th></th>\n",
       "      <th>a</th>\n",
       "      <th>b</th>\n",
       "    </tr>\n",
       "  </thead>\n",
       "  <tbody>\n",
       "    <tr>\n",
       "      <th>0</th>\n",
       "      <td>32.2</td>\n",
       "      <td>32.6</td>\n",
       "    </tr>\n",
       "    <tr>\n",
       "      <th>1</th>\n",
       "      <td>30.4</td>\n",
       "      <td>32.7</td>\n",
       "    </tr>\n",
       "    <tr>\n",
       "      <th>2</th>\n",
       "      <td>33.6</td>\n",
       "      <td>29.3</td>\n",
       "    </tr>\n",
       "    <tr>\n",
       "      <th>3</th>\n",
       "      <td>36.4</td>\n",
       "      <td>25.9</td>\n",
       "    </tr>\n",
       "    <tr>\n",
       "      <th>4</th>\n",
       "      <td>33.9</td>\n",
       "      <td>31.1</td>\n",
       "    </tr>\n",
       "    <tr>\n",
       "      <th>5</th>\n",
       "      <td>34.9</td>\n",
       "      <td>23.8</td>\n",
       "    </tr>\n",
       "    <tr>\n",
       "      <th>6</th>\n",
       "      <td>33.1</td>\n",
       "      <td>26.7</td>\n",
       "    </tr>\n",
       "    <tr>\n",
       "      <th>7</th>\n",
       "      <td>29.9</td>\n",
       "      <td>28.5</td>\n",
       "    </tr>\n",
       "    <tr>\n",
       "      <th>8</th>\n",
       "      <td>31.7</td>\n",
       "      <td>30.9</td>\n",
       "    </tr>\n",
       "    <tr>\n",
       "      <th>9</th>\n",
       "      <td>27.5</td>\n",
       "      <td>26.2</td>\n",
       "    </tr>\n",
       "    <tr>\n",
       "      <th>10</th>\n",
       "      <td>34.0</td>\n",
       "      <td>32.3</td>\n",
       "    </tr>\n",
       "    <tr>\n",
       "      <th>11</th>\n",
       "      <td>30.7</td>\n",
       "      <td>23.7</td>\n",
       "    </tr>\n",
       "  </tbody>\n",
       "</table>\n",
       "</div>"
      ],
      "text/plain": [
       "       a     b\n",
       "0   32.2  32.6\n",
       "1   30.4  32.7\n",
       "2   33.6  29.3\n",
       "3   36.4  25.9\n",
       "4   33.9  31.1\n",
       "5   34.9  23.8\n",
       "6   33.1  26.7\n",
       "7   29.9  28.5\n",
       "8   31.7  30.9\n",
       "9   27.5  26.2\n",
       "10  34.0  32.3\n",
       "11  30.7  23.7"
      ]
     },
     "execution_count": 79,
     "metadata": {},
     "output_type": "execute_result"
    }
   ],
   "source": [
    "new_df"
   ]
  },
  {
   "cell_type": "code",
   "execution_count": 80,
   "id": "e571d629",
   "metadata": {},
   "outputs": [
    {
     "data": {
      "text/plain": [
       "<AxesSubplot:>"
      ]
     },
     "execution_count": 80,
     "metadata": {},
     "output_type": "execute_result"
    },
    {
     "data": {
      "image/png": "[encoded data removed]",
      "text/plain": [
       "<Figure size 432x288 with 1 Axes>"
      ]
     },
     "metadata": {
      "needs_background": "light"
     },
     "output_type": "display_data"
    }
   ],
   "source": [
    "new_df.boxplot(['a', 'b'])"
   ]
  },
  {
   "cell_type": "markdown",
   "id": "eb7e2c27",
   "metadata": {},
   "source": [
    "#### 2-1) 'a' , 'b' 정규성 검정"
   ]
  },
  {
   "cell_type": "markdown",
   "id": "3043df7e",
   "metadata": {},
   "source": [
    "- H0 : (a, b)는 정규분포를 따른다. \n",
    "- H1 : (a, b)는 정규분포를 따르지 않는다."
   ]
  },
  {
   "cell_type": "markdown",
   "id": "caa37f9c",
   "metadata": {},
   "source": [
    "(유의수준은 0.05라고 가정)"
   ]
  },
  {
   "cell_type": "code",
   "execution_count": 81,
   "id": "494819fb",
   "metadata": {},
   "outputs": [
    {
     "name": "stdout",
     "output_type": "stream",
     "text": [
      "statistic=0.9821396470069885, p-value=0.9907689690589905\n"
     ]
    }
   ],
   "source": [
    "statistic, p = stats.shapiro(new_df['a'])\n",
    "print(\"statistic={}, p-value={}\".format(statistic,p))"
   ]
  },
  {
   "cell_type": "code",
   "execution_count": 82,
   "id": "daf568a9",
   "metadata": {},
   "outputs": [
    {
     "name": "stdout",
     "output_type": "stream",
     "text": [
      "statistic=0.9098271131515503, p-value=0.2122616022825241\n"
     ]
    }
   ],
   "source": [
    "statistic, p = stats.shapiro(new_df['b'])\n",
    "print(\"statistic={}, p-value={}\".format(statistic,p))"
   ]
  },
  {
   "cell_type": "markdown",
   "id": "4db17318",
   "metadata": {},
   "source": [
    "- a, b 모두 p-value가 0.05보다 크므로 귀무가설을 채택한다. a, b 모두 정규분포를 따른다."
   ]
  },
  {
   "cell_type": "markdown",
   "id": "dea5d7ff",
   "metadata": {},
   "source": [
    "#### 2-2) 등분산성 검정"
   ]
  },
  {
   "cell_type": "markdown",
   "id": "4ebef3f7",
   "metadata": {},
   "source": [
    "- a, b는 등분산성을 따른다.\n",
    "- a, b는 등분산성을 따르지 않는다."
   ]
  },
  {
   "cell_type": "markdown",
   "id": "e37fb251",
   "metadata": {},
   "source": [
    "(유의수준은 0.05라고 가정)"
   ]
  },
  {
   "cell_type": "code",
   "execution_count": 84,
   "id": "dcea5882",
   "metadata": {},
   "outputs": [
    {
     "data": {
      "text/plain": [
       "LeveneResult(statistic=2.1557191195451235, pvalue=0.1561933555382328)"
      ]
     },
     "execution_count": 84,
     "metadata": {},
     "output_type": "execute_result"
    }
   ],
   "source": [
    "stats.levene(new_df['a'], new_df['b'])"
   ]
  },
  {
   "cell_type": "markdown",
   "id": "a1b59654",
   "metadata": {},
   "source": [
    "- p-value가 0.05보다 크므로 귀무가설을 채택한다. 따라서 a, b는 등분산성을 따른다."
   ]
  },
  {
   "cell_type": "markdown",
   "id": "f3758dfe",
   "metadata": {},
   "source": [
    "#### 2-3) ANOVA"
   ]
  },
  {
   "cell_type": "markdown",
   "id": "0887d75c",
   "metadata": {},
   "source": [
    "- type에 따라 2차정련 시간에 차이가 없다. (동일하다)\n",
    "- type에 따라 2차정련 시간에 차이가 있다. (다르다)"
   ]
  },
  {
   "cell_type": "markdown",
   "id": "b32bfdff",
   "metadata": {},
   "source": [
    "(유의수준은 0.05라고 가정)"
   ]
  },
  {
   "cell_type": "code",
   "execution_count": 85,
   "id": "9e6f6661",
   "metadata": {},
   "outputs": [
    {
     "name": "stdout",
     "output_type": "stream",
     "text": [
      "One-Way\n",
      "F 통계량 : 9.654\n",
      "p-value : 0.005\n"
     ]
    }
   ],
   "source": [
    "f_result = stats.f_oneway(new_df['a'], new_df['b'])\n",
    "\n",
    "f, p = f_result.statistic.round(3), f_result.pvalue.round(3)\n",
    "\n",
    "print(\"One-Way\")\n",
    "print('F 통계량 : {}'.format(f))\n",
    "print('p-value : {}'.format(p))"
   ]
  },
  {
   "cell_type": "markdown",
   "id": "a0ce840a",
   "metadata": {},
   "source": [
    "- p-value가 0.005로 0.05보다 작으므로 귀무가설을 기각하고 대립가설을 채택한다. type에 따라 2차정련 시간 평균에 차이가 있다."
   ]
  },
  {
   "cell_type": "markdown",
   "id": "81f041af",
   "metadata": {},
   "source": [
    "# 330 page"
   ]
  },
  {
   "cell_type": "markdown",
   "id": "b8ef28d6",
   "metadata": {},
   "source": [
    "- H0 : 초코칩의 강도와 반죽온도간에 상관계수는 0이다.\n",
    "- H1 : 초코칩의 강도와 반죽온도간에 상관계수는 0이 아니다."
   ]
  },
  {
   "cell_type": "markdown",
   "id": "fde2ad90",
   "metadata": {},
   "source": [
    "(유의수준은 0.05라고 가정)"
   ]
  },
  {
   "cell_type": "code",
   "execution_count": 86,
   "id": "84774e34",
   "metadata": {},
   "outputs": [],
   "source": [
    "df1 = [37.6, 38.6, 37.2, 36.4, 38.6, 39, 37.2, 36.1, 35.9, 37.1, 36.9,\n",
    "      37.5, 36.3, 38.1, 39, 36.9, 36.8, 37.6, 33, 33.5]\n",
    "df2 = [14, 15, 14, 16, 17, 14, 17, 16, 15, 16, 14, 16, \n",
    "      18, 13, 15, 17, 14, 16, 20, 21]"
   ]
  },
  {
   "cell_type": "code",
   "execution_count": 87,
   "id": "8ea08721",
   "metadata": {},
   "outputs": [],
   "source": [
    "corr, pval = stats.pearsonr(df1, df2)"
   ]
  },
  {
   "cell_type": "code",
   "execution_count": 88,
   "id": "57282180",
   "metadata": {},
   "outputs": [
    {
     "name": "stdout",
     "output_type": "stream",
     "text": [
      "Correlation Analysis\n",
      "corr:-0.723\n",
      "p-value:0.000\n"
     ]
    }
   ],
   "source": [
    "print(\"Correlation Analysis\")\n",
    "print('corr:{0:0.3f}'.format(corr))\n",
    "print('p-value:{0:0.3f}'.format(pval))"
   ]
  },
  {
   "cell_type": "markdown",
   "id": "670ac6a1",
   "metadata": {},
   "source": [
    "- p-value가 0.00으로 0.05보다 작으므로 귀무가설을 기각하고 대립가설을 채택한다. 초코칩의 강도와 반죽온도간에 상관계수는 0이 아니다. 또한 초코칩의 강도와 반죽온도간에 '강한 음의 상관성'이 있다고 할 수 있다."
   ]
  }
 ],
 "metadata": {
  "kernelspec": {
   "display_name": "Python 3 (ipykernel)",
   "language": "python",
   "name": "python3"
  },
  "language_info": {
   "codemirror_mode": {
    "name": "ipython",
    "version": 3
   },
   "file_extension": ".py",
   "mimetype": "text/x-python",
   "name": "python",
   "nbconvert_exporter": "python",
   "pygments_lexer": "ipython3",
   "version": "3.9.7"
  }
 },
 "nbformat": 4,
 "nbformat_minor": 5
}
