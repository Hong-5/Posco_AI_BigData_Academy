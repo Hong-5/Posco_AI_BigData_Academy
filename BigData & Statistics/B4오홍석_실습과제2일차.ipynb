{
 "cells": [
  {
   "cell_type": "code",
   "execution_count": 1,
   "id": "f78a7348",
   "metadata": {},
   "outputs": [],
   "source": [
    "import pandas as pd\n",
    "import numpy as np\n",
    "import matplotlib.pyplot as plt\n",
    "import seaborn as sns\n",
    "import matplotlib\n",
    "from scipy import stats\n",
    "\n",
    "plt.style.use(['fivethirtyeight'])\n",
    "\n",
    "qualitative_colors = sns.color_palette(\"Set3\", 10)\n",
    "matplotlib.rc('font', family = 'Noto Sans CJK JP')\n",
    "matplotlib.rc('axes', unicode_minus = False)"
   ]
  },
  {
   "cell_type": "markdown",
   "id": "c50497f2",
   "metadata": {},
   "source": [
    "# 1. 데이터 불러오기"
   ]
  },
  {
   "cell_type": "code",
   "execution_count": 2,
   "id": "4f1655ff",
   "metadata": {},
   "outputs": [],
   "source": [
    "df = pd.read_csv('../2. Big Data 분석/titanic.csv', encoding = 'cp949')"
   ]
  },
  {
   "cell_type": "markdown",
   "id": "233b7337",
   "metadata": {},
   "source": [
    "- Survived : 0 = 사망, 1 = 생존\n",
    "- Pclass : 1 = 1등석, 2 = 2등석, 3 = 3등석\n",
    "- Sex : male = 남성, female = 여성\n",
    "- Age : 나이\n",
    "- SibSp : 타이타닉 호에 동승한 자매 / 배우자의 수\n",
    "- Parch : 타이타닉 호에 동승한 부모 / 자식의 수\n",
    "- Ticket : 티켓 번호\n",
    "- Fare : 승객 요금\n",
    "- Cabin : 방 호수\n",
    "- Embarked : 탑승지, C = 셰르부르, Q = 퀸즈타운, S = 사우샘프턴"
   ]
  },
  {
   "cell_type": "markdown",
   "id": "99b72416",
   "metadata": {},
   "source": [
    "# 2. 데이터 특성 확인하기"
   ]
  },
  {
   "cell_type": "markdown",
   "id": "cb6d5504",
   "metadata": {},
   "source": [
    "- 데이터 속성 확인"
   ]
  },
  {
   "cell_type": "code",
   "execution_count": 3,
   "id": "43120a32",
   "metadata": {},
   "outputs": [
    {
     "name": "stdout",
     "output_type": "stream",
     "text": [
      "<class 'pandas.core.frame.DataFrame'>\n",
      "RangeIndex: 891 entries, 0 to 890\n",
      "Data columns (total 12 columns):\n",
      " #   Column       Non-Null Count  Dtype  \n",
      "---  ------       --------------  -----  \n",
      " 0   PassengerId  891 non-null    int64  \n",
      " 1   Survived     891 non-null    int64  \n",
      " 2   Pclass       891 non-null    int64  \n",
      " 3   Name         891 non-null    object \n",
      " 4   Sex          891 non-null    object \n",
      " 5   Age          891 non-null    float64\n",
      " 6   SibSp        891 non-null    int64  \n",
      " 7   Parch        891 non-null    int64  \n",
      " 8   Ticket       891 non-null    object \n",
      " 9   Fare         891 non-null    float64\n",
      " 10  Cabin        204 non-null    object \n",
      " 11  Embarked     889 non-null    object \n",
      "dtypes: float64(2), int64(5), object(5)\n",
      "memory usage: 83.7+ KB\n"
     ]
    }
   ],
   "source": [
    "df.info()"
   ]
  },
  {
   "cell_type": "code",
   "execution_count": 4,
   "id": "94837d04",
   "metadata": {},
   "outputs": [
    {
     "data": {
      "text/plain": [
       "(891, 12)"
      ]
     },
     "execution_count": 4,
     "metadata": {},
     "output_type": "execute_result"
    }
   ],
   "source": [
    "df.shape"
   ]
  },
  {
   "cell_type": "markdown",
   "id": "9c7b6241",
   "metadata": {},
   "source": [
    "- 기술통계량 확인"
   ]
  },
  {
   "cell_type": "code",
   "execution_count": 5,
   "id": "33b2fe28",
   "metadata": {},
   "outputs": [
    {
     "data": {
      "text/html": [
       "<div>\n",
       "<style scoped>\n",
       "    .dataframe tbody tr th:only-of-type {\n",
       "        vertical-align: middle;\n",
       "    }\n",
       "\n",
       "    .dataframe tbody tr th {\n",
       "        vertical-align: top;\n",
       "    }\n",
       "\n",
       "    .dataframe thead th {\n",
       "        text-align: right;\n",
       "    }\n",
       "</style>\n",
       "<table border=\"1\" class=\"dataframe\">\n",
       "  <thead>\n",
       "    <tr style=\"text-align: right;\">\n",
       "      <th></th>\n",
       "      <th>PassengerId</th>\n",
       "      <th>Survived</th>\n",
       "      <th>Pclass</th>\n",
       "      <th>Age</th>\n",
       "      <th>SibSp</th>\n",
       "      <th>Parch</th>\n",
       "      <th>Fare</th>\n",
       "    </tr>\n",
       "  </thead>\n",
       "  <tbody>\n",
       "    <tr>\n",
       "      <th>count</th>\n",
       "      <td>891.000000</td>\n",
       "      <td>891.000000</td>\n",
       "      <td>891.000000</td>\n",
       "      <td>891.000000</td>\n",
       "      <td>891.000000</td>\n",
       "      <td>891.000000</td>\n",
       "      <td>891.000000</td>\n",
       "    </tr>\n",
       "    <tr>\n",
       "      <th>mean</th>\n",
       "      <td>446.000000</td>\n",
       "      <td>0.383838</td>\n",
       "      <td>2.308642</td>\n",
       "      <td>29.758889</td>\n",
       "      <td>0.523008</td>\n",
       "      <td>0.381594</td>\n",
       "      <td>32.204208</td>\n",
       "    </tr>\n",
       "    <tr>\n",
       "      <th>std</th>\n",
       "      <td>257.353842</td>\n",
       "      <td>0.486592</td>\n",
       "      <td>0.836071</td>\n",
       "      <td>13.002570</td>\n",
       "      <td>1.102743</td>\n",
       "      <td>0.806057</td>\n",
       "      <td>49.693429</td>\n",
       "    </tr>\n",
       "    <tr>\n",
       "      <th>min</th>\n",
       "      <td>1.000000</td>\n",
       "      <td>0.000000</td>\n",
       "      <td>1.000000</td>\n",
       "      <td>0.420000</td>\n",
       "      <td>0.000000</td>\n",
       "      <td>0.000000</td>\n",
       "      <td>0.000000</td>\n",
       "    </tr>\n",
       "    <tr>\n",
       "      <th>25%</th>\n",
       "      <td>223.500000</td>\n",
       "      <td>0.000000</td>\n",
       "      <td>2.000000</td>\n",
       "      <td>22.000000</td>\n",
       "      <td>0.000000</td>\n",
       "      <td>0.000000</td>\n",
       "      <td>7.910400</td>\n",
       "    </tr>\n",
       "    <tr>\n",
       "      <th>50%</th>\n",
       "      <td>446.000000</td>\n",
       "      <td>0.000000</td>\n",
       "      <td>3.000000</td>\n",
       "      <td>30.000000</td>\n",
       "      <td>0.000000</td>\n",
       "      <td>0.000000</td>\n",
       "      <td>14.454200</td>\n",
       "    </tr>\n",
       "    <tr>\n",
       "      <th>75%</th>\n",
       "      <td>668.500000</td>\n",
       "      <td>1.000000</td>\n",
       "      <td>3.000000</td>\n",
       "      <td>35.000000</td>\n",
       "      <td>1.000000</td>\n",
       "      <td>0.000000</td>\n",
       "      <td>31.000000</td>\n",
       "    </tr>\n",
       "    <tr>\n",
       "      <th>max</th>\n",
       "      <td>891.000000</td>\n",
       "      <td>1.000000</td>\n",
       "      <td>3.000000</td>\n",
       "      <td>80.000000</td>\n",
       "      <td>8.000000</td>\n",
       "      <td>6.000000</td>\n",
       "      <td>512.329200</td>\n",
       "    </tr>\n",
       "  </tbody>\n",
       "</table>\n",
       "</div>"
      ],
      "text/plain": [
       "       PassengerId    Survived      Pclass         Age       SibSp  \\\n",
       "count   891.000000  891.000000  891.000000  891.000000  891.000000   \n",
       "mean    446.000000    0.383838    2.308642   29.758889    0.523008   \n",
       "std     257.353842    0.486592    0.836071   13.002570    1.102743   \n",
       "min       1.000000    0.000000    1.000000    0.420000    0.000000   \n",
       "25%     223.500000    0.000000    2.000000   22.000000    0.000000   \n",
       "50%     446.000000    0.000000    3.000000   30.000000    0.000000   \n",
       "75%     668.500000    1.000000    3.000000   35.000000    1.000000   \n",
       "max     891.000000    1.000000    3.000000   80.000000    8.000000   \n",
       "\n",
       "            Parch        Fare  \n",
       "count  891.000000  891.000000  \n",
       "mean     0.381594   32.204208  \n",
       "std      0.806057   49.693429  \n",
       "min      0.000000    0.000000  \n",
       "25%      0.000000    7.910400  \n",
       "50%      0.000000   14.454200  \n",
       "75%      0.000000   31.000000  \n",
       "max      6.000000  512.329200  "
      ]
     },
     "execution_count": 5,
     "metadata": {},
     "output_type": "execute_result"
    }
   ],
   "source": [
    "df.describe()"
   ]
  },
  {
   "cell_type": "markdown",
   "id": "6deee3f7",
   "metadata": {},
   "source": [
    "- 결측치 확인"
   ]
  },
  {
   "cell_type": "code",
   "execution_count": 6,
   "id": "23efa70b",
   "metadata": {},
   "outputs": [
    {
     "data": {
      "text/plain": [
       "PassengerId      0\n",
       "Survived         0\n",
       "Pclass           0\n",
       "Name             0\n",
       "Sex              0\n",
       "Age              0\n",
       "SibSp            0\n",
       "Parch            0\n",
       "Ticket           0\n",
       "Fare             0\n",
       "Cabin          687\n",
       "Embarked         2\n",
       "dtype: int64"
      ]
     },
     "execution_count": 6,
     "metadata": {},
     "output_type": "execute_result"
    }
   ],
   "source": [
    "## cabin에 결측치가 너무 많아서 최빈값으로 대체하면 안될 것 같긴합니다..\n",
    "df.isnull().sum()"
   ]
  },
  {
   "cell_type": "markdown",
   "id": "5a64a7ef",
   "metadata": {},
   "source": [
    "- 이상치 확인하기"
   ]
  },
  {
   "cell_type": "code",
   "execution_count": 7,
   "id": "3791e2d5",
   "metadata": {},
   "outputs": [
    {
     "data": {
      "image/png": "[encoded data removed]",
      "text/plain": [
       "<Figure size 432x288 with 1 Axes>"
      ]
     },
     "metadata": {},
     "output_type": "display_data"
    }
   ],
   "source": [
    "df.boxplot()\n",
    "plt.show()"
   ]
  },
  {
   "cell_type": "markdown",
   "id": "0ca2d86a",
   "metadata": {},
   "source": [
    "# 3. 데이터 전처리"
   ]
  },
  {
   "cell_type": "markdown",
   "id": "1f8453b8",
   "metadata": {},
   "source": [
    "- 결측치 대체"
   ]
  },
  {
   "cell_type": "code",
   "execution_count": 8,
   "id": "01027645",
   "metadata": {},
   "outputs": [],
   "source": [
    "df['Cabin'] = df['Cabin'].fillna(df['Cabin'].value_counts().index[0])\n",
    "df['Embarked'] = df['Embarked'].fillna(df['Embarked'].value_counts().index[0])"
   ]
  },
  {
   "cell_type": "code",
   "execution_count": 9,
   "id": "42ce58c6",
   "metadata": {
    "scrolled": true
   },
   "outputs": [
    {
     "data": {
      "text/plain": [
       "PassengerId    0\n",
       "Survived       0\n",
       "Pclass         0\n",
       "Name           0\n",
       "Sex            0\n",
       "Age            0\n",
       "SibSp          0\n",
       "Parch          0\n",
       "Ticket         0\n",
       "Fare           0\n",
       "Cabin          0\n",
       "Embarked       0\n",
       "dtype: int64"
      ]
     },
     "execution_count": 9,
     "metadata": {},
     "output_type": "execute_result"
    }
   ],
   "source": [
    "df.isnull().sum()"
   ]
  },
  {
   "cell_type": "markdown",
   "id": "70cf852b",
   "metadata": {},
   "source": [
    "## 파생변수 생성\n",
    "#### 1. 객실번호 첫자리"
   ]
  },
  {
   "cell_type": "code",
   "execution_count": 10,
   "id": "77e758e7",
   "metadata": {},
   "outputs": [],
   "source": [
    "df['Cabin_first'] = df.Cabin.str.get(i=0)"
   ]
  },
  {
   "cell_type": "markdown",
   "id": "7d2f795c",
   "metadata": {},
   "source": [
    "#### 2. 나이 파생 변수"
   ]
  },
  {
   "cell_type": "code",
   "execution_count": 11,
   "id": "6b7edfa5",
   "metadata": {},
   "outputs": [],
   "source": [
    "def make_age_group(x):\n",
    "    if x > 58:\n",
    "        return 'Old'\n",
    "    elif x > 45:\n",
    "        return 'Prime'\n",
    "    elif x > 28:\n",
    "        return 'Middle'\n",
    "    elif x > 14:\n",
    "        return 'Young'\n",
    "    else:\n",
    "        return 'Child'"
   ]
  },
  {
   "cell_type": "code",
   "execution_count": 12,
   "id": "a9ff6723",
   "metadata": {},
   "outputs": [],
   "source": [
    "df['age_group'] = df.Age.apply(make_age_group)"
   ]
  },
  {
   "cell_type": "markdown",
   "id": "8b8ca6b7",
   "metadata": {},
   "source": [
    "#### 3. 가족수 계산"
   ]
  },
  {
   "cell_type": "code",
   "execution_count": 13,
   "id": "8e578292",
   "metadata": {},
   "outputs": [],
   "source": [
    "df['Family'] = df.SibSp + df.Parch"
   ]
  },
  {
   "cell_type": "markdown",
   "id": "35f3fbb2",
   "metadata": {},
   "source": [
    "#### 4. 요금 구간화"
   ]
  },
  {
   "cell_type": "code",
   "execution_count": 14,
   "id": "557be2ec",
   "metadata": {},
   "outputs": [],
   "source": [
    "def make_binning_fee(x):\n",
    "    if x > 200:\n",
    "        return 4\n",
    "    elif x > 150:\n",
    "        return 3\n",
    "    elif x > 100:\n",
    "        return 2\n",
    "    elif x > 50:\n",
    "        return 1\n",
    "    else:\n",
    "        return 0"
   ]
  },
  {
   "cell_type": "code",
   "execution_count": 15,
   "id": "22b5956e",
   "metadata": {},
   "outputs": [],
   "source": [
    "df['binning_fee'] = df.Fare.apply(make_binning_fee)"
   ]
  },
  {
   "cell_type": "markdown",
   "id": "3e4bd5c3",
   "metadata": {},
   "source": [
    "# 4. 그래프 분석"
   ]
  },
  {
   "cell_type": "markdown",
   "id": "a51cc36a",
   "metadata": {},
   "source": [
    "- 목표변수(survived)의 빈도수 현황 확인 (막대그래프)"
   ]
  },
  {
   "cell_type": "code",
   "execution_count": 16,
   "id": "ca1a56aa",
   "metadata": {},
   "outputs": [
    {
     "data": {
      "image/png": "[encoded data removed]",
      "text/plain": [
       "<Figure size 432x288 with 1 Axes>"
      ]
     },
     "metadata": {},
     "output_type": "display_data"
    }
   ],
   "source": [
    "df.Survived.value_counts().plot.bar()\n",
    "plt.title('Survived의 빈도수 현황')\n",
    "plt.show()"
   ]
  },
  {
   "cell_type": "markdown",
   "id": "3f914cd9",
   "metadata": {},
   "source": [
    "- 목표변수(survived)의 비율 확인 (파이차트)"
   ]
  },
  {
   "cell_type": "code",
   "execution_count": 17,
   "id": "8be594d3",
   "metadata": {},
   "outputs": [
    {
     "data": {
      "image/png": "[encoded data removed]",
      "text/plain": [
       "<Figure size 432x288 with 1 Axes>"
      ]
     },
     "metadata": {},
     "output_type": "display_data"
    }
   ],
   "source": [
    "df.Survived.value_counts().plot.pie()\n",
    "plt.title('Survived의 비율 확인')\n",
    "plt.show()"
   ]
  },
  {
   "cell_type": "code",
   "execution_count": 18,
   "id": "22d4dcd4",
   "metadata": {},
   "outputs": [
    {
     "data": {
      "text/html": [
       "<div>\n",
       "<style scoped>\n",
       "    .dataframe tbody tr th:only-of-type {\n",
       "        vertical-align: middle;\n",
       "    }\n",
       "\n",
       "    .dataframe tbody tr th {\n",
       "        vertical-align: top;\n",
       "    }\n",
       "\n",
       "    .dataframe thead th {\n",
       "        text-align: right;\n",
       "    }\n",
       "</style>\n",
       "<table border=\"1\" class=\"dataframe\">\n",
       "  <thead>\n",
       "    <tr style=\"text-align: right;\">\n",
       "      <th></th>\n",
       "      <th>PassengerId</th>\n",
       "      <th>Survived</th>\n",
       "      <th>Pclass</th>\n",
       "      <th>Name</th>\n",
       "      <th>Sex</th>\n",
       "      <th>Age</th>\n",
       "      <th>SibSp</th>\n",
       "      <th>Parch</th>\n",
       "      <th>Ticket</th>\n",
       "      <th>Fare</th>\n",
       "      <th>Cabin</th>\n",
       "      <th>Embarked</th>\n",
       "      <th>Cabin_first</th>\n",
       "      <th>age_group</th>\n",
       "      <th>Family</th>\n",
       "      <th>binning_fee</th>\n",
       "    </tr>\n",
       "  </thead>\n",
       "  <tbody>\n",
       "    <tr>\n",
       "      <th>0</th>\n",
       "      <td>1</td>\n",
       "      <td>0</td>\n",
       "      <td>3</td>\n",
       "      <td>Braund, Mr. Owen Harris</td>\n",
       "      <td>male</td>\n",
       "      <td>22.0</td>\n",
       "      <td>1</td>\n",
       "      <td>0</td>\n",
       "      <td>A/5 21171</td>\n",
       "      <td>7.2500</td>\n",
       "      <td>B96 B98</td>\n",
       "      <td>S</td>\n",
       "      <td>B</td>\n",
       "      <td>Young</td>\n",
       "      <td>1</td>\n",
       "      <td>0</td>\n",
       "    </tr>\n",
       "    <tr>\n",
       "      <th>1</th>\n",
       "      <td>2</td>\n",
       "      <td>1</td>\n",
       "      <td>1</td>\n",
       "      <td>Cumings, Mrs. John Bradley (Florence Briggs Th...</td>\n",
       "      <td>female</td>\n",
       "      <td>38.0</td>\n",
       "      <td>1</td>\n",
       "      <td>0</td>\n",
       "      <td>PC 17599</td>\n",
       "      <td>71.2833</td>\n",
       "      <td>C85</td>\n",
       "      <td>C</td>\n",
       "      <td>C</td>\n",
       "      <td>Middle</td>\n",
       "      <td>1</td>\n",
       "      <td>1</td>\n",
       "    </tr>\n",
       "    <tr>\n",
       "      <th>2</th>\n",
       "      <td>3</td>\n",
       "      <td>1</td>\n",
       "      <td>3</td>\n",
       "      <td>Heikkinen, Miss. Laina</td>\n",
       "      <td>female</td>\n",
       "      <td>26.0</td>\n",
       "      <td>0</td>\n",
       "      <td>0</td>\n",
       "      <td>STON/O2. 3101282</td>\n",
       "      <td>7.9250</td>\n",
       "      <td>B96 B98</td>\n",
       "      <td>S</td>\n",
       "      <td>B</td>\n",
       "      <td>Young</td>\n",
       "      <td>0</td>\n",
       "      <td>0</td>\n",
       "    </tr>\n",
       "    <tr>\n",
       "      <th>3</th>\n",
       "      <td>4</td>\n",
       "      <td>1</td>\n",
       "      <td>1</td>\n",
       "      <td>Futrelle, Mrs. Jacques Heath (Lily May Peel)</td>\n",
       "      <td>female</td>\n",
       "      <td>35.0</td>\n",
       "      <td>1</td>\n",
       "      <td>0</td>\n",
       "      <td>113803</td>\n",
       "      <td>53.1000</td>\n",
       "      <td>C123</td>\n",
       "      <td>S</td>\n",
       "      <td>C</td>\n",
       "      <td>Middle</td>\n",
       "      <td>1</td>\n",
       "      <td>1</td>\n",
       "    </tr>\n",
       "    <tr>\n",
       "      <th>4</th>\n",
       "      <td>5</td>\n",
       "      <td>0</td>\n",
       "      <td>3</td>\n",
       "      <td>Allen, Mr. William Henry</td>\n",
       "      <td>male</td>\n",
       "      <td>35.0</td>\n",
       "      <td>0</td>\n",
       "      <td>0</td>\n",
       "      <td>373450</td>\n",
       "      <td>8.0500</td>\n",
       "      <td>B96 B98</td>\n",
       "      <td>S</td>\n",
       "      <td>B</td>\n",
       "      <td>Middle</td>\n",
       "      <td>0</td>\n",
       "      <td>0</td>\n",
       "    </tr>\n",
       "    <tr>\n",
       "      <th>...</th>\n",
       "      <td>...</td>\n",
       "      <td>...</td>\n",
       "      <td>...</td>\n",
       "      <td>...</td>\n",
       "      <td>...</td>\n",
       "      <td>...</td>\n",
       "      <td>...</td>\n",
       "      <td>...</td>\n",
       "      <td>...</td>\n",
       "      <td>...</td>\n",
       "      <td>...</td>\n",
       "      <td>...</td>\n",
       "      <td>...</td>\n",
       "      <td>...</td>\n",
       "      <td>...</td>\n",
       "      <td>...</td>\n",
       "    </tr>\n",
       "    <tr>\n",
       "      <th>886</th>\n",
       "      <td>887</td>\n",
       "      <td>0</td>\n",
       "      <td>2</td>\n",
       "      <td>Montvila, Rev. Juozas</td>\n",
       "      <td>male</td>\n",
       "      <td>27.0</td>\n",
       "      <td>0</td>\n",
       "      <td>0</td>\n",
       "      <td>211536</td>\n",
       "      <td>13.0000</td>\n",
       "      <td>B96 B98</td>\n",
       "      <td>S</td>\n",
       "      <td>B</td>\n",
       "      <td>Young</td>\n",
       "      <td>0</td>\n",
       "      <td>0</td>\n",
       "    </tr>\n",
       "    <tr>\n",
       "      <th>887</th>\n",
       "      <td>888</td>\n",
       "      <td>1</td>\n",
       "      <td>1</td>\n",
       "      <td>Graham, Miss. Margaret Edith</td>\n",
       "      <td>female</td>\n",
       "      <td>19.0</td>\n",
       "      <td>0</td>\n",
       "      <td>0</td>\n",
       "      <td>112053</td>\n",
       "      <td>30.0000</td>\n",
       "      <td>B42</td>\n",
       "      <td>S</td>\n",
       "      <td>B</td>\n",
       "      <td>Young</td>\n",
       "      <td>0</td>\n",
       "      <td>0</td>\n",
       "    </tr>\n",
       "    <tr>\n",
       "      <th>888</th>\n",
       "      <td>889</td>\n",
       "      <td>0</td>\n",
       "      <td>3</td>\n",
       "      <td>Johnston, Miss. Catherine Helen \"Carrie\"</td>\n",
       "      <td>female</td>\n",
       "      <td>30.0</td>\n",
       "      <td>1</td>\n",
       "      <td>2</td>\n",
       "      <td>W./C. 6607</td>\n",
       "      <td>23.4500</td>\n",
       "      <td>B96 B98</td>\n",
       "      <td>S</td>\n",
       "      <td>B</td>\n",
       "      <td>Middle</td>\n",
       "      <td>3</td>\n",
       "      <td>0</td>\n",
       "    </tr>\n",
       "    <tr>\n",
       "      <th>889</th>\n",
       "      <td>890</td>\n",
       "      <td>1</td>\n",
       "      <td>1</td>\n",
       "      <td>Behr, Mr. Karl Howell</td>\n",
       "      <td>male</td>\n",
       "      <td>26.0</td>\n",
       "      <td>0</td>\n",
       "      <td>0</td>\n",
       "      <td>111369</td>\n",
       "      <td>30.0000</td>\n",
       "      <td>C148</td>\n",
       "      <td>C</td>\n",
       "      <td>C</td>\n",
       "      <td>Young</td>\n",
       "      <td>0</td>\n",
       "      <td>0</td>\n",
       "    </tr>\n",
       "    <tr>\n",
       "      <th>890</th>\n",
       "      <td>891</td>\n",
       "      <td>0</td>\n",
       "      <td>3</td>\n",
       "      <td>Dooley, Mr. Patrick</td>\n",
       "      <td>male</td>\n",
       "      <td>32.0</td>\n",
       "      <td>0</td>\n",
       "      <td>0</td>\n",
       "      <td>370376</td>\n",
       "      <td>7.7500</td>\n",
       "      <td>B96 B98</td>\n",
       "      <td>Q</td>\n",
       "      <td>B</td>\n",
       "      <td>Middle</td>\n",
       "      <td>0</td>\n",
       "      <td>0</td>\n",
       "    </tr>\n",
       "  </tbody>\n",
       "</table>\n",
       "<p>891 rows × 16 columns</p>\n",
       "</div>"
      ],
      "text/plain": [
       "     PassengerId  Survived  Pclass  \\\n",
       "0              1         0       3   \n",
       "1              2         1       1   \n",
       "2              3         1       3   \n",
       "3              4         1       1   \n",
       "4              5         0       3   \n",
       "..           ...       ...     ...   \n",
       "886          887         0       2   \n",
       "887          888         1       1   \n",
       "888          889         0       3   \n",
       "889          890         1       1   \n",
       "890          891         0       3   \n",
       "\n",
       "                                                  Name     Sex   Age  SibSp  \\\n",
       "0                              Braund, Mr. Owen Harris    male  22.0      1   \n",
       "1    Cumings, Mrs. John Bradley (Florence Briggs Th...  female  38.0      1   \n",
       "2                               Heikkinen, Miss. Laina  female  26.0      0   \n",
       "3         Futrelle, Mrs. Jacques Heath (Lily May Peel)  female  35.0      1   \n",
       "4                             Allen, Mr. William Henry    male  35.0      0   \n",
       "..                                                 ...     ...   ...    ...   \n",
       "886                              Montvila, Rev. Juozas    male  27.0      0   \n",
       "887                       Graham, Miss. Margaret Edith  female  19.0      0   \n",
       "888           Johnston, Miss. Catherine Helen \"Carrie\"  female  30.0      1   \n",
       "889                              Behr, Mr. Karl Howell    male  26.0      0   \n",
       "890                                Dooley, Mr. Patrick    male  32.0      0   \n",
       "\n",
       "     Parch            Ticket     Fare    Cabin Embarked Cabin_first age_group  \\\n",
       "0        0         A/5 21171   7.2500  B96 B98        S           B     Young   \n",
       "1        0          PC 17599  71.2833      C85        C           C    Middle   \n",
       "2        0  STON/O2. 3101282   7.9250  B96 B98        S           B     Young   \n",
       "3        0            113803  53.1000     C123        S           C    Middle   \n",
       "4        0            373450   8.0500  B96 B98        S           B    Middle   \n",
       "..     ...               ...      ...      ...      ...         ...       ...   \n",
       "886      0            211536  13.0000  B96 B98        S           B     Young   \n",
       "887      0            112053  30.0000      B42        S           B     Young   \n",
       "888      2        W./C. 6607  23.4500  B96 B98        S           B    Middle   \n",
       "889      0            111369  30.0000     C148        C           C     Young   \n",
       "890      0            370376   7.7500  B96 B98        Q           B    Middle   \n",
       "\n",
       "     Family  binning_fee  \n",
       "0         1            0  \n",
       "1         1            1  \n",
       "2         0            0  \n",
       "3         1            1  \n",
       "4         0            0  \n",
       "..      ...          ...  \n",
       "886       0            0  \n",
       "887       0            0  \n",
       "888       3            0  \n",
       "889       0            0  \n",
       "890       0            0  \n",
       "\n",
       "[891 rows x 16 columns]"
      ]
     },
     "execution_count": 18,
     "metadata": {},
     "output_type": "execute_result"
    }
   ],
   "source": [
    "df"
   ]
  },
  {
   "cell_type": "code",
   "execution_count": 19,
   "id": "9666e016",
   "metadata": {},
   "outputs": [
    {
     "data": {
      "image/png": "[encoded data removed]",
      "text/plain": [
       "<Figure size 360x360 with 1 Axes>"
      ]
     },
     "metadata": {},
     "output_type": "display_data"
    },
    {
     "name": "stdout",
     "output_type": "stream",
     "text": [
      "--------------------------------------------------\n"
     ]
    },
    {
     "data": {
      "image/png": "[encoded data removed]",
      "text/plain": [
       "<Figure size 360x360 with 1 Axes>"
      ]
     },
     "metadata": {},
     "output_type": "display_data"
    },
    {
     "name": "stdout",
     "output_type": "stream",
     "text": [
      "--------------------------------------------------\n"
     ]
    },
    {
     "data": {
      "image/png": "[encoded data removed]",
      "text/plain": [
       "<Figure size 360x360 with 1 Axes>"
      ]
     },
     "metadata": {},
     "output_type": "display_data"
    },
    {
     "name": "stdout",
     "output_type": "stream",
     "text": [
      "--------------------------------------------------\n"
     ]
    },
    {
     "data": {
      "image/png": "[encoded data removed]",
      "text/plain": [
       "<Figure size 360x360 with 1 Axes>"
      ]
     },
     "metadata": {},
     "output_type": "display_data"
    },
    {
     "name": "stdout",
     "output_type": "stream",
     "text": [
      "--------------------------------------------------\n"
     ]
    },
    {
     "data": {
      "image/png": "[encoded data removed]",
      "text/plain": [
       "<Figure size 360x360 with 1 Axes>"
      ]
     },
     "metadata": {},
     "output_type": "display_data"
    },
    {
     "name": "stdout",
     "output_type": "stream",
     "text": [
      "--------------------------------------------------\n"
     ]
    }
   ],
   "source": [
    "for i in ['Pclass', 'Sex', 'Embarked', 'Cabin_first', 'age_group']:\n",
    "    plt.figure(figsize=(5,5))\n",
    "    df[i].value_counts().plot.pie(autopct='%.1f%%')\n",
    "    plt.title('{}에 대한 비율 확인'.format(i))\n",
    "    plt.show()\n",
    "    print('-'*50)"
   ]
  },
  {
   "cell_type": "code",
   "execution_count": 20,
   "id": "afdc05f7",
   "metadata": {},
   "outputs": [
    {
     "data": {
      "image/png": "[encoded data removed]",
      "text/plain": [
       "<Figure size 432x288 with 1 Axes>"
      ]
     },
     "metadata": {},
     "output_type": "display_data"
    }
   ],
   "source": [
    "df['Age'].hist()\n",
    "plt.title('Age에 대한 히스토그램')\n",
    "plt.show()"
   ]
  },
  {
   "cell_type": "code",
   "execution_count": 21,
   "id": "995c4db2",
   "metadata": {},
   "outputs": [
    {
     "data": {
      "image/png": "[encoded data removed]",
      "text/plain": [
       "<Figure size 432x288 with 1 Axes>"
      ]
     },
     "metadata": {},
     "output_type": "display_data"
    }
   ],
   "source": [
    "df[['Age']].boxplot()\n",
    "plt.title('Age에 대한 Boxplot')\n",
    "plt.show()"
   ]
  },
  {
   "cell_type": "code",
   "execution_count": 22,
   "id": "4a383221",
   "metadata": {},
   "outputs": [
    {
     "data": {
      "image/png": "[encoded data removed]",
      "text/plain": [
       "<Figure size 432x288 with 1 Axes>"
      ]
     },
     "metadata": {},
     "output_type": "display_data"
    }
   ],
   "source": [
    "df[['Fare']].hist()\n",
    "plt.title('Fare에 대한 히스토그램')\n",
    "plt.show()"
   ]
  },
  {
   "cell_type": "code",
   "execution_count": 23,
   "id": "ba60bf5a",
   "metadata": {},
   "outputs": [
    {
     "data": {
      "image/png": "[encoded data removed]",
      "text/plain": [
       "<Figure size 432x288 with 1 Axes>"
      ]
     },
     "metadata": {},
     "output_type": "display_data"
    }
   ],
   "source": [
    "df[['Fare']].boxplot()\n",
    "plt.title('Fare에 대한 Boxplot')\n",
    "plt.show()"
   ]
  },
  {
   "cell_type": "markdown",
   "id": "0a73b23f",
   "metadata": {},
   "source": [
    "# * 좌석별 생존자 사망자 특성"
   ]
  },
  {
   "cell_type": "code",
   "execution_count": 24,
   "id": "5418342c",
   "metadata": {},
   "outputs": [
    {
     "data": {
      "image/png": "[encoded data removed]",
      "text/plain": [
       "<Figure size 432x288 with 2 Axes>"
      ]
     },
     "metadata": {},
     "output_type": "display_data"
    }
   ],
   "source": [
    "plt.subplots(constrained_layout=True)\n",
    "plt.subplot(121)\n",
    "df[df['Survived'] == 1]['Pclass'].value_counts().plot.pie(autopct='%.1f%%')\n",
    "plt.title('Survived')\n",
    "\n",
    "plt.subplot(122)\n",
    "df[df['Survived'] == 0]['Pclass'].value_counts().plot.pie(autopct='%.1f%%')\n",
    "plt.title('Dead')\n",
    "\n",
    "plt.show()"
   ]
  },
  {
   "cell_type": "code",
   "execution_count": 25,
   "id": "6691a31b",
   "metadata": {},
   "outputs": [
    {
     "data": {
      "image/png": "[encoded data removed]",
      "text/plain": [
       "<Figure size 432x288 with 1 Axes>"
      ]
     },
     "metadata": {},
     "output_type": "display_data"
    }
   ],
   "source": [
    "stacked_bar_df = df.groupby([\"Pclass\",\"Survived\"]).size().unstack()\n",
    "stacked_bar_df.plot(kind='bar', stacked=True)\n",
    "plt.xticks(rotation=0, fontsize=13)\n",
    "plt.show()"
   ]
  },
  {
   "cell_type": "markdown",
   "id": "19b58322",
   "metadata": {},
   "source": [
    "- 좌석별로 사망자와 생존자를 비교해보면 생존자중에는 1등급 좌석을 보유한 사람들이 가장 많았다. 1등급 좌석을 가진 사람들을 많이 생존했지만 이와 반대로 사망자 중에는 3등급 좌석을 보유한 사람의 비율이 압도적으로 높은 것을 볼 수 있다. 좌석의 가치가 낮아질수록 해당 티켓의 사망자의 비율이 점점 높아지는 것을 알 수 있다."
   ]
  },
  {
   "cell_type": "markdown",
   "id": "0fa5fc53",
   "metadata": {},
   "source": [
    "# * Gender별 생존자 사망자 특성"
   ]
  },
  {
   "cell_type": "code",
   "execution_count": 26,
   "id": "42d5420b",
   "metadata": {},
   "outputs": [
    {
     "data": {
      "image/png": "[encoded data removed]",
      "text/plain": [
       "<Figure size 432x288 with 2 Axes>"
      ]
     },
     "metadata": {},
     "output_type": "display_data"
    }
   ],
   "source": [
    "plt.subplots(constrained_layout=True)\n",
    "plt.subplot(121)\n",
    "df[df['Survived'] == 1]['Sex'].value_counts().plot.pie(autopct='%.1f%%')\n",
    "plt.title('Survived')\n",
    "\n",
    "plt.subplot(122)\n",
    "df[df['Survived'] == 0]['Sex'].value_counts().plot.pie(autopct='%.1f%%')\n",
    "plt.title('Dead')\n",
    "\n",
    "plt.show()"
   ]
  },
  {
   "cell_type": "code",
   "execution_count": 27,
   "id": "622d426c",
   "metadata": {
    "scrolled": true
   },
   "outputs": [
    {
     "data": {
      "image/png": "[encoded data removed]",
      "text/plain": [
       "<Figure size 432x288 with 1 Axes>"
      ]
     },
     "metadata": {},
     "output_type": "display_data"
    }
   ],
   "source": [
    "stacked_bar_df = df.groupby([\"Sex\",\"Survived\"]).size().unstack()\n",
    "stacked_bar_df.plot(kind='bar', stacked=True)\n",
    "plt.xticks(rotation=0, fontsize=13)\n",
    "plt.show()"
   ]
  },
  {
   "cell_type": "markdown",
   "id": "fe650236",
   "metadata": {},
   "source": [
    "- 성별로 사망자와 생존자를 비교하여 보면 생존자에는 여성의 비율이 높고 사망자 중에는 남성의 비율이 압도적으로 높은 것을 볼 수 있다."
   ]
  },
  {
   "cell_type": "markdown",
   "id": "00cef580",
   "metadata": {},
   "source": [
    "# * 연령대별 생존자 사망자 특성"
   ]
  },
  {
   "cell_type": "code",
   "execution_count": 28,
   "id": "9d751453",
   "metadata": {},
   "outputs": [
    {
     "data": {
      "image/png": "[encoded data removed]",
      "text/plain": [
       "<Figure size 432x288 with 2 Axes>"
      ]
     },
     "metadata": {},
     "output_type": "display_data"
    }
   ],
   "source": [
    "plt.subplots(constrained_layout=True)\n",
    "plt.subplot(121)\n",
    "df[df['Survived'] == 1]['age_group'].value_counts().plot.pie(autopct='%.1f%%')\n",
    "plt.title('Survived')\n",
    "\n",
    "plt.subplot(122)\n",
    "df[df['Survived'] == 0]['age_group'].value_counts().plot.pie(autopct='%.1f%%')\n",
    "plt.title('Dead')\n",
    "\n",
    "plt.show()"
   ]
  },
  {
   "cell_type": "code",
   "execution_count": 29,
   "id": "2c52f6ec",
   "metadata": {},
   "outputs": [
    {
     "data": {
      "image/png": "[encoded data removed]",
      "text/plain": [
       "<Figure size 432x288 with 1 Axes>"
      ]
     },
     "metadata": {},
     "output_type": "display_data"
    }
   ],
   "source": [
    "stacked_bar_df = df.groupby([\"age_group\",\"Survived\"]).size().unstack()\n",
    "stacked_bar_df.plot(kind='bar', stacked=True)\n",
    "plt.xticks(rotation=0, fontsize=13)\n",
    "plt.show()"
   ]
  },
  {
   "cell_type": "code",
   "execution_count": 30,
   "id": "9caedd9c",
   "metadata": {},
   "outputs": [
    {
     "data": {
      "image/png": "[encoded data removed]",
      "text/plain": [
       "<Figure size 432x288 with 2 Axes>"
      ]
     },
     "metadata": {},
     "output_type": "display_data"
    }
   ],
   "source": [
    "plt.subplots(constrained_layout=True)\n",
    "plt.subplot(121)\n",
    "df[df['Survived'] == 1]['Age'].hist(bins=10)\n",
    "plt.ylim(0,300)\n",
    "plt.title(\"Age-Histogram (Survived)\", fontsize=15)\n",
    "\n",
    "plt.subplot(122)\n",
    "df[df['Survived'] == 0]['Age'].hist(bins=10,color='RED')\n",
    "plt.ylim(0,300)\n",
    "plt.title(\"Age-Histogram (Dead)\", fontsize=15)\n",
    "plt.show()"
   ]
  },
  {
   "cell_type": "markdown",
   "id": "bf447e61",
   "metadata": {},
   "source": [
    "- 어린 탑승자들의 생존 비율은 높은 편이지만 고령층인 old그룹은 거의 생존을 하지 못한 것을 볼 수 있다."
   ]
  },
  {
   "cell_type": "markdown",
   "id": "1b166f6e",
   "metadata": {},
   "source": [
    "# * 요금별 생존자 사망자 특성"
   ]
  },
  {
   "cell_type": "code",
   "execution_count": 31,
   "id": "dd4b2fb4",
   "metadata": {
    "scrolled": true
   },
   "outputs": [
    {
     "data": {
      "image/png": "[encoded data removed]",
      "text/plain": [
       "<Figure size 432x288 with 2 Axes>"
      ]
     },
     "metadata": {},
     "output_type": "display_data"
    }
   ],
   "source": [
    "plt.subplots(constrained_layout=True)\n",
    "plt.subplot(121)\n",
    "df[df['Survived'] == 1]['Fare'].hist(bins=10)\n",
    "plt.ylim(0,450)\n",
    "plt.title(\"Fare-Histogram (Survived)\", fontsize=15)\n",
    "\n",
    "plt.subplot(122)\n",
    "df[df['Survived'] == 0]['Fare'].hist(bins=10,color='RED')\n",
    "plt.ylim(0,450)\n",
    "plt.title(\"Fare-Histogram (Dead)\", fontsize=15)\n",
    "plt.show()"
   ]
  },
  {
   "cell_type": "markdown",
   "id": "e6b7c891",
   "metadata": {},
   "source": [
    "- 요금을 적게 낸 사람들 사이에서의 사망 비율이 확연히 높은데 이는 좌석과 연관이 있는 것으로 보인다. "
   ]
  },
  {
   "cell_type": "markdown",
   "id": "caeec274",
   "metadata": {},
   "source": [
    "# 결론\n",
    "\n",
    ": 성별, 연령대와 재력이 생존과 사망을 구분짓는 것에 큰 영향을 끼치는 것으로 보인다. 남성보다 여성이 더 많이 생존하였으며 고령의 탑승객들보다 어린 연령층의 탑승객들이 더 많이 생존한 것을 볼 수 있다. 또한 좌석과 요금에서도 1등급 좌석을 보유한 사람들이 높은 비율로 생존하였으며 운임요금을 적게 내거나 3등급 좌석을 보유한 사람들의 사망률이 매우 높은 것을 알 수 있다."
   ]
  },
  {
   "cell_type": "markdown",
   "id": "ec4b8673",
   "metadata": {},
   "source": [
    "## 실습과제"
   ]
  },
  {
   "cell_type": "markdown",
   "id": "ed195ff9",
   "metadata": {},
   "source": [
    "### 210 page"
   ]
  },
  {
   "cell_type": "code",
   "execution_count": 32,
   "id": "7d4e25c1",
   "metadata": {
    "scrolled": true
   },
   "outputs": [
    {
     "data": {
      "text/html": [
       "<div>\n",
       "<style scoped>\n",
       "    .dataframe tbody tr th:only-of-type {\n",
       "        vertical-align: middle;\n",
       "    }\n",
       "\n",
       "    .dataframe tbody tr th {\n",
       "        vertical-align: top;\n",
       "    }\n",
       "\n",
       "    .dataframe thead th {\n",
       "        text-align: right;\n",
       "    }\n",
       "</style>\n",
       "<table border=\"1\" class=\"dataframe\">\n",
       "  <thead>\n",
       "    <tr style=\"text-align: right;\">\n",
       "      <th></th>\n",
       "      <th>manufacturer</th>\n",
       "      <th>model</th>\n",
       "      <th>displacement</th>\n",
       "      <th>year</th>\n",
       "      <th>cylinder</th>\n",
       "      <th>automatic</th>\n",
       "      <th>driving</th>\n",
       "      <th>mpg</th>\n",
       "      <th>highway_mileage</th>\n",
       "      <th>fuel</th>\n",
       "      <th>class</th>\n",
       "    </tr>\n",
       "  </thead>\n",
       "  <tbody>\n",
       "    <tr>\n",
       "      <th>0</th>\n",
       "      <td>audi</td>\n",
       "      <td>a4</td>\n",
       "      <td>1.8</td>\n",
       "      <td>1999</td>\n",
       "      <td>4</td>\n",
       "      <td>auto</td>\n",
       "      <td>f</td>\n",
       "      <td>18</td>\n",
       "      <td>29</td>\n",
       "      <td>p</td>\n",
       "      <td>compact</td>\n",
       "    </tr>\n",
       "    <tr>\n",
       "      <th>1</th>\n",
       "      <td>audi</td>\n",
       "      <td>a4</td>\n",
       "      <td>1.8</td>\n",
       "      <td>1999</td>\n",
       "      <td>4</td>\n",
       "      <td>manual</td>\n",
       "      <td>f</td>\n",
       "      <td>21</td>\n",
       "      <td>29</td>\n",
       "      <td>p</td>\n",
       "      <td>compact</td>\n",
       "    </tr>\n",
       "    <tr>\n",
       "      <th>2</th>\n",
       "      <td>audi</td>\n",
       "      <td>a4</td>\n",
       "      <td>2.0</td>\n",
       "      <td>2008</td>\n",
       "      <td>4</td>\n",
       "      <td>manual</td>\n",
       "      <td>f</td>\n",
       "      <td>20</td>\n",
       "      <td>31</td>\n",
       "      <td>p</td>\n",
       "      <td>compact</td>\n",
       "    </tr>\n",
       "    <tr>\n",
       "      <th>3</th>\n",
       "      <td>audi</td>\n",
       "      <td>a4</td>\n",
       "      <td>2.0</td>\n",
       "      <td>2008</td>\n",
       "      <td>4</td>\n",
       "      <td>auto</td>\n",
       "      <td>f</td>\n",
       "      <td>21</td>\n",
       "      <td>30</td>\n",
       "      <td>p</td>\n",
       "      <td>compact</td>\n",
       "    </tr>\n",
       "    <tr>\n",
       "      <th>4</th>\n",
       "      <td>audi</td>\n",
       "      <td>a4</td>\n",
       "      <td>2.8</td>\n",
       "      <td>1999</td>\n",
       "      <td>6</td>\n",
       "      <td>auto</td>\n",
       "      <td>f</td>\n",
       "      <td>16</td>\n",
       "      <td>26</td>\n",
       "      <td>p</td>\n",
       "      <td>compact</td>\n",
       "    </tr>\n",
       "    <tr>\n",
       "      <th>...</th>\n",
       "      <td>...</td>\n",
       "      <td>...</td>\n",
       "      <td>...</td>\n",
       "      <td>...</td>\n",
       "      <td>...</td>\n",
       "      <td>...</td>\n",
       "      <td>...</td>\n",
       "      <td>...</td>\n",
       "      <td>...</td>\n",
       "      <td>...</td>\n",
       "      <td>...</td>\n",
       "    </tr>\n",
       "    <tr>\n",
       "      <th>229</th>\n",
       "      <td>volkswagen</td>\n",
       "      <td>passat</td>\n",
       "      <td>2.0</td>\n",
       "      <td>2008</td>\n",
       "      <td>4</td>\n",
       "      <td>auto</td>\n",
       "      <td>f</td>\n",
       "      <td>19</td>\n",
       "      <td>28</td>\n",
       "      <td>p</td>\n",
       "      <td>midsize</td>\n",
       "    </tr>\n",
       "    <tr>\n",
       "      <th>230</th>\n",
       "      <td>volkswagen</td>\n",
       "      <td>passat</td>\n",
       "      <td>2.0</td>\n",
       "      <td>2008</td>\n",
       "      <td>4</td>\n",
       "      <td>manual</td>\n",
       "      <td>f</td>\n",
       "      <td>21</td>\n",
       "      <td>29</td>\n",
       "      <td>p</td>\n",
       "      <td>midsize</td>\n",
       "    </tr>\n",
       "    <tr>\n",
       "      <th>231</th>\n",
       "      <td>volkswagen</td>\n",
       "      <td>passat</td>\n",
       "      <td>2.8</td>\n",
       "      <td>1999</td>\n",
       "      <td>6</td>\n",
       "      <td>auto</td>\n",
       "      <td>f</td>\n",
       "      <td>16</td>\n",
       "      <td>26</td>\n",
       "      <td>p</td>\n",
       "      <td>midsize</td>\n",
       "    </tr>\n",
       "    <tr>\n",
       "      <th>232</th>\n",
       "      <td>volkswagen</td>\n",
       "      <td>passat</td>\n",
       "      <td>2.8</td>\n",
       "      <td>1999</td>\n",
       "      <td>6</td>\n",
       "      <td>manual</td>\n",
       "      <td>f</td>\n",
       "      <td>18</td>\n",
       "      <td>26</td>\n",
       "      <td>p</td>\n",
       "      <td>midsize</td>\n",
       "    </tr>\n",
       "    <tr>\n",
       "      <th>233</th>\n",
       "      <td>volkswagen</td>\n",
       "      <td>passat</td>\n",
       "      <td>3.6</td>\n",
       "      <td>2008</td>\n",
       "      <td>6</td>\n",
       "      <td>auto</td>\n",
       "      <td>f</td>\n",
       "      <td>17</td>\n",
       "      <td>26</td>\n",
       "      <td>p</td>\n",
       "      <td>midsize</td>\n",
       "    </tr>\n",
       "  </tbody>\n",
       "</table>\n",
       "<p>234 rows × 11 columns</p>\n",
       "</div>"
      ],
      "text/plain": [
       "    manufacturer   model  displacement  year  cylinder automatic driving  mpg  \\\n",
       "0           audi      a4           1.8  1999         4      auto       f   18   \n",
       "1           audi      a4           1.8  1999         4    manual       f   21   \n",
       "2           audi      a4           2.0  2008         4    manual       f   20   \n",
       "3           audi      a4           2.0  2008         4      auto       f   21   \n",
       "4           audi      a4           2.8  1999         6      auto       f   16   \n",
       "..           ...     ...           ...   ...       ...       ...     ...  ...   \n",
       "229   volkswagen  passat           2.0  2008         4      auto       f   19   \n",
       "230   volkswagen  passat           2.0  2008         4    manual       f   21   \n",
       "231   volkswagen  passat           2.8  1999         6      auto       f   16   \n",
       "232   volkswagen  passat           2.8  1999         6    manual       f   18   \n",
       "233   volkswagen  passat           3.6  2008         6      auto       f   17   \n",
       "\n",
       "     highway_mileage fuel    class  \n",
       "0                 29    p  compact  \n",
       "1                 29    p  compact  \n",
       "2                 31    p  compact  \n",
       "3                 30    p  compact  \n",
       "4                 26    p  compact  \n",
       "..               ...  ...      ...  \n",
       "229               28    p  midsize  \n",
       "230               29    p  midsize  \n",
       "231               26    p  midsize  \n",
       "232               26    p  midsize  \n",
       "233               26    p  midsize  \n",
       "\n",
       "[234 rows x 11 columns]"
      ]
     },
     "execution_count": 32,
     "metadata": {},
     "output_type": "execute_result"
    }
   ],
   "source": [
    "ds_mycars = pd.read_csv('../1. Big_Data_분석기초/mycars.csv'); ds_mycars"
   ]
  },
  {
   "cell_type": "code",
   "execution_count": 33,
   "id": "8a17fa7e",
   "metadata": {},
   "outputs": [
    {
     "data": {
      "text/html": [
       "<div>\n",
       "<style scoped>\n",
       "    .dataframe tbody tr th:only-of-type {\n",
       "        vertical-align: middle;\n",
       "    }\n",
       "\n",
       "    .dataframe tbody tr th {\n",
       "        vertical-align: top;\n",
       "    }\n",
       "\n",
       "    .dataframe thead th {\n",
       "        text-align: right;\n",
       "    }\n",
       "</style>\n",
       "<table border=\"1\" class=\"dataframe\">\n",
       "  <thead>\n",
       "    <tr style=\"text-align: right;\">\n",
       "      <th></th>\n",
       "      <th>count</th>\n",
       "      <th>mean</th>\n",
       "      <th>std</th>\n",
       "      <th>min</th>\n",
       "      <th>25%</th>\n",
       "      <th>50%</th>\n",
       "      <th>75%</th>\n",
       "      <th>max</th>\n",
       "    </tr>\n",
       "    <tr>\n",
       "      <th>driving</th>\n",
       "      <th></th>\n",
       "      <th></th>\n",
       "      <th></th>\n",
       "      <th></th>\n",
       "      <th></th>\n",
       "      <th></th>\n",
       "      <th></th>\n",
       "      <th></th>\n",
       "    </tr>\n",
       "  </thead>\n",
       "  <tbody>\n",
       "    <tr>\n",
       "      <th>4</th>\n",
       "      <td>103.0</td>\n",
       "      <td>14.330097</td>\n",
       "      <td>2.874459</td>\n",
       "      <td>9.0</td>\n",
       "      <td>13.0</td>\n",
       "      <td>14.0</td>\n",
       "      <td>16.0</td>\n",
       "      <td>21.0</td>\n",
       "    </tr>\n",
       "    <tr>\n",
       "      <th>f</th>\n",
       "      <td>106.0</td>\n",
       "      <td>19.971698</td>\n",
       "      <td>3.626510</td>\n",
       "      <td>11.0</td>\n",
       "      <td>18.0</td>\n",
       "      <td>19.0</td>\n",
       "      <td>21.0</td>\n",
       "      <td>35.0</td>\n",
       "    </tr>\n",
       "    <tr>\n",
       "      <th>r</th>\n",
       "      <td>25.0</td>\n",
       "      <td>14.080000</td>\n",
       "      <td>2.215852</td>\n",
       "      <td>11.0</td>\n",
       "      <td>12.0</td>\n",
       "      <td>15.0</td>\n",
       "      <td>15.0</td>\n",
       "      <td>18.0</td>\n",
       "    </tr>\n",
       "  </tbody>\n",
       "</table>\n",
       "</div>"
      ],
      "text/plain": [
       "         count       mean       std   min   25%   50%   75%   max\n",
       "driving                                                          \n",
       "4        103.0  14.330097  2.874459   9.0  13.0  14.0  16.0  21.0\n",
       "f        106.0  19.971698  3.626510  11.0  18.0  19.0  21.0  35.0\n",
       "r         25.0  14.080000  2.215852  11.0  12.0  15.0  15.0  18.0"
      ]
     },
     "execution_count": 33,
     "metadata": {},
     "output_type": "execute_result"
    }
   ],
   "source": [
    "## 시내 연비 통계치\n",
    "ds_mycars.groupby('driving')['mpg'].describe()"
   ]
  },
  {
   "cell_type": "code",
   "execution_count": 34,
   "id": "cf8b181a",
   "metadata": {},
   "outputs": [
    {
     "data": {
      "text/html": [
       "<div>\n",
       "<style scoped>\n",
       "    .dataframe tbody tr th:only-of-type {\n",
       "        vertical-align: middle;\n",
       "    }\n",
       "\n",
       "    .dataframe tbody tr th {\n",
       "        vertical-align: top;\n",
       "    }\n",
       "\n",
       "    .dataframe thead th {\n",
       "        text-align: right;\n",
       "    }\n",
       "</style>\n",
       "<table border=\"1\" class=\"dataframe\">\n",
       "  <thead>\n",
       "    <tr style=\"text-align: right;\">\n",
       "      <th></th>\n",
       "      <th>count</th>\n",
       "      <th>mean</th>\n",
       "      <th>std</th>\n",
       "      <th>min</th>\n",
       "      <th>25%</th>\n",
       "      <th>50%</th>\n",
       "      <th>75%</th>\n",
       "      <th>max</th>\n",
       "    </tr>\n",
       "    <tr>\n",
       "      <th>driving</th>\n",
       "      <th></th>\n",
       "      <th></th>\n",
       "      <th></th>\n",
       "      <th></th>\n",
       "      <th></th>\n",
       "      <th></th>\n",
       "      <th></th>\n",
       "      <th></th>\n",
       "    </tr>\n",
       "  </thead>\n",
       "  <tbody>\n",
       "    <tr>\n",
       "      <th>4</th>\n",
       "      <td>103.0</td>\n",
       "      <td>19.174757</td>\n",
       "      <td>4.078704</td>\n",
       "      <td>12.0</td>\n",
       "      <td>17.0</td>\n",
       "      <td>18.0</td>\n",
       "      <td>22.0</td>\n",
       "      <td>28.0</td>\n",
       "    </tr>\n",
       "    <tr>\n",
       "      <th>f</th>\n",
       "      <td>106.0</td>\n",
       "      <td>28.160377</td>\n",
       "      <td>4.206881</td>\n",
       "      <td>17.0</td>\n",
       "      <td>26.0</td>\n",
       "      <td>28.0</td>\n",
       "      <td>29.0</td>\n",
       "      <td>44.0</td>\n",
       "    </tr>\n",
       "    <tr>\n",
       "      <th>r</th>\n",
       "      <td>25.0</td>\n",
       "      <td>21.000000</td>\n",
       "      <td>3.662877</td>\n",
       "      <td>15.0</td>\n",
       "      <td>17.0</td>\n",
       "      <td>21.0</td>\n",
       "      <td>24.0</td>\n",
       "      <td>26.0</td>\n",
       "    </tr>\n",
       "  </tbody>\n",
       "</table>\n",
       "</div>"
      ],
      "text/plain": [
       "         count       mean       std   min   25%   50%   75%   max\n",
       "driving                                                          \n",
       "4        103.0  19.174757  4.078704  12.0  17.0  18.0  22.0  28.0\n",
       "f        106.0  28.160377  4.206881  17.0  26.0  28.0  29.0  44.0\n",
       "r         25.0  21.000000  3.662877  15.0  17.0  21.0  24.0  26.0"
      ]
     },
     "execution_count": 34,
     "metadata": {},
     "output_type": "execute_result"
    }
   ],
   "source": [
    "## 고속도로 연비 통계치\n",
    "ds_mycars.groupby('driving')['highway_mileage'].describe()"
   ]
  },
  {
   "cell_type": "markdown",
   "id": "4a211416",
   "metadata": {},
   "source": [
    "### 213 page"
   ]
  },
  {
   "cell_type": "code",
   "execution_count": 35,
   "id": "b9c66fdb",
   "metadata": {},
   "outputs": [
    {
     "data": {
      "text/html": [
       "<div>\n",
       "<style scoped>\n",
       "    .dataframe tbody tr th:only-of-type {\n",
       "        vertical-align: middle;\n",
       "    }\n",
       "\n",
       "    .dataframe tbody tr th {\n",
       "        vertical-align: top;\n",
       "    }\n",
       "\n",
       "    .dataframe thead th {\n",
       "        text-align: right;\n",
       "    }\n",
       "</style>\n",
       "<table border=\"1\" class=\"dataframe\">\n",
       "  <thead>\n",
       "    <tr style=\"text-align: right;\">\n",
       "      <th>driving</th>\n",
       "      <th>Count</th>\n",
       "      <th>CumCnt</th>\n",
       "      <th>Percent</th>\n",
       "      <th>CumPct</th>\n",
       "    </tr>\n",
       "  </thead>\n",
       "  <tbody>\n",
       "    <tr>\n",
       "      <th>4</th>\n",
       "      <td>103</td>\n",
       "      <td>103</td>\n",
       "      <td>44.017094</td>\n",
       "      <td>44.017094</td>\n",
       "    </tr>\n",
       "    <tr>\n",
       "      <th>f</th>\n",
       "      <td>106</td>\n",
       "      <td>209</td>\n",
       "      <td>45.299145</td>\n",
       "      <td>89.316239</td>\n",
       "    </tr>\n",
       "    <tr>\n",
       "      <th>r</th>\n",
       "      <td>25</td>\n",
       "      <td>234</td>\n",
       "      <td>10.683761</td>\n",
       "      <td>100.000000</td>\n",
       "    </tr>\n",
       "  </tbody>\n",
       "</table>\n",
       "</div>"
      ],
      "text/plain": [
       "driving  Count  CumCnt    Percent      CumPct\n",
       "4          103     103  44.017094   44.017094\n",
       "f          106     209  45.299145   89.316239\n",
       "r           25     234  10.683761  100.000000"
      ]
     },
     "execution_count": 35,
     "metadata": {},
     "output_type": "execute_result"
    }
   ],
   "source": [
    "## 구동방식\n",
    "count = ds_mycars['driving'].value_counts().sort_index()\n",
    "\n",
    "cumcnt = np.cumsum(count)\n",
    "percent = count / sum(count) * 100\n",
    "cumpct = np.cumsum(percent)\n",
    "\n",
    "count_data = pd.DataFrame({'Count' : count, 'CumCnt' : cumcnt, 'Percent' :percent,\n",
    "                          'CumPct' : cumpct})\n",
    "count_data.columns.name = 'driving'\n",
    "count_data"
   ]
  },
  {
   "cell_type": "code",
   "execution_count": 36,
   "id": "677701c7",
   "metadata": {
    "scrolled": true
   },
   "outputs": [
    {
     "data": {
      "text/html": [
       "<div>\n",
       "<style scoped>\n",
       "    .dataframe tbody tr th:only-of-type {\n",
       "        vertical-align: middle;\n",
       "    }\n",
       "\n",
       "    .dataframe tbody tr th {\n",
       "        vertical-align: top;\n",
       "    }\n",
       "\n",
       "    .dataframe thead th {\n",
       "        text-align: right;\n",
       "    }\n",
       "</style>\n",
       "<table border=\"1\" class=\"dataframe\">\n",
       "  <thead>\n",
       "    <tr style=\"text-align: right;\">\n",
       "      <th>model</th>\n",
       "      <th>Count</th>\n",
       "      <th>CumCnt</th>\n",
       "      <th>Percent</th>\n",
       "      <th>CumPct</th>\n",
       "    </tr>\n",
       "  </thead>\n",
       "  <tbody>\n",
       "    <tr>\n",
       "      <th>4runner 4wd</th>\n",
       "      <td>6</td>\n",
       "      <td>6</td>\n",
       "      <td>2.564103</td>\n",
       "      <td>2.564103</td>\n",
       "    </tr>\n",
       "    <tr>\n",
       "      <th>a4</th>\n",
       "      <td>7</td>\n",
       "      <td>13</td>\n",
       "      <td>2.991453</td>\n",
       "      <td>5.555556</td>\n",
       "    </tr>\n",
       "    <tr>\n",
       "      <th>a4 quattro</th>\n",
       "      <td>8</td>\n",
       "      <td>21</td>\n",
       "      <td>3.418803</td>\n",
       "      <td>8.974359</td>\n",
       "    </tr>\n",
       "    <tr>\n",
       "      <th>a6 quattro</th>\n",
       "      <td>3</td>\n",
       "      <td>24</td>\n",
       "      <td>1.282051</td>\n",
       "      <td>10.256410</td>\n",
       "    </tr>\n",
       "    <tr>\n",
       "      <th>altima</th>\n",
       "      <td>6</td>\n",
       "      <td>30</td>\n",
       "      <td>2.564103</td>\n",
       "      <td>12.820513</td>\n",
       "    </tr>\n",
       "    <tr>\n",
       "      <th>c1500 suburban 2wd</th>\n",
       "      <td>5</td>\n",
       "      <td>35</td>\n",
       "      <td>2.136752</td>\n",
       "      <td>14.957265</td>\n",
       "    </tr>\n",
       "    <tr>\n",
       "      <th>camry</th>\n",
       "      <td>7</td>\n",
       "      <td>42</td>\n",
       "      <td>2.991453</td>\n",
       "      <td>17.948718</td>\n",
       "    </tr>\n",
       "    <tr>\n",
       "      <th>camry solara</th>\n",
       "      <td>7</td>\n",
       "      <td>49</td>\n",
       "      <td>2.991453</td>\n",
       "      <td>20.940171</td>\n",
       "    </tr>\n",
       "    <tr>\n",
       "      <th>caravan 2wd</th>\n",
       "      <td>11</td>\n",
       "      <td>60</td>\n",
       "      <td>4.700855</td>\n",
       "      <td>25.641026</td>\n",
       "    </tr>\n",
       "    <tr>\n",
       "      <th>civic</th>\n",
       "      <td>9</td>\n",
       "      <td>69</td>\n",
       "      <td>3.846154</td>\n",
       "      <td>29.487179</td>\n",
       "    </tr>\n",
       "    <tr>\n",
       "      <th>corolla</th>\n",
       "      <td>5</td>\n",
       "      <td>74</td>\n",
       "      <td>2.136752</td>\n",
       "      <td>31.623932</td>\n",
       "    </tr>\n",
       "    <tr>\n",
       "      <th>corvette</th>\n",
       "      <td>5</td>\n",
       "      <td>79</td>\n",
       "      <td>2.136752</td>\n",
       "      <td>33.760684</td>\n",
       "    </tr>\n",
       "    <tr>\n",
       "      <th>dakota pickup 4wd</th>\n",
       "      <td>9</td>\n",
       "      <td>88</td>\n",
       "      <td>3.846154</td>\n",
       "      <td>37.606838</td>\n",
       "    </tr>\n",
       "    <tr>\n",
       "      <th>durango 4wd</th>\n",
       "      <td>7</td>\n",
       "      <td>95</td>\n",
       "      <td>2.991453</td>\n",
       "      <td>40.598291</td>\n",
       "    </tr>\n",
       "    <tr>\n",
       "      <th>expedition 2wd</th>\n",
       "      <td>3</td>\n",
       "      <td>98</td>\n",
       "      <td>1.282051</td>\n",
       "      <td>41.880342</td>\n",
       "    </tr>\n",
       "    <tr>\n",
       "      <th>explorer 4wd</th>\n",
       "      <td>6</td>\n",
       "      <td>104</td>\n",
       "      <td>2.564103</td>\n",
       "      <td>44.444444</td>\n",
       "    </tr>\n",
       "    <tr>\n",
       "      <th>f150 pickup 4wd</th>\n",
       "      <td>7</td>\n",
       "      <td>111</td>\n",
       "      <td>2.991453</td>\n",
       "      <td>47.435897</td>\n",
       "    </tr>\n",
       "    <tr>\n",
       "      <th>forester awd</th>\n",
       "      <td>6</td>\n",
       "      <td>117</td>\n",
       "      <td>2.564103</td>\n",
       "      <td>50.000000</td>\n",
       "    </tr>\n",
       "    <tr>\n",
       "      <th>grand cherokee 4wd</th>\n",
       "      <td>8</td>\n",
       "      <td>125</td>\n",
       "      <td>3.418803</td>\n",
       "      <td>53.418803</td>\n",
       "    </tr>\n",
       "    <tr>\n",
       "      <th>grand prix</th>\n",
       "      <td>5</td>\n",
       "      <td>130</td>\n",
       "      <td>2.136752</td>\n",
       "      <td>55.555556</td>\n",
       "    </tr>\n",
       "    <tr>\n",
       "      <th>gti</th>\n",
       "      <td>5</td>\n",
       "      <td>135</td>\n",
       "      <td>2.136752</td>\n",
       "      <td>57.692308</td>\n",
       "    </tr>\n",
       "    <tr>\n",
       "      <th>impreza awd</th>\n",
       "      <td>8</td>\n",
       "      <td>143</td>\n",
       "      <td>3.418803</td>\n",
       "      <td>61.111111</td>\n",
       "    </tr>\n",
       "    <tr>\n",
       "      <th>jetta</th>\n",
       "      <td>9</td>\n",
       "      <td>152</td>\n",
       "      <td>3.846154</td>\n",
       "      <td>64.957265</td>\n",
       "    </tr>\n",
       "    <tr>\n",
       "      <th>k1500 tahoe 4wd</th>\n",
       "      <td>4</td>\n",
       "      <td>156</td>\n",
       "      <td>1.709402</td>\n",
       "      <td>66.666667</td>\n",
       "    </tr>\n",
       "    <tr>\n",
       "      <th>land cruiser wagon 4wd</th>\n",
       "      <td>2</td>\n",
       "      <td>158</td>\n",
       "      <td>0.854701</td>\n",
       "      <td>67.521368</td>\n",
       "    </tr>\n",
       "    <tr>\n",
       "      <th>malibu</th>\n",
       "      <td>5</td>\n",
       "      <td>163</td>\n",
       "      <td>2.136752</td>\n",
       "      <td>69.658120</td>\n",
       "    </tr>\n",
       "    <tr>\n",
       "      <th>maxima</th>\n",
       "      <td>3</td>\n",
       "      <td>166</td>\n",
       "      <td>1.282051</td>\n",
       "      <td>70.940171</td>\n",
       "    </tr>\n",
       "    <tr>\n",
       "      <th>mountaineer 4wd</th>\n",
       "      <td>4</td>\n",
       "      <td>170</td>\n",
       "      <td>1.709402</td>\n",
       "      <td>72.649573</td>\n",
       "    </tr>\n",
       "    <tr>\n",
       "      <th>mustang</th>\n",
       "      <td>9</td>\n",
       "      <td>179</td>\n",
       "      <td>3.846154</td>\n",
       "      <td>76.495726</td>\n",
       "    </tr>\n",
       "    <tr>\n",
       "      <th>navigator 2wd</th>\n",
       "      <td>3</td>\n",
       "      <td>182</td>\n",
       "      <td>1.282051</td>\n",
       "      <td>77.777778</td>\n",
       "    </tr>\n",
       "    <tr>\n",
       "      <th>new beetle</th>\n",
       "      <td>6</td>\n",
       "      <td>188</td>\n",
       "      <td>2.564103</td>\n",
       "      <td>80.341880</td>\n",
       "    </tr>\n",
       "    <tr>\n",
       "      <th>passat</th>\n",
       "      <td>7</td>\n",
       "      <td>195</td>\n",
       "      <td>2.991453</td>\n",
       "      <td>83.333333</td>\n",
       "    </tr>\n",
       "    <tr>\n",
       "      <th>pathfinder 4wd</th>\n",
       "      <td>4</td>\n",
       "      <td>199</td>\n",
       "      <td>1.709402</td>\n",
       "      <td>85.042735</td>\n",
       "    </tr>\n",
       "    <tr>\n",
       "      <th>ram 1500 pickup 4wd</th>\n",
       "      <td>10</td>\n",
       "      <td>209</td>\n",
       "      <td>4.273504</td>\n",
       "      <td>89.316239</td>\n",
       "    </tr>\n",
       "    <tr>\n",
       "      <th>range rover</th>\n",
       "      <td>4</td>\n",
       "      <td>213</td>\n",
       "      <td>1.709402</td>\n",
       "      <td>91.025641</td>\n",
       "    </tr>\n",
       "    <tr>\n",
       "      <th>sonata</th>\n",
       "      <td>7</td>\n",
       "      <td>220</td>\n",
       "      <td>2.991453</td>\n",
       "      <td>94.017094</td>\n",
       "    </tr>\n",
       "    <tr>\n",
       "      <th>tiburon</th>\n",
       "      <td>7</td>\n",
       "      <td>227</td>\n",
       "      <td>2.991453</td>\n",
       "      <td>97.008547</td>\n",
       "    </tr>\n",
       "    <tr>\n",
       "      <th>toyota tacoma 4wd</th>\n",
       "      <td>7</td>\n",
       "      <td>234</td>\n",
       "      <td>2.991453</td>\n",
       "      <td>100.000000</td>\n",
       "    </tr>\n",
       "  </tbody>\n",
       "</table>\n",
       "</div>"
      ],
      "text/plain": [
       "model                   Count  CumCnt   Percent      CumPct\n",
       "4runner 4wd                 6       6  2.564103    2.564103\n",
       "a4                          7      13  2.991453    5.555556\n",
       "a4 quattro                  8      21  3.418803    8.974359\n",
       "a6 quattro                  3      24  1.282051   10.256410\n",
       "altima                      6      30  2.564103   12.820513\n",
       "c1500 suburban 2wd          5      35  2.136752   14.957265\n",
       "camry                       7      42  2.991453   17.948718\n",
       "camry solara                7      49  2.991453   20.940171\n",
       "caravan 2wd                11      60  4.700855   25.641026\n",
       "civic                       9      69  3.846154   29.487179\n",
       "corolla                     5      74  2.136752   31.623932\n",
       "corvette                    5      79  2.136752   33.760684\n",
       "dakota pickup 4wd           9      88  3.846154   37.606838\n",
       "durango 4wd                 7      95  2.991453   40.598291\n",
       "expedition 2wd              3      98  1.282051   41.880342\n",
       "explorer 4wd                6     104  2.564103   44.444444\n",
       "f150 pickup 4wd             7     111  2.991453   47.435897\n",
       "forester awd                6     117  2.564103   50.000000\n",
       "grand cherokee 4wd          8     125  3.418803   53.418803\n",
       "grand prix                  5     130  2.136752   55.555556\n",
       "gti                         5     135  2.136752   57.692308\n",
       "impreza awd                 8     143  3.418803   61.111111\n",
       "jetta                       9     152  3.846154   64.957265\n",
       "k1500 tahoe 4wd             4     156  1.709402   66.666667\n",
       "land cruiser wagon 4wd      2     158  0.854701   67.521368\n",
       "malibu                      5     163  2.136752   69.658120\n",
       "maxima                      3     166  1.282051   70.940171\n",
       "mountaineer 4wd             4     170  1.709402   72.649573\n",
       "mustang                     9     179  3.846154   76.495726\n",
       "navigator 2wd               3     182  1.282051   77.777778\n",
       "new beetle                  6     188  2.564103   80.341880\n",
       "passat                      7     195  2.991453   83.333333\n",
       "pathfinder 4wd              4     199  1.709402   85.042735\n",
       "ram 1500 pickup 4wd        10     209  4.273504   89.316239\n",
       "range rover                 4     213  1.709402   91.025641\n",
       "sonata                      7     220  2.991453   94.017094\n",
       "tiburon                     7     227  2.991453   97.008547\n",
       "toyota tacoma 4wd           7     234  2.991453  100.000000"
      ]
     },
     "execution_count": 36,
     "metadata": {},
     "output_type": "execute_result"
    }
   ],
   "source": [
    "## 모델\n",
    "count = ds_mycars['model'].value_counts().sort_index()\n",
    "\n",
    "cumcnt = np.cumsum(count)\n",
    "percent = count / sum(count) * 100\n",
    "cumpct = np.cumsum(percent)\n",
    "\n",
    "count_data = pd.DataFrame({'Count' : count, 'CumCnt' : cumcnt, 'Percent' :percent,\n",
    "                          'CumPct' : cumpct})\n",
    "count_data.columns.name = 'model'\n",
    "count_data"
   ]
  },
  {
   "cell_type": "code",
   "execution_count": 37,
   "id": "962eea68",
   "metadata": {},
   "outputs": [
    {
     "data": {
      "text/html": [
       "<div>\n",
       "<style scoped>\n",
       "    .dataframe tbody tr th:only-of-type {\n",
       "        vertical-align: middle;\n",
       "    }\n",
       "\n",
       "    .dataframe tbody tr th {\n",
       "        vertical-align: top;\n",
       "    }\n",
       "\n",
       "    .dataframe thead th {\n",
       "        text-align: right;\n",
       "    }\n",
       "</style>\n",
       "<table border=\"1\" class=\"dataframe\">\n",
       "  <thead>\n",
       "    <tr style=\"text-align: right;\">\n",
       "      <th></th>\n",
       "      <th></th>\n",
       "      <th>Count</th>\n",
       "      <th>CumCnt</th>\n",
       "      <th>Percent</th>\n",
       "      <th>CumPct</th>\n",
       "    </tr>\n",
       "    <tr>\n",
       "      <th>model</th>\n",
       "      <th>driving</th>\n",
       "      <th></th>\n",
       "      <th></th>\n",
       "      <th></th>\n",
       "      <th></th>\n",
       "    </tr>\n",
       "  </thead>\n",
       "  <tbody>\n",
       "    <tr>\n",
       "      <th>4runner 4wd</th>\n",
       "      <th>4</th>\n",
       "      <td>6</td>\n",
       "      <td>6</td>\n",
       "      <td>2.564103</td>\n",
       "      <td>2.564103</td>\n",
       "    </tr>\n",
       "    <tr>\n",
       "      <th>a4</th>\n",
       "      <th>f</th>\n",
       "      <td>7</td>\n",
       "      <td>13</td>\n",
       "      <td>2.991453</td>\n",
       "      <td>5.555556</td>\n",
       "    </tr>\n",
       "    <tr>\n",
       "      <th>a4 quattro</th>\n",
       "      <th>4</th>\n",
       "      <td>8</td>\n",
       "      <td>21</td>\n",
       "      <td>3.418803</td>\n",
       "      <td>8.974359</td>\n",
       "    </tr>\n",
       "    <tr>\n",
       "      <th>a6 quattro</th>\n",
       "      <th>4</th>\n",
       "      <td>3</td>\n",
       "      <td>24</td>\n",
       "      <td>1.282051</td>\n",
       "      <td>10.256410</td>\n",
       "    </tr>\n",
       "    <tr>\n",
       "      <th>altima</th>\n",
       "      <th>f</th>\n",
       "      <td>6</td>\n",
       "      <td>30</td>\n",
       "      <td>2.564103</td>\n",
       "      <td>12.820513</td>\n",
       "    </tr>\n",
       "    <tr>\n",
       "      <th>c1500 suburban 2wd</th>\n",
       "      <th>r</th>\n",
       "      <td>5</td>\n",
       "      <td>35</td>\n",
       "      <td>2.136752</td>\n",
       "      <td>14.957265</td>\n",
       "    </tr>\n",
       "    <tr>\n",
       "      <th>camry</th>\n",
       "      <th>f</th>\n",
       "      <td>7</td>\n",
       "      <td>42</td>\n",
       "      <td>2.991453</td>\n",
       "      <td>17.948718</td>\n",
       "    </tr>\n",
       "    <tr>\n",
       "      <th>camry solara</th>\n",
       "      <th>f</th>\n",
       "      <td>7</td>\n",
       "      <td>49</td>\n",
       "      <td>2.991453</td>\n",
       "      <td>20.940171</td>\n",
       "    </tr>\n",
       "    <tr>\n",
       "      <th>caravan 2wd</th>\n",
       "      <th>f</th>\n",
       "      <td>11</td>\n",
       "      <td>60</td>\n",
       "      <td>4.700855</td>\n",
       "      <td>25.641026</td>\n",
       "    </tr>\n",
       "    <tr>\n",
       "      <th>civic</th>\n",
       "      <th>f</th>\n",
       "      <td>9</td>\n",
       "      <td>69</td>\n",
       "      <td>3.846154</td>\n",
       "      <td>29.487179</td>\n",
       "    </tr>\n",
       "    <tr>\n",
       "      <th>corolla</th>\n",
       "      <th>f</th>\n",
       "      <td>5</td>\n",
       "      <td>74</td>\n",
       "      <td>2.136752</td>\n",
       "      <td>31.623932</td>\n",
       "    </tr>\n",
       "    <tr>\n",
       "      <th>corvette</th>\n",
       "      <th>r</th>\n",
       "      <td>5</td>\n",
       "      <td>79</td>\n",
       "      <td>2.136752</td>\n",
       "      <td>33.760684</td>\n",
       "    </tr>\n",
       "    <tr>\n",
       "      <th>dakota pickup 4wd</th>\n",
       "      <th>4</th>\n",
       "      <td>9</td>\n",
       "      <td>88</td>\n",
       "      <td>3.846154</td>\n",
       "      <td>37.606838</td>\n",
       "    </tr>\n",
       "    <tr>\n",
       "      <th>durango 4wd</th>\n",
       "      <th>4</th>\n",
       "      <td>7</td>\n",
       "      <td>95</td>\n",
       "      <td>2.991453</td>\n",
       "      <td>40.598291</td>\n",
       "    </tr>\n",
       "    <tr>\n",
       "      <th>expedition 2wd</th>\n",
       "      <th>r</th>\n",
       "      <td>3</td>\n",
       "      <td>98</td>\n",
       "      <td>1.282051</td>\n",
       "      <td>41.880342</td>\n",
       "    </tr>\n",
       "    <tr>\n",
       "      <th>explorer 4wd</th>\n",
       "      <th>4</th>\n",
       "      <td>6</td>\n",
       "      <td>104</td>\n",
       "      <td>2.564103</td>\n",
       "      <td>44.444444</td>\n",
       "    </tr>\n",
       "    <tr>\n",
       "      <th>f150 pickup 4wd</th>\n",
       "      <th>4</th>\n",
       "      <td>7</td>\n",
       "      <td>111</td>\n",
       "      <td>2.991453</td>\n",
       "      <td>47.435897</td>\n",
       "    </tr>\n",
       "    <tr>\n",
       "      <th>forester awd</th>\n",
       "      <th>4</th>\n",
       "      <td>6</td>\n",
       "      <td>117</td>\n",
       "      <td>2.564103</td>\n",
       "      <td>50.000000</td>\n",
       "    </tr>\n",
       "    <tr>\n",
       "      <th>grand cherokee 4wd</th>\n",
       "      <th>4</th>\n",
       "      <td>8</td>\n",
       "      <td>125</td>\n",
       "      <td>3.418803</td>\n",
       "      <td>53.418803</td>\n",
       "    </tr>\n",
       "    <tr>\n",
       "      <th>grand prix</th>\n",
       "      <th>f</th>\n",
       "      <td>5</td>\n",
       "      <td>130</td>\n",
       "      <td>2.136752</td>\n",
       "      <td>55.555556</td>\n",
       "    </tr>\n",
       "    <tr>\n",
       "      <th>gti</th>\n",
       "      <th>f</th>\n",
       "      <td>5</td>\n",
       "      <td>135</td>\n",
       "      <td>2.136752</td>\n",
       "      <td>57.692308</td>\n",
       "    </tr>\n",
       "    <tr>\n",
       "      <th>impreza awd</th>\n",
       "      <th>4</th>\n",
       "      <td>8</td>\n",
       "      <td>143</td>\n",
       "      <td>3.418803</td>\n",
       "      <td>61.111111</td>\n",
       "    </tr>\n",
       "    <tr>\n",
       "      <th>jetta</th>\n",
       "      <th>f</th>\n",
       "      <td>9</td>\n",
       "      <td>152</td>\n",
       "      <td>3.846154</td>\n",
       "      <td>64.957265</td>\n",
       "    </tr>\n",
       "    <tr>\n",
       "      <th>k1500 tahoe 4wd</th>\n",
       "      <th>4</th>\n",
       "      <td>4</td>\n",
       "      <td>156</td>\n",
       "      <td>1.709402</td>\n",
       "      <td>66.666667</td>\n",
       "    </tr>\n",
       "    <tr>\n",
       "      <th>land cruiser wagon 4wd</th>\n",
       "      <th>4</th>\n",
       "      <td>2</td>\n",
       "      <td>158</td>\n",
       "      <td>0.854701</td>\n",
       "      <td>67.521368</td>\n",
       "    </tr>\n",
       "    <tr>\n",
       "      <th>malibu</th>\n",
       "      <th>f</th>\n",
       "      <td>5</td>\n",
       "      <td>163</td>\n",
       "      <td>2.136752</td>\n",
       "      <td>69.658120</td>\n",
       "    </tr>\n",
       "    <tr>\n",
       "      <th>maxima</th>\n",
       "      <th>f</th>\n",
       "      <td>3</td>\n",
       "      <td>166</td>\n",
       "      <td>1.282051</td>\n",
       "      <td>70.940171</td>\n",
       "    </tr>\n",
       "    <tr>\n",
       "      <th>mountaineer 4wd</th>\n",
       "      <th>4</th>\n",
       "      <td>4</td>\n",
       "      <td>170</td>\n",
       "      <td>1.709402</td>\n",
       "      <td>72.649573</td>\n",
       "    </tr>\n",
       "    <tr>\n",
       "      <th>mustang</th>\n",
       "      <th>r</th>\n",
       "      <td>9</td>\n",
       "      <td>179</td>\n",
       "      <td>3.846154</td>\n",
       "      <td>76.495726</td>\n",
       "    </tr>\n",
       "    <tr>\n",
       "      <th>navigator 2wd</th>\n",
       "      <th>r</th>\n",
       "      <td>3</td>\n",
       "      <td>182</td>\n",
       "      <td>1.282051</td>\n",
       "      <td>77.777778</td>\n",
       "    </tr>\n",
       "    <tr>\n",
       "      <th>new beetle</th>\n",
       "      <th>f</th>\n",
       "      <td>6</td>\n",
       "      <td>188</td>\n",
       "      <td>2.564103</td>\n",
       "      <td>80.341880</td>\n",
       "    </tr>\n",
       "    <tr>\n",
       "      <th>passat</th>\n",
       "      <th>f</th>\n",
       "      <td>7</td>\n",
       "      <td>195</td>\n",
       "      <td>2.991453</td>\n",
       "      <td>83.333333</td>\n",
       "    </tr>\n",
       "    <tr>\n",
       "      <th>pathfinder 4wd</th>\n",
       "      <th>4</th>\n",
       "      <td>4</td>\n",
       "      <td>199</td>\n",
       "      <td>1.709402</td>\n",
       "      <td>85.042735</td>\n",
       "    </tr>\n",
       "    <tr>\n",
       "      <th>ram 1500 pickup 4wd</th>\n",
       "      <th>4</th>\n",
       "      <td>10</td>\n",
       "      <td>209</td>\n",
       "      <td>4.273504</td>\n",
       "      <td>89.316239</td>\n",
       "    </tr>\n",
       "    <tr>\n",
       "      <th>range rover</th>\n",
       "      <th>4</th>\n",
       "      <td>4</td>\n",
       "      <td>213</td>\n",
       "      <td>1.709402</td>\n",
       "      <td>91.025641</td>\n",
       "    </tr>\n",
       "    <tr>\n",
       "      <th>sonata</th>\n",
       "      <th>f</th>\n",
       "      <td>7</td>\n",
       "      <td>220</td>\n",
       "      <td>2.991453</td>\n",
       "      <td>94.017094</td>\n",
       "    </tr>\n",
       "    <tr>\n",
       "      <th>tiburon</th>\n",
       "      <th>f</th>\n",
       "      <td>7</td>\n",
       "      <td>227</td>\n",
       "      <td>2.991453</td>\n",
       "      <td>97.008547</td>\n",
       "    </tr>\n",
       "    <tr>\n",
       "      <th>toyota tacoma 4wd</th>\n",
       "      <th>4</th>\n",
       "      <td>7</td>\n",
       "      <td>234</td>\n",
       "      <td>2.991453</td>\n",
       "      <td>100.000000</td>\n",
       "    </tr>\n",
       "  </tbody>\n",
       "</table>\n",
       "</div>"
      ],
      "text/plain": [
       "                                Count  CumCnt   Percent      CumPct\n",
       "model                  driving                                     \n",
       "4runner 4wd            4            6       6  2.564103    2.564103\n",
       "a4                     f            7      13  2.991453    5.555556\n",
       "a4 quattro             4            8      21  3.418803    8.974359\n",
       "a6 quattro             4            3      24  1.282051   10.256410\n",
       "altima                 f            6      30  2.564103   12.820513\n",
       "c1500 suburban 2wd     r            5      35  2.136752   14.957265\n",
       "camry                  f            7      42  2.991453   17.948718\n",
       "camry solara           f            7      49  2.991453   20.940171\n",
       "caravan 2wd            f           11      60  4.700855   25.641026\n",
       "civic                  f            9      69  3.846154   29.487179\n",
       "corolla                f            5      74  2.136752   31.623932\n",
       "corvette               r            5      79  2.136752   33.760684\n",
       "dakota pickup 4wd      4            9      88  3.846154   37.606838\n",
       "durango 4wd            4            7      95  2.991453   40.598291\n",
       "expedition 2wd         r            3      98  1.282051   41.880342\n",
       "explorer 4wd           4            6     104  2.564103   44.444444\n",
       "f150 pickup 4wd        4            7     111  2.991453   47.435897\n",
       "forester awd           4            6     117  2.564103   50.000000\n",
       "grand cherokee 4wd     4            8     125  3.418803   53.418803\n",
       "grand prix             f            5     130  2.136752   55.555556\n",
       "gti                    f            5     135  2.136752   57.692308\n",
       "impreza awd            4            8     143  3.418803   61.111111\n",
       "jetta                  f            9     152  3.846154   64.957265\n",
       "k1500 tahoe 4wd        4            4     156  1.709402   66.666667\n",
       "land cruiser wagon 4wd 4            2     158  0.854701   67.521368\n",
       "malibu                 f            5     163  2.136752   69.658120\n",
       "maxima                 f            3     166  1.282051   70.940171\n",
       "mountaineer 4wd        4            4     170  1.709402   72.649573\n",
       "mustang                r            9     179  3.846154   76.495726\n",
       "navigator 2wd          r            3     182  1.282051   77.777778\n",
       "new beetle             f            6     188  2.564103   80.341880\n",
       "passat                 f            7     195  2.991453   83.333333\n",
       "pathfinder 4wd         4            4     199  1.709402   85.042735\n",
       "ram 1500 pickup 4wd    4           10     209  4.273504   89.316239\n",
       "range rover            4            4     213  1.709402   91.025641\n",
       "sonata                 f            7     220  2.991453   94.017094\n",
       "tiburon                f            7     227  2.991453   97.008547\n",
       "toyota tacoma 4wd      4            7     234  2.991453  100.000000"
      ]
     },
     "execution_count": 37,
     "metadata": {},
     "output_type": "execute_result"
    }
   ],
   "source": [
    "## 구동방식 + 모델\n",
    "count = ds_mycars[['model','driving']].value_counts().sort_index()\n",
    "\n",
    "cumcnt = np.cumsum(count)\n",
    "percent = count / sum(count) * 100\n",
    "cumpct = np.cumsum(percent)\n",
    "\n",
    "count_data = pd.DataFrame({'Count' : count, 'CumCnt' : cumcnt, 'Percent' :percent,\n",
    "                          'CumPct' : cumpct})\n",
    "count_data"
   ]
  },
  {
   "cell_type": "markdown",
   "id": "a22b300b",
   "metadata": {},
   "source": [
    "### 226 page"
   ]
  },
  {
   "cell_type": "code",
   "execution_count": 38,
   "id": "b4eaf3a0",
   "metadata": {},
   "outputs": [],
   "source": [
    "mu = 175\n",
    "sigma = 5\n",
    "x1 = 180\n",
    "\n",
    "prob1 = stats.norm.cdf(x1, mu,sigma)"
   ]
  },
  {
   "cell_type": "code",
   "execution_count": 39,
   "id": "7582eb33",
   "metadata": {},
   "outputs": [
    {
     "name": "stdout",
     "output_type": "stream",
     "text": [
      "84.13 % , 즉 상위15.87%에 위치함\n"
     ]
    }
   ],
   "source": [
    "print(round((prob1)*100,2), '%', ', 즉 상위{}%에 위치함'.format(round((1-prob1)*100,2),), )\n"
   ]
  },
  {
   "cell_type": "markdown",
   "id": "a9632c1e",
   "metadata": {},
   "source": [
    "### 228 page   \n",
    "- 1)"
   ]
  },
  {
   "cell_type": "code",
   "execution_count": 40,
   "id": "2a2e74fd",
   "metadata": {},
   "outputs": [
    {
     "name": "stdout",
     "output_type": "stream",
     "text": [
      "15km 이상 달릴 확률은 0.159에 해당함\n"
     ]
    }
   ],
   "source": [
    "mu = 12\n",
    "sigma = 3\n",
    "x1 = 15\n",
    "\n",
    "prob1 = stats.norm.cdf(x1, mu,sigma)\n",
    "\n",
    "prob2 = stats.norm.cdf(x1, mu,sigma)\n",
    "\n",
    "\n",
    "\n",
    "print('{0}km 이상 달릴 확률은 {1:.3f}에 해당함'.format(x1, (1 -prob1)))"
   ]
  },
  {
   "cell_type": "markdown",
   "id": "d019241b",
   "metadata": {},
   "source": [
    "### 228 page   \n",
    "- 2)"
   ]
  },
  {
   "cell_type": "code",
   "execution_count": 41,
   "id": "f7c94818",
   "metadata": {},
   "outputs": [
    {
     "name": "stdout",
     "output_type": "stream",
     "text": [
      "68.0% 입니다\n"
     ]
    }
   ],
   "source": [
    "mu = 12\n",
    "sigma = 3\n",
    "x1 = 9\n",
    "\n",
    "prob1 = stats.norm.cdf(x1, mu,sigma)\n",
    "\n",
    "\n",
    "mu = 12\n",
    "sigma = 3\n",
    "x2 = 15\n",
    "\n",
    "prob2 = stats.norm.cdf(x2, mu,sigma)\n",
    "\n",
    "print(str(round(prob2 - prob1,2)*100) + '% 입니다')"
   ]
  },
  {
   "cell_type": "markdown",
   "id": "b561f710",
   "metadata": {},
   "source": [
    "### 236 page"
   ]
  },
  {
   "cell_type": "code",
   "execution_count": 42,
   "id": "34515a07",
   "metadata": {},
   "outputs": [
    {
     "name": "stdout",
     "output_type": "stream",
     "text": [
      "P(T<=t): 0.976\n"
     ]
    }
   ],
   "source": [
    "t = 2\n",
    "dof = 100\n",
    "prob = stats.t.cdf(t,dof)\n",
    "\n",
    "print(\"P(T<=t): {:.3f}\".format(prob))"
   ]
  },
  {
   "cell_type": "markdown",
   "id": "124820c2",
   "metadata": {},
   "source": [
    "### 239 page"
   ]
  },
  {
   "cell_type": "code",
   "execution_count": 43,
   "id": "b0a941f4",
   "metadata": {},
   "outputs": [
    {
     "name": "stdout",
     "output_type": "stream",
     "text": [
      "P(X<=3.0) : 0.0656\n"
     ]
    }
   ],
   "source": [
    "chisq = 3.0\n",
    "dof = 8\n",
    "\n",
    "prob = stats.chi2.cdf(chisq,dof)\n",
    "print(\"P(X<={0}) : {1:.4f}\".format(chisq, prob))"
   ]
  },
  {
   "cell_type": "markdown",
   "id": "334e750a",
   "metadata": {},
   "source": [
    "### 243 page"
   ]
  },
  {
   "cell_type": "code",
   "execution_count": 44,
   "id": "66ac94e0",
   "metadata": {},
   "outputs": [
    {
     "name": "stdout",
     "output_type": "stream",
     "text": [
      "P(X <= F): 0.850\n"
     ]
    }
   ],
   "source": [
    "f = 1.5\n",
    "dfnum = 10\n",
    "dfden = 100\n",
    "prob = stats.f.cdf(x=f, dfn = dfnum, dfd = dfden)\n",
    "\n",
    "print(\"P(X <= F): {:.3f}\".format(prob))"
   ]
  },
  {
   "cell_type": "markdown",
   "id": "7333a431",
   "metadata": {},
   "source": [
    "### 250 page"
   ]
  },
  {
   "cell_type": "code",
   "execution_count": 45,
   "id": "62f9736a",
   "metadata": {},
   "outputs": [
    {
     "name": "stdout",
     "output_type": "stream",
     "text": [
      "P(X=0) = 0.168\n",
      "P(X=1) = 0.360\n",
      "P(X=2) = 0.309\n",
      "P(X=3) = 0.132\n",
      "P(X=4) = 0.028\n",
      "P(X=5) = 0.002\n"
     ]
    }
   ],
   "source": [
    "n = 5\n",
    "for i in range(n+1):\n",
    "    prob = stats.binom.pmf(k=i, n=n, p=0.3)\n",
    "    print(\"P(X={0}) = {1:.3f}\".format(i,prob))"
   ]
  },
  {
   "cell_type": "code",
   "execution_count": null,
   "id": "9ce3ca9e",
   "metadata": {},
   "outputs": [],
   "source": []
  }
 ],
 "metadata": {
  "kernelspec": {
   "display_name": "Python 3 (ipykernel)",
   "language": "python",
   "name": "python3"
  },
  "language_info": {
   "codemirror_mode": {
    "name": "ipython",
    "version": 3
   },
   "file_extension": ".py",
   "mimetype": "text/x-python",
   "name": "python",
   "nbconvert_exporter": "python",
   "pygments_lexer": "ipython3",
   "version": "3.9.7"
  }
 },
 "nbformat": 4,
 "nbformat_minor": 5
}
